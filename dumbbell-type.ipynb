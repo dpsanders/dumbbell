{
 "metadata": {
  "language": "Julia",
  "name": "",
  "signature": "sha256:77c368319eeba101b82fea0c87a3c5f7e629d2f3aaa3900c5546af78749298fa"
 },
 "nbformat": 3,
 "nbformat_minor": 0,
 "worksheets": [
  {
   "cells": [
    {
     "cell_type": "code",
     "collapsed": false,
     "input": [
      "import Base.show\n",
      "type dumbbell\n",
      "    position::Vector\n",
      "    angle::Float64\n",
      "    velocity::Vector\n",
      "    omega::Float64\n",
      "    m::Float64\n",
      "    l::Float64\n",
      "    collision_counter::Int64\n",
      "    \n",
      "end\n",
      "\n",
      "show(io::IO, db::dumbbell)= print(io, \"CM: $(db.position); \u03b8: $(round((db.angle)%(2*pi),2)); Vcm: $(db.velocity); \u03c9: $(db.omega);\\\n",
      "m=$(db.m); l=$(db.l); I: $(round(db.m*db.l^2,2))\")"
     ],
     "language": "python",
     "metadata": {},
     "outputs": [
      {
       "metadata": {},
       "output_type": "pyout",
       "prompt_number": 98,
       "text": [
        "show (generic function with 90 methods)"
       ]
      }
     ],
     "prompt_number": 98
    },
    {
     "cell_type": "code",
     "collapsed": false,
     "input": [
      "manc=dumbbell([1.,1], 9pi+pi/3, [0.2, 2.1], 2, 1, 2, 0)"
     ],
     "language": "python",
     "metadata": {},
     "outputs": [
      {
       "metadata": {},
       "output_type": "pyout",
       "prompt_number": 56,
       "text": [
        "CM: [1.0,1.0]; \u03b8: 4.19; Vcm: [0.2,2.1]; \u03c9: 2.0; I: 4.0"
       ]
      }
     ],
     "prompt_number": 56
    },
    {
     "cell_type": "code",
     "collapsed": false,
     "input": [
      "function move(db::dumbbell, dt)\n",
      "    db.position += db.velocity*dt\n",
      "    db.angle += db.omega*dt\n",
      "    #db.angle = db.angle%(2pi)\n",
      "end"
     ],
     "language": "python",
     "metadata": {},
     "outputs": [
      {
       "metadata": {},
       "output_type": "pyout",
       "prompt_number": 54,
       "text": [
        "move (generic function with 1 method)"
       ]
      }
     ],
     "prompt_number": 54
    },
    {
     "cell_type": "code",
     "collapsed": false,
     "input": [
      "mover(manc, 1)\n",
      "manc"
     ],
     "language": "python",
     "metadata": {},
     "outputs": [
      {
       "metadata": {},
       "output_type": "pyout",
       "prompt_number": 5,
       "text": [
        "CM: [1.2,3.1]; \u03b8: 6.19; Vcm: [0.2,2.1]; \u03c9: 2.0; I: 0.04"
       ]
      }
     ],
     "prompt_number": 5
    },
    {
     "cell_type": "code",
     "collapsed": false,
     "input": [
      "function particle_position(db::dumbbell, part::Int, t=0) # define la posici\u00f3n de la part\u00edcula 'part' al tiempo 't'\n",
      "    x, y = db.position\n",
      "    vx, vy = db.velocity\n",
      "    \u03b8 = db.angle;    \u03c9 = db.omega\n",
      "    l = db.l\n",
      "    \u03b8_f = (\u03b8 + \u03c9*t)%(2pi) \n",
      "    \n",
      "    if part==1\n",
      "        x1 = x + vx*t + l*cos(\u03b8_f)\n",
      "        y1 = y + vy*t + l*sin(\u03b8_f) \n",
      "        \n",
      "        vx1 = vx - l*\u03c9*sin(\u03b8_f)\n",
      "        vy1 = vy + l*\u03c9*cos(\u03b8_f)\n",
      "        return [x1, y1, vx1, vy1]\n",
      "        \n",
      "    elseif part==2\n",
      "        x2 = x + vx*t - l*cos(\u03b8_f)\n",
      "        y2 = y + vy*t - l*sin(\u03b8_f) \n",
      "        \n",
      "        vx2 = vx + l*\u03c9*sin(\u03b8_f)\n",
      "        vy2 = vy - l*\u03c9*cos(\u03b8_f)\n",
      "        \n",
      "        return [x2, y2, vx2, vy2]\n",
      "        \n",
      "    else\n",
      "        println(\"No hay tantas part\u00edculas\")\n",
      "    end\n",
      "end\n",
      "\n"
     ],
     "language": "python",
     "metadata": {},
     "outputs": [
      {
       "metadata": {},
       "output_type": "pyout",
       "prompt_number": 6,
       "text": [
        "particle_position (generic function with 2 methods)"
       ]
      }
     ],
     "prompt_number": 6
    },
    {
     "cell_type": "code",
     "collapsed": false,
     "input": [
      "manc = dumbbell([1., 1.], pi/6, [2.1, 0.6], 2., 1, 0.2, 0)\n",
      "manc"
     ],
     "language": "python",
     "metadata": {},
     "outputs": [
      {
       "metadata": {},
       "output_type": "pyout",
       "prompt_number": 84,
       "text": [
        "CM: [1.0,1.0]; \u03b8: 0.52; Vcm: [2.1,0.6]; \u03c9: 2.0; I: 0.04"
       ]
      }
     ],
     "prompt_number": 84
    },
    {
     "cell_type": "code",
     "collapsed": false,
     "input": [
      "function reset_dummbell(db::dumbbell, original_position = [1., 1.], original_\u03b8=pi/6, original_velocity = [2.1, 0.6],\n",
      "    original_\u03c9=2.0)\n",
      "    db.position = original_position\n",
      "    db.velocity = original_velocity\n",
      "    db.angle = original_\u03b8\n",
      "    db.omega = original_\u03c9\n",
      "    db.collision_counter = 0;\n",
      "    \n",
      "    return \"Dumbbell reset\"\n",
      "end"
     ],
     "language": "python",
     "metadata": {},
     "outputs": [
      {
       "metadata": {},
       "output_type": "pyout",
       "prompt_number": 61,
       "text": [
        "reset_dummbell (generic function with 5 methods)"
       ]
      }
     ],
     "prompt_number": 61
    },
    {
     "cell_type": "code",
     "collapsed": false,
     "input": [
      "particle_position(manc, 1, 1.5), particle_position(manc, 2, 1.5)\n"
     ],
     "language": "python",
     "metadata": {},
     "outputs": [
      {
       "metadata": {},
       "output_type": "pyout",
       "prompt_number": 9,
       "text": [
        "([3.96442,1.82544,2.24911,0.228833],[4.33558,1.97456,1.95089,0.971167])"
       ]
      }
     ],
     "prompt_number": 9
    },
    {
     "cell_type": "code",
     "collapsed": false,
     "input": [
      "function ct_approx(db::dumbbell, w1, w2, direction, dt=0.01)\n",
      "    #= This function returns an *approximation* of the time needed for one of the particles of the dumbbell to collide with \n",
      "    the walls located at 'w1' and 'w2'. 'direction' specifies the orientation of the walls involved:\n",
      "    if they are vertical, only the motion on the x axis is relevant, hence, direction=1;\n",
      "    when they are horizontal, only the motion on the y axis needs to be considered, therefore, direction=2  ( end ) =#\n",
      "    \n",
      "    # positions of the particles 1 and 2, respectively, along the specified direction\n",
      "    r1 = particle_position(db, 1)[direction]\n",
      "    r2 = particle_position(db, 2)[direction]\n",
      "    \n",
      "    err = 1e-6\n",
      "    t_elapsed = 0.\n",
      "    \n",
      "    while w1 <= r1 <= w2 && w1 <= r2 <= w2\n",
      "        t_elapsed += dt\n",
      "            \n",
      "        r1 = particle_position(db, 1, t_elapsed)[direction]\n",
      "        r2 = particle_position(db, 2, t_elapsed)[direction]\n",
      "    end\n",
      "    #= The output is the last time when the condition of both particles being within 'w1' y 'w2'  was fulfilled; and\n",
      "    the time step used for the approximation  ( end )=#\n",
      "    t_elapsed - dt, dt \n",
      "    \n",
      "end\n",
      "        \n",
      "ct_approx(manc, -3, 3, 1), ct_approx(manc, -2, 2, 2)"
     ],
     "language": "python",
     "metadata": {},
     "outputs": [
      {
       "metadata": {},
       "output_type": "pyout",
       "prompt_number": 139,
       "text": [
        "((5.139999999999935,0.01),(1.9900000000000013,0.01))"
       ]
      }
     ],
     "prompt_number": 139
    },
    {
     "cell_type": "code",
     "collapsed": false,
     "input": [
      "particle_position(manc,1), particle_position(manc,2)"
     ],
     "language": "python",
     "metadata": {},
     "outputs": [
      {
       "metadata": {},
       "output_type": "pyout",
       "prompt_number": 140,
       "text": [
        "([2.07455,2.0,-1.15518,-2.2839],[2.42952,1.81561,-0.813905,-1.62693])"
       ]
      }
     ],
     "prompt_number": 140
    },
    {
     "cell_type": "code",
     "collapsed": false,
     "input": [
      "println(ct_approx(manc, -3, 3, 1))\n",
      "println(ct_approx(manc, -2, 2, 2,0.001))"
     ],
     "language": "python",
     "metadata": {},
     "outputs": [
      {
       "output_type": "stream",
       "stream": "stdout",
       "text": [
        "(5"
       ]
      },
      {
       "output_type": "stream",
       "stream": "stdout",
       "text": [
        ".139999999999935,0.01)\n",
        "(1.9909999999998915,0.001)\n"
       ]
      }
     ],
     "prompt_number": 141
    },
    {
     "cell_type": "code",
     "collapsed": false,
     "input": [
      "inertia_moment(m=1., l=0.2) = m*l^2  # this function gives the inertia moment of a dummbell with TOTAL mass 'm' and length '2l'\n",
      "\n",
      "function collision_transformation(v_i, \u03c9_i, \u03b1, l=0.2, m=1., I = inertia_moment(1, 0.2))\n",
      "    # with this function, the transformation of the velocity (normal to the wall) and the angular velocity after a collision is obtained; \n",
      "    # the input needed are the initial velocities (v_i, \u03c9_i),\n",
      "    # the angle between the angular coordinate of the dumbbell (\u03b8) and the normal to the wall of collission, \u03b1;\n",
      "    # and the mass, length and intertia moment of the dumbbell.\n",
      "    # The output are the new (normal component of the) velocity and angular velocity, v_f, \u03c9_f\n",
      "    \n",
      "    num_v = l^2*m*v_i -2*l*I*\u03c9_i*csc(\u03b1) - I*v_i*csc(\u03b1)^2 # numerator of v_f\n",
      "    denom_v = m*l^2 + I*csc(\u03b1)^2 # denominator of v_f\n",
      "    \n",
      "    v_f = num_v/denom_v\n",
      "    \n",
      "    num_\u03c9 = -l^2*m*\u03c9_i - 2*l*m*v_i*csc(\u03b1) + I*\u03c9_i*csc(\u03b1)^2\n",
      "    denom_\u03c9 = denom_v\n",
      "    \n",
      "    \u03c9_f = num_\u03c9/denom_\u03c9\n",
      "    \n",
      "    v_f, \u03c9_f\n",
      "end\n",
      "    "
     ],
     "language": "python",
     "metadata": {},
     "outputs": [
      {
       "metadata": {},
       "output_type": "pyout",
       "prompt_number": 11,
       "text": [
        "collision_transformation (generic function with 4 methods)"
       ]
      }
     ],
     "prompt_number": 11
    },
    {
     "cell_type": "code",
     "collapsed": false,
     "input": [
      "function directional_collision(db::dumbbell, walls, axis, \u03b4t=0.01)\n",
      "    vx, vy = db.velocity\n",
      "    \u03b8, \u03c9, l, m = db.angle, db.omega, db.l, db.m\n",
      "    I = inertia_moment(m, l)\n",
      "    w1, w2, = walls\n",
      "    \n",
      "    err = 1e-10\n",
      "               \n",
      "    tapprox, dt = ct_approx(db, w1, w2, axis, \u03b4t)     \n",
      "\n",
      "    tr1w1, tr1w2 = tapprox, tapprox\n",
      "\n",
      "    r1w1, v1w1 = particle_position(db, 1, tr1w1)[[axis,axis+2]]\n",
      "    r1w2, v1w2 = particle_position(db, 1, tr1w2)[[axis,axis+2]]\n",
      "\n",
      "    tr2w1, tr2w2 = tapprox, tapprox\n",
      "    r2w1, v2w1 = particle_position(db, 2, tr2w1)[[axis,axis+2]]\n",
      "    r2w2, v2w2 = particle_position(db, 2, tr2w2)[[axis,axis+2]]\n",
      "    \n",
      "    # condici\u00f3n de colisi\u00f3n: una de las part\u00edculas est\u00e1 a menos de 'err' de alguna pared \n",
      "    # y el tiempo para dicha colisi\u00f3n est\u00e1 en el intervalo (tapprox, tapprox + dt)\n",
      "\n",
      "    cond11 = ( abs(r1w1-w1)<err && tapprox < tr1w1 < tapprox + dt )\n",
      "    cond12 = ( abs(r1w2-w2)<err && tapprox < tr1w2 < tapprox + dt )\n",
      "    cond21 = ( abs(r2w1-w1)<err && tapprox < tr2w1 < tapprox + dt )\n",
      "    cond22 = ( abs(r2w2-w2)<err && tapprox < tr2w2 < tapprox + dt )\n",
      "\n",
      "    cond = ( cond11 || cond12 || cond21 || cond22 )\n",
      "    \n",
      "    \n",
      "    # aplicar Newton mientras NO se satisfaga 'cond'\n",
      "    n=0\n",
      "    while ~(cond)\n",
      "        tr1w1 = tr1w1 - (r1w1-w1)/v1w1\n",
      "        tr1w2 = tr1w2 - (r1w2-w2)/v1w2\n",
      "        r1w1, v1w1 = particle_position(db, 1, tr1w1)[[axis,axis+2]]\n",
      "        r1w2, v1w2 = particle_position(db, 1, tr1w2)[[axis,axis+2]]\n",
      "\n",
      "        tr2w1 = tr2w1 - (r2w1-w1)/v2w1\n",
      "        tr2w2 = tr2w2 - (r2w2-w2)/v2w2\n",
      "        r2w1, v2w1 = particle_position(db, 2, tr2w1)[[axis,axis+2]]\n",
      "        r2w2, v2w2 = particle_position(db, 2, tr2w2)[[axis,axis+2]]\n",
      "\n",
      "        #actualizar condici\u00f3n\n",
      "        d11 = abs(r1w1-w1); d12 = abs(r1w2-w2);\n",
      "        d21 = abs(r2w1-w1); d22 = abs(r2w2-w2);\n",
      "        cond11 = ( d11<err && tapprox < tr1w1 < tapprox + dt )\n",
      "        cond12 = ( d12<err && tapprox < tr1w2 < tapprox + dt )\n",
      "        cond21 = ( d21<err && tapprox < tr2w1 < tapprox + dt )\n",
      "        cond22 = ( d22<err && tapprox < tr2w2 < tapprox + dt )\n",
      "\n",
      "        cond = ( cond11 || cond12 || cond21 || cond22 )\n",
      "\n",
      "        n+=1\n",
      "        if n>300\n",
      "            tr1w1 =-1.; tr1w2 =-1.; tr2w1 =-1.; tr2w2 =-1.;\n",
      "            println(\"No converge\")\n",
      "            break\n",
      "        end\n",
      "    end\n",
      "    \n",
      "     # elegir cu\u00e1l es el tiempo correcto\n",
      "    if cond11\n",
      "        tc = tr1w1\n",
      "\n",
      "    elseif cond12\n",
      "        tc = tr1w2\n",
      "\n",
      "    elseif cond21\n",
      "        tc = tr2w1\n",
      "\n",
      "    elseif cond22\n",
      "        tc = tr2w2\n",
      "    end\n",
      "    \n",
      "    \u03b8 = (\u03b8 + \u03c9*tc)%(2pi) # angle position of the dumbbell when the collision occurs\n",
      "\n",
      "    if axis ==1  # collision in the 'x' direction (vertical walls)\n",
      "        if tc==tr1w1 || tc==tr1w2 # the first particle collides\n",
      "            \u03b1 = -\u03b8\n",
      "            part = 1\n",
      "        elseif tc==tr2w1 || tc==tr2w2 # the second particle collides\n",
      "            \u03b1 = \u03b8\n",
      "            part = 2\n",
      "        end\n",
      "        \n",
      "        v_f, \u03c9_f = collision_transformation(vx, \u03c9, \u03b1, l, m, I)\n",
      "        \n",
      "        return [tc, v_f, vy, \u03c9_f, part, axis, tr1w1, tr1w2, tr2w1, tr2w2]\n",
      "        \n",
      "        \n",
      "    elseif axis==2 # collision in the y direction (horizonta walls)\n",
      "        if tc==tr1w1 || tc==tr1w2 # the first particle collides\n",
      "            \u03b1 = pi/2 - \u03b8\n",
      "            part = 1\n",
      "        elseif tc==tr2w1 || tc==tr2w2 # the second particle collides\n",
      "            \u03b1 = \u03b8 - pi/2\n",
      "            part = 2\n",
      "        end\n",
      "        \n",
      "        v_f, \u03c9_f = collision_transformation(vy, \u03c9, \u03b1, l, m, I)\n",
      "        \n",
      "        return [tc, vx, v_f, \u03c9_f, part, axis, tr1w1, tr1w2, tr2w1, tr2w2]\n",
      "        \n",
      "    else\n",
      "        println(\"Incorrect direction\")\n",
      "    end\n",
      "        \n",
      "\n",
      "    \n",
      "end\n",
      "\n",
      "\n",
      "\n"
     ],
     "language": "python",
     "metadata": {},
     "outputs": [
      {
       "metadata": {},
       "output_type": "pyout",
       "prompt_number": 151,
       "text": [
        "directional_collision (generic function with 2 methods)"
       ]
      }
     ],
     "prompt_number": 151
    },
    {
     "cell_type": "code",
     "collapsed": false,
     "input": [
      "directional_collision(manc,[-2.,2],2)"
     ],
     "language": "python",
     "metadata": {},
     "outputs": [
      {
       "metadata": {},
       "output_type": "pyout",
       "prompt_number": 86,
       "text": [
        "10-element Array{Float64,1}:\n",
        "  1.52631 \n",
        "  2.1     \n",
        " -0.456467\n",
        " -2.79123 \n",
        "  2.0     \n",
        "  2.0     \n",
        "  3.93568 \n",
        "  2.02741 \n",
        " -4.66989 \n",
        "  1.52631 "
       ]
      }
     ],
     "prompt_number": 86
    },
    {
     "cell_type": "code",
     "collapsed": false,
     "input": [
      "directional_collision(manc, [-3,3], 1), directional_collision(manc, [-2,2], 1)"
     ],
     "language": "python",
     "metadata": {},
     "outputs": [
      {
       "metadata": {},
       "output_type": "pyout",
       "prompt_number": 87,
       "text": [
        "([0.888836,-0.984541,0.6,-9.48773,2.0,1.0,-1.76631,1.03353,-2.02498,0.888836],[0.465067,0.385569,0.6,10.5135,1.0,1.0,-1.32299,0.465067,-1.5173,0.483769])"
       ]
      }
     ],
     "prompt_number": 87
    },
    {
     "cell_type": "code",
     "collapsed": false,
     "input": [
      "function collision_particles(db::dumbbell, vert_walls = [-3, 3], horiz_walls =[-2, 2])\n",
      "    db.collision_counter += 1\n",
      "    \u03b4t = 0.01\n",
      "    tcx, vx_fx, vy_fx, \u03c9_fx, part_x = directional_collision(db, vert_walls, 1, \u03b4t)[1:5]\n",
      "    tcy, vx_fy, vy_fy, \u03c9_fy, part_y = directional_collision(db, horiz_walls, 2, \u03b4t)[1:5]\n",
      "    \n",
      "    if tcx < tcy && tcx >0\n",
      "        tc, vx_new, vy_new, \u03c9_new, part = tcx, vx_fx, vy_fx, \u03c9_fx, part_x\n",
      "        wall = \"vertical\"\n",
      "        \n",
      "    elseif tcy < tcx && tcy>0\n",
      "        tc, vx_new, vy_new, \u03c9_new, part = tcy, vx_fy, vy_fy, \u03c9_fy, part_y\n",
      "        wall = \"horizontal\"\n",
      "    else\n",
      "        return \"Error\"\n",
      "   \n",
      "    end\n",
      "    \n",
      "    move(db, tc) # this is the step where the dumbbell is moved to the next collision point\n",
      "    \n",
      "    db.velocity = [vx_new, vy_new]\n",
      "    db.omega = \u03c9_new\n",
      "    \n",
      "    x1, y1 = particle_position(db, 1)\n",
      "    x2, y2 = particle_position(db, 2)\n",
      "    \n",
      "    return [x1, y1, x2, y2, tc, part, wall, db.collision_counter]\n",
      "    \n",
      "end\n",
      "    \n",
      "    \n",
      "    "
     ],
     "language": "python",
     "metadata": {},
     "outputs": [
      {
       "metadata": {},
       "output_type": "pyout",
       "prompt_number": 20,
       "text": [
        "collision_particles (generic function with 3 methods)"
       ]
      }
     ],
     "prompt_number": 20
    },
    {
     "cell_type": "code",
     "collapsed": false,
     "input": [
      "reset_dummbell(manc)\n",
      "collision_particles(manc)"
     ],
     "language": "python",
     "metadata": {},
     "outputs": [
      {
       "metadata": {},
       "output_type": "pyout",
       "prompt_number": 88,
       "text": [
        "8-element Array{Any,1}:\n",
        " 2.73311    \n",
        " 1.68227    \n",
        " 3.0        \n",
        " 1.38433    \n",
        " 0.888836   \n",
        " 2.0        \n",
        "  \"vertical\"\n",
        " 1          "
       ]
      }
     ],
     "prompt_number": 88
    },
    {
     "cell_type": "code",
     "collapsed": false,
     "input": [
      "function collision(db::dumbbell, \u03b4t=0.005, vert_walls = [-3, 3], horiz_walls =[-2, 2])\n",
      "    db.collision_counter += 1\n",
      "    #\u03b4t = 0.005\n",
      "    tcx, vx_fx, vy_fx, \u03c9_fx, part_x = directional_collision(db, vert_walls, 1, \u03b4t)[1:5]\n",
      "    tcy, vx_fy, vy_fy, \u03c9_fy, part_y = directional_collision(db, horiz_walls, 2, \u03b4t)[1:5]\n",
      "    \n",
      "    x_0, y_0 = db.position; \u03b8_0 = db.angle\n",
      "    vx_0, vy_0 = db.velocity; \u03c9_0 = db.omega\n",
      "    l = db.l; m = db.m; I = inertia_moment(m,l)\n",
      "    \n",
      "    \n",
      "    # vector del espacio fase inicial (antes de que la mancuerna se mueva hacia el punto de colisi\u00f3n)\n",
      "    \u0393_0 = [x_0, y_0, \u03b8_0, vx_0, vy_0, I*\u03c9_0]\n",
      "    \n",
      "    if tcx < tcy && tcx >0\n",
      "        tc, vx_new, vy_new, \u03c9_new, part = tcx, vx_fx, vy_fx, \u03c9_fx, part_x\n",
      "        wall = \"vertical\"\n",
      "        \n",
      "    elseif tcy < tcx && tcy>0\n",
      "        tc, vx_new, vy_new, \u03c9_new, part = tcy, vx_fy, vy_fy, \u03c9_fy, part_y\n",
      "        wall = \"horizontal\"\n",
      "    else\n",
      "        return \"Error\"\n",
      "        \n",
      "    end\n",
      "    \n",
      "    move(db,tc) # the dumbbell is moved to the collision point\n",
      "           \n",
      "    db.velocity = [vx_new, vy_new]\n",
      "    db.omega = \u03c9_new\n",
      "    x_f, y_f = db.position; \u03b8_f = db.angle\n",
      "    \n",
      "    #println(db)\n",
      "    \n",
      "    \u0393_f = [x_f, y_f, \u03b8_f, vx_new, vy_new, I*\u03c9_new]\n",
      "    \n",
      "    return (\u0393_0, \u0393_f, wall, part, tc)\n",
      "    \n",
      "end\n",
      "    \n",
      "    "
     ],
     "language": "python",
     "metadata": {},
     "outputs": [
      {
       "metadata": {},
       "output_type": "pyout",
       "prompt_number": 154,
       "text": [
        "collision (generic function with 4 methods)"
       ]
      }
     ],
     "prompt_number": 154
    },
    {
     "cell_type": "code",
     "collapsed": false,
     "input": [
      "reset_dummbell(manc)\n",
      "manc"
     ],
     "language": "python",
     "metadata": {},
     "outputs": [
      {
       "metadata": {},
       "output_type": "pyout",
       "prompt_number": 102,
       "text": [
        "CM: [1.0,1.0]; \u03b8: 0.52; Vcm: [2.1,0.6]; \u03c9: 2.0;\n",
        "m=1.0; l=0.2; I: 0.04"
       ]
      }
     ],
     "prompt_number": 102
    },
    {
     "cell_type": "code",
     "collapsed": false,
     "input": [
      "reset_dummbell(manc)\n",
      "\n",
      "collision(manc)\n",
      "collision(manc)\n",
      "println(manc)\n",
      "println(directional_collision(manc,[-3,3],1)) # tc, v_f, vy, \u03c9_f, part, axis, times\n",
      "println(directional_collision(manc,[-2,2],2))  # tc, vx, v_f, \u03c9_f, part, axis, times"
     ],
     "language": "python",
     "metadata": {},
     "outputs": [
      {
       "output_type": "stream",
       "stream": "stdout",
       "text": [
        "CM: [2.2520334764844945,1.9078040349319862]; \u03b8: -3.62; Vcm: [-0.9845412708576249,-1.9554181632127916]; \u03c9: 1.8507991041410095; I: 0.04\n"
       ]
      },
      {
       "output_type": "stream",
       "stream": "stdout",
       "text": [
        "[5"
       ]
      },
      {
       "output_type": "stream",
       "stream": "stdout",
       "text": [
        ".145845167639616,0.9878131716660131,-1.9554181632127916,-1.8066885790074998,2.0,1.0,5.527946728579178,-0.49643889526264817,5.145845167639616,-0.7870697341587893]\n",
        "[1.9917421904248156,-0.9845412708576249,0.37437236361633786,-9.773080143100191,2.0,2.0,2.0082758316653866,0.03943106929321871,1.9917421904248156,-0.1185790964841732]\n"
       ]
      }
     ],
     "prompt_number": 152
    },
    {
     "cell_type": "code",
     "collapsed": false,
     "input": [
      "println(ct_approx(manc, -3, 3, 1))\n",
      "println(ct_approx(manc, -2, 2, 2))"
     ],
     "language": "python",
     "metadata": {},
     "outputs": [
      {
       "output_type": "stream",
       "stream": "stdout",
       "text": [
        "(5"
       ]
      },
      {
       "output_type": "stream",
       "stream": "stdout",
       "text": [
        ".139999999999935,0.01)\n",
        "(1.9900000000000013,0.01)\n"
       ]
      }
     ],
     "prompt_number": 149
    },
    {
     "cell_type": "code",
     "collapsed": false,
     "input": [
      "println(directional_collision(manc, [-3,3], 1))\n",
      "println(directional_collision(manc, [-2,2], 2))"
     ],
     "language": "python",
     "metadata": {},
     "outputs": [
      {
       "output_type": "stream",
       "stream": "stdout",
       "text": [
        "[5"
       ]
      },
      {
       "output_type": "stream",
       "stream": "stdout",
       "text": [
        ".145845167639616,0.9878131716660131,-1.9554181632127916,-1.8066885790074998,2.0,1.0,5.527946728579178,-0.49643889526264817,5.145845167639616,-0.7870697341587893]\n",
        "[-2.755976789710648e-17,-0.9845412708576249,0.5999999999999999,-9.487726922158506,1.0,2.0,2.0082758316648026,-2.755976789710648e-17,1.9917421904248118,-0.11196325548007625]\n"
       ]
      }
     ],
     "prompt_number": 150
    },
    {
     "cell_type": "code",
     "collapsed": false,
     "input": [
      "reset_dummbell(manc)\n",
      "\n",
      "for i in 1:4\n",
      "    tc = collision(manc)[end]\n",
      "    x1, y1 = particle_position(manc,1)\n",
      "    x2, y2 = particle_position(manc,2)\n",
      "    println(x1,\"\\t\", y1, \"\\t\", x2, \"\\t\", y2, \"\\t ct=\",tc, \"\\t cc=\", manc.collision_counter)\n",
      "end"
     ],
     "language": "python",
     "metadata": {},
     "outputs": [
      {
       "output_type": "stream",
       "stream": "stdout",
       "text": [
        "2."
       ]
      },
      {
       "output_type": "stream",
       "stream": "stdout",
       "text": [
        "7331108122041003\t1.682273153840318\t2.999999999999294\t1.384329935360652\t ct=0.8888359076674748\t cc=1\n",
        "2.074551353370144\t2.0\t2.429515599598845\t1.8156080698639725\t ct=0.6241708172191687\t cc=2\n",
        "0.49065060599094834\t-1.9737696413238575\t0.0915115722148456\t-2.0000000000000004\t ct=1.9917421904248156\t cc=3\n",
        "No converge\n"
       ]
      },
      {
       "ename": "LoadError",
       "evalue": "tc not defined\nwhile loading In[155], in expression starting on line 3",
       "output_type": "pyerr",
       "traceback": [
        "tc not defined\nwhile loading In[155], in expression starting on line 3",
        " in directional_collision at In[151]:79",
        " in collision at In[154]:5",
        " in collision at In[154]:2",
        " in anonymous at no file:4"
       ]
      }
     ],
     "prompt_number": 155
    }
   ],
   "metadata": {}
  }
 ]
}