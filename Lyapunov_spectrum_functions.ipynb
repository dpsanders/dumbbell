{
 "cells": [
  {
   "cell_type": "code",
   "execution_count": 1,
   "metadata": {
    "collapsed": false
   },
   "outputs": [
    {
     "data": {
      "text/plain": [
       "evol_δΓ (generic function with 3 methods)"
      ]
     },
     "execution_count": 1,
     "metadata": {},
     "output_type": "execute_result"
    }
   ],
   "source": [
    "cd(\"/home/rafael/UNAM/Sanders/Mancuerna/Dumbbell/Dumbbell-Julia/Codigo-julia\")\n",
    "\n",
    "include(\"dumbbell_type.jl\")\n",
    "include(\"Gram_Schmidt.jl\")\n",
    "include(\"dumbbell_lyapunov_functions.jl\")\n"
   ]
  },
  {
   "cell_type": "code",
   "execution_count": 2,
   "metadata": {
    "collapsed": false
   },
   "outputs": [
    {
     "data": {
      "text/plain": [
       "2x2 Array{Int32,2}:\n",
       " -3  -2\n",
       "  3   2"
      ]
     },
     "execution_count": 2,
     "metadata": {},
     "output_type": "execute_result"
    }
   ],
   "source": [
    "walls=reshape([[-3, 3], [-2, 2]], 2, 2)"
   ]
  },
  {
   "cell_type": "code",
   "execution_count": 3,
   "metadata": {
    "collapsed": false
   },
   "outputs": [
    {
     "data": {
      "text/plain": [
       "([-3,3],[-2,2])"
      ]
     },
     "execution_count": 3,
     "metadata": {},
     "output_type": "execute_result"
    }
   ],
   "source": [
    "hw = walls[1:2]\n",
    "vw = walls[3:4]\n",
    "\n",
    "hw, vw"
   ]
  },
  {
   "cell_type": "code",
   "execution_count": 16,
   "metadata": {
    "collapsed": false
   },
   "outputs": [
    {
     "data": {
      "text/plain": [
       "3-element Array{Int32,1}:\n",
       " 1\n",
       " 2\n",
       " 4"
      ]
     },
     "execution_count": 16,
     "metadata": {},
     "output_type": "execute_result"
    }
   ],
   "source": [
    "num, lets = ([1,2,4], [5,6,7])\n",
    "num"
   ]
  },
  {
   "cell_type": "code",
   "execution_count": 21,
   "metadata": {
    "collapsed": false
   },
   "outputs": [
    {
     "name": "stdout",
     "output_type": "stream",
     "text": [
      "Base.error(message::String)\n",
      "\n",
      "   Raise an error with the given message\n"
     ]
    }
   ],
   "source": [
    "?error"
   ]
  },
  {
   "cell_type": "code",
   "execution_count": 26,
   "metadata": {
    "collapsed": false
   },
   "outputs": [
    {
     "data": {
      "text/plain": [
       "check_dumbbell_test (generic function with 1 method)"
      ]
     },
     "execution_count": 26,
     "metadata": {},
     "output_type": "execute_result"
    }
   ],
   "source": [
    "function check_dumbbell_test(check_frequency, db::dumbbell, walls, exponents)\n",
    "    cc = db.collision_counter\n",
    "    cf = check_frequency\n",
    "    if cc%cf==0\n",
    "        exp_time, exp_cc = exponents\n",
    "        sum1 = 0.; sum2 = 0.\n",
    "        for j in 1:6\n",
    "            sum1 += exp_time[cc,j]\n",
    "            sum2 += exp_cc[cc,j]\n",
    "        end\n",
    "        \n",
    "        println(\"Sum of Lyapunov Exponentes after \\t\"*string(cc)*\" collisions\")\n",
    "        println(sum1, \"\\t\", sum2)\n",
    "        \n",
    "        x1, y1 = particle_position(db, 1)[1:2];   x2, y2 = particle_position(db, 2)[1:2]\n",
    "        vert_walls = walls[1:2]; horiz_walls = walls[3:4] # coordinates of the vertical and horizontal walls, respectively \n",
    "        err = 1e-10\n",
    "        \n",
    "        if ~(minimum(vert_walls)-err< x1 < maximum(vert_walls)+err) || \n",
    "            ~(minimum(vert_walls)-err< x2 < maximum(vert_walls)+err) ||\n",
    "            ~(minimum(horiz_walls)-err< y1 < maximum(horiz_walls)+err) || \n",
    "            ~(minimum(horiz_walls)-err< y2 < maximum(horiz_walls)+err)\n",
    "            \n",
    "            println(\"Dumbbell position\\n(particle 1; particle 2)\")\n",
    "            println(x1,\"\\t\", y1,\";\\t\", x2,\"\\t\", y2)\n",
    "            \n",
    "            error(\"The dumbbell is out of the billiard\")\n",
    "            \n",
    "        end\n",
    "        \n",
    "    end\n",
    "    \n",
    "end\n",
    "        \n",
    "    "
   ]
  },
  {
   "cell_type": "code",
   "execution_count": 27,
   "metadata": {
    "collapsed": false
   },
   "outputs": [
    {
     "data": {
      "text/plain": [
       "lyapunov_spectrum (generic function with 3 methods)"
      ]
     },
     "execution_count": 27,
     "metadata": {},
     "output_type": "execute_result"
    }
   ],
   "source": [
    "function disp_vecs_transformation(db::dumbbell, walls, norm_disp_vecs)\n",
    "    \n",
    "    ### Given a state of the dumbbell, 'db', inside thw billiard with frontiers, 'walls,\n",
    "    ### And a set of normalized displacement vectors, 'norm_disp_vecs',\n",
    "    ### This function will calculate the evolution of the displacement vectors (DV); their transformation\n",
    "    ### during the collision, and a new set of orthogonal and orthonormal vectors: 'ortho_disp_vecs'; \n",
    "    ### norm_disp_vecs2.\n",
    "    ### The output is a tuple of the collision time ('tc') it took the dumbbell to reach for the next wall,\n",
    "    ### ortho_disp_vecs, and norm_disp_vecs2\n",
    "    \n",
    "    vert_walls = walls[1:2]; horiz_walls = walls[3:4] # coordinates of the vertical and horizontal walls, respectively \n",
    "\n",
    "    Γ0,  Γf, wall, part, ct = collision(db, vert_walls, horiz_walls)\n",
    "    \n",
    "    disp_vecs0 = Array{Float64}[]\n",
    "    for v in norm_disp_vecs\n",
    "        vf = evol_δΓ(v, ct, l0, m0) # evolution of each of the initial normalized DV\n",
    "        push!(disp_vecs0, [vf])\n",
    "    end\n",
    "\n",
    "    disp_vecs_F = Array{Float64}[]\n",
    "    for dΓ in disp_vecs0\n",
    "        dΓp = displacement_vector_collision_map(Γ0, dΓ, part, wall, l0, m0)\n",
    "        push!(disp_vecs_F, [dΓp])\n",
    "    end\n",
    "    \n",
    "    ortho_disp_vecs, norm_disp_vecs2 = Gram_Schmidt(disp_vecs_F)\n",
    "    \n",
    "    ct, ortho_disp_vecs, norm_disp_vecs2\n",
    "end\n",
    "\n",
    "function lyapunov_spectrum(db::dumbbell, walls, N, check=false, check_times=3)\n",
    "    # N=number of collisions\n",
    "    srand(5) #seed for random number generator  \n",
    "    \n",
    "    # in case 'check' variable is True, every 'check_frequency' collisions,\n",
    "    # the sum of the exponents will be computed and a test will be run to guarantee that the dumbbell\n",
    "    # is within the frontiers of the billiard (+/- the error with which a collision is determined)\n",
    "    check_frequency = int(N/check_times)  \n",
    "    \n",
    "    rand_vecs = ([rand(6) for i in 1:6]) # initial random displacement vectors\n",
    "    ortho_disp_vecs, norm_disp_vecs = Gram_Schmidt(rand_vecs)  # initial DV, orthogonalized and orthonormalized\n",
    "    \n",
    "    col_count = 0 # collision counter\n",
    "\n",
    "    λ_col = zeros(Float64,N,6); λ_time = zeros(Float64,N,6) #value of the LEs\n",
    "    χs = zeros(Float64,N,6) # log of the norm of (the sum of) the DV\n",
    "    \n",
    "    # arrays of the collision time and the total elapsed time (until each collision)\n",
    "    col_times = Float64[]; elapsed_time = Float64[]; \n",
    "    t_T= 0. # initial time\n",
    "    \n",
    "    # main loop for calculating the LEs for the N collisions\n",
    "    for k in 1:N\n",
    "        col_count += 1\n",
    "        \n",
    "        #collision time, orthogonal vectors, orthonormal vectors after the k-th collision\n",
    "        ct, O_vecs, ON_vecs = disp_vecs_transformation(db, walls, norm_disp_vecs)\n",
    "        \n",
    "        t_T += ct # add the current collision time to the elapsed time\n",
    "        push!(elapsed_time, t_T);  push!(col_times, ct) # register the times\n",
    "        \n",
    "        for (j,ov) in enumerate(O_vecs)\n",
    "            if k>1\n",
    "                χs[k, j] = χs[k-1, j] + log(norm(ov))\n",
    "            else\n",
    "                χs[1,j] = log(norm(ov))\n",
    "            end\n",
    "            \n",
    "            # LEs obtained with the number of collisions and the elapsed time \n",
    "            λ_col[k,j] = χs[k,j]/(k); λ_time[k,j] = χs[k,j]/t_T \n",
    "        end\n",
    "        \n",
    "        if check\n",
    "            check_dumbbell_test(check_frequency, db, walls, (λ_col, λ_time))\n",
    "        end\n",
    "            \n",
    "        \n",
    "        norm_disp_vecs = ON_vecs # set the new DV as the normalized DV after the collision\n",
    "        \n",
    "    end\n",
    "    \n",
    "    λ_col, λ_time, elapsed_time, col_times\n",
    "end"
   ]
  },
  {
   "cell_type": "code",
   "execution_count": 30,
   "metadata": {
    "collapsed": false
   },
   "outputs": [
    {
     "name": "stdout",
     "output_type": "stream",
     "text": [
      "Sum of Lyapunov Exponentes after \t10 collisions\n",
      "1.9317880628477724e-14\t1.6209256159527285e-14\n",
      "Sum of Lyapunov Exponentes after \t20 collisions\n",
      "1.0880185641326534e-14\t8.659739592076221e-15\n",
      "Sum of Lyapunov Exponentes after \t30 collisions\n",
      "-2.2670754162845697e-13\t-1.7186252421197423e-13\n",
      "Sum of Lyapunov Exponentes after \t40 collisions\n",
      "-1.7275070263167436e-13\t-1.2856382625159313e-13\n",
      "Sum of Lyapunov Exponentes after \t50 collisions\n",
      "-1.3078427230084344e-13\t-9.459100169806334e-14\n",
      "Sum of Lyapunov Exponentes after \t60 collisions\n",
      "-1.092459456231154e-13\t-8.393286066166183e-14\n",
      "Sum of Lyapunov Exponentes after \t70 collisions\n",
      "-8.593126210598712e-14\t-5.417888360170764e-14\n",
      "Sum of Lyapunov Exponentes after \t80 collisions\n",
      "-7.260858581048524e-14\t-4.463096558993129e-14\n",
      "Sum of Lyapunov Exponentes after \t90 collisions\n",
      "-5.950795411990839e-14\t-3.708144902248023e-14\n",
      "Sum of Lyapunov Exponentes after \t100 collisions\n",
      "-4.063416270128073e-14\t-2.55351295663786e-14\n"
     ]
    },
    {
     "data": {
      "text/plain": [
       "(\n",
       "100x6 Array{Float64,2}:\n",
       " 2.25869  1.85146   0.389209   -0.778905   -0.249198  -3.47125\n",
       " 1.62169  1.159     0.554522   -0.38981    -0.913962  -2.03144\n",
       " 2.22333  1.57687   0.566597   -0.310255   -1.84241   -2.21413\n",
       " 1.52041  0.783152  0.425829   -0.172616   -1.1008    -1.45598\n",
       " 1.96325  0.977456  0.421425   -0.257026   -1.22746   -1.87764\n",
       " 1.75712  1.0264    0.6871     -0.237708   -1.04723   -2.18568\n",
       " 1.92084  1.16304   0.264365   -0.166461   -1.07624   -2.10554\n",
       " 1.91366  1.04765   0.0873642  -0.0589306  -0.779537  -2.21021\n",
       " 1.54265  0.959909  0.120417   -0.0491905  -0.601016  -1.97277\n",
       " 1.48107  0.835131  0.118432    0.098121   -0.682031  -1.85072\n",
       " 1.38484  0.789874  0.107156    0.136821   -0.656163  -1.76253\n",
       " 1.49967  0.825813  0.155631   -0.185882   -0.58041   -1.71482\n",
       " 1.3852   0.790973  0.146869   -0.199938   -0.562658  -1.56044\n",
       " ⋮                                                     ⋮      \n",
       " 1.73567  0.95439   0.448988   -0.384219   -0.899433  -1.85539\n",
       " 1.71492  0.933169  0.442349   -0.377371   -0.881014  -1.83205\n",
       " 1.72147  0.931032  0.443182   -0.379076   -0.88066   -1.83595\n",
       " 1.73815  0.936966  0.441746   -0.380317   -0.89372   -1.84283\n",
       " 1.77849  0.95123   0.449999   -0.387355   -0.939376  -1.85299\n",
       " 1.77955  0.953663  0.450106   -0.393986   -0.932602  -1.85673\n",
       " 1.76366  0.946841  0.460601   -0.39911    -0.931598  -1.8404 \n",
       " 1.75342  0.949151  0.475228   -0.405195   -0.937748  -1.83486\n",
       " 1.74717  0.940571  0.471788   -0.407779   -0.935156  -1.8166 \n",
       " 1.75237  0.935618  0.46661    -0.40171    -0.945871  -1.80702\n",
       " 1.72632  0.925253  0.45153    -0.392904   -0.927476  -1.78273\n",
       " 1.73255  0.922793  0.451351   -0.394316   -0.921576  -1.7908 ,\n",
       "\n",
       "100x6 Array{Float64,2}:\n",
       " 2.54118  2.08301   0.437886   -0.87632    -0.280364  -3.90539\n",
       " 2.14366  1.53205   0.733006   -0.515279   -1.20814   -2.6853 \n",
       " 1.90313  1.34977   0.484997   -0.265573   -1.57707   -1.89526\n",
       " 1.72706  0.889599  0.483708   -0.196078   -1.25042   -1.65387\n",
       " 1.78762  0.890013  0.383724   -0.234033   -1.11765   -1.70967\n",
       " 1.58671  0.92686   0.620464   -0.214654   -0.945671  -1.97371\n",
       " 1.40281  0.849382  0.193069   -0.121569   -0.785993  -1.5377 \n",
       " 1.30001  0.711707  0.0593496  -0.0400336  -0.529567  -1.50147\n",
       " 1.17368  0.730318  0.0916159  -0.0374251  -0.457265  -1.50092\n",
       " 1.21901  0.687364  0.0974771   0.0807596  -0.561353  -1.52326\n",
       " 1.24108  0.707876  0.0960317   0.122618   -0.588047  -1.57956\n",
       " 1.28664  0.708503  0.133523   -0.159476   -0.497961  -1.47122\n",
       " 1.28454  0.733497  0.136197   -0.18541    -0.521773  -1.44706\n",
       " ⋮                                                     ⋮      \n",
       " 1.06731  0.586884  0.276097   -0.236268   -0.553089  -1.14094\n",
       " 1.0664   0.580281  0.27507    -0.234664   -0.54785   -1.13924\n",
       " 1.07636  0.582133  0.277103   -0.23702    -0.550639  -1.14794\n",
       " 1.08107  0.582763  0.274752   -0.236545   -0.555865  -1.14618\n",
       " 1.09476  0.585534  0.276999   -0.238438   -0.578237  -1.14061\n",
       " 1.095    0.58681   0.27696    -0.242429   -0.573851  -1.14249\n",
       " 1.09442  0.587551  0.285821   -0.247663   -0.578093  -1.14204\n",
       " 1.08568  0.587694  0.294251   -0.250888   -0.580634  -1.13611\n",
       " 1.09276  0.588275  0.295078   -0.255043   -0.584889  -1.13618\n",
       " 1.09282  0.583476  0.29099    -0.250517   -0.58987   -1.1269 \n",
       " 1.08747  0.58285   0.284435   -0.247504   -0.58425   -1.123  \n",
       " 1.09569  0.583586  0.28544    -0.249371   -0.582817  -1.13253,\n",
       "\n",
       "[0.888836,1.51301,3.50475,3.52137,5.49125,6.64439,9.58492,11.7762,11.8294,12.1498  …  145.54,147.918,151.083,152.765,153.093,155.044,155.09,157.145,157.159,158.124],[0.888836,0.624171,1.99174,0.016624,1.96988,1.15314,2.94053,2.1913,0.0531282,0.320421  …  0.808374,2.37732,3.16578,1.68205,0.327406,1.9512,0.0456096,2.05578,0.013465,0.96558])"
      ]
     },
     "execution_count": 30,
     "metadata": {},
     "output_type": "execute_result"
    }
   ],
   "source": [
    "rcm = [1., 1.]; l0=0.2; m0=1.; vcm = [2.1, 0.6]; θ=π/6; ω=2.\n",
    "\n",
    "db = dumbbell(rcm, θ, vcm, ω, m0, l0, 0)\n",
    "\n",
    "walls = [[-3,3], [-2, 2]]\n",
    "nc=100\n",
    "\n",
    "lyapunov_spectrum(db, walls, nc, true, 10)"
   ]
  },
  {
   "cell_type": "code",
   "execution_count": 11,
   "metadata": {
    "collapsed": true
   },
   "outputs": [],
   "source": [
    "srand(5)"
   ]
  }
 ],
 "metadata": {
  "kernelspec": {
   "display_name": "Julia 0.3.6",
   "language": "julia",
   "name": "julia 0.3"
  },
  "language_info": {
   "name": "julia",
   "version": "0.3.6"
  }
 },
 "nbformat": 4,
 "nbformat_minor": 0
}
