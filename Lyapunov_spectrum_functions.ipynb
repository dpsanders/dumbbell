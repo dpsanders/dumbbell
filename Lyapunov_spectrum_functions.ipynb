{
 "cells": [
  {
   "cell_type": "code",
   "execution_count": 2,
   "metadata": {
    "collapsed": false
   },
   "outputs": [
    {
     "data": {
      "text/plain": [
       "evol_δΓ (generic function with 3 methods)"
      ]
     },
     "execution_count": 2,
     "metadata": {},
     "output_type": "execute_result"
    }
   ],
   "source": [
    "cd(\"/home/rafael/UNAM/Sanders/Mancuerna/Dumbbell/Dumbbell-Julia/Codigo-julia\")\n",
    "\n",
    "include(\"dumbbell_type.jl\")\n",
    "include(\"Gram_Schmidt.jl\")\n",
    "include(\"dumbbell_lyapunov_functions.jl\")\n"
   ]
  },
  {
   "cell_type": "code",
   "execution_count": 3,
   "metadata": {
    "collapsed": false
   },
   "outputs": [
    {
     "data": {
      "text/plain": [
       "2x2 Array{Int32,2}:\n",
       " -3  -2\n",
       "  3   2"
      ]
     },
     "execution_count": 3,
     "metadata": {},
     "output_type": "execute_result"
    }
   ],
   "source": [
    "walls=reshape([[-3, 3], [-2, 2]], 2, 2)"
   ]
  },
  {
   "cell_type": "code",
   "execution_count": 4,
   "metadata": {
    "collapsed": false
   },
   "outputs": [
    {
     "data": {
      "text/plain": [
       "([-3,3],[-2,2])"
      ]
     },
     "execution_count": 4,
     "metadata": {},
     "output_type": "execute_result"
    }
   ],
   "source": [
    "hw = walls[1:2]\n",
    "vw = walls[3:4]\n",
    "\n",
    "hw, vw"
   ]
  },
  {
   "cell_type": "code",
   "execution_count": 5,
   "metadata": {
    "collapsed": false
   },
   "outputs": [
    {
     "data": {
      "text/plain": [
       "disp_vecs_transformation (generic function with 1 method)"
      ]
     },
     "execution_count": 5,
     "metadata": {},
     "output_type": "execute_result"
    }
   ],
   "source": []
  },
  {
   "cell_type": "code",
   "execution_count": 30,
   "metadata": {
    "collapsed": false
   },
   "outputs": [
    {
     "data": {
      "text/plain": [
       "lyapunov_spectrum (generic function with 1 method)"
      ]
     },
     "execution_count": 30,
     "metadata": {},
     "output_type": "execute_result"
    }
   ],
   "source": [
    "function disp_vecs_transformation(db::dumbbell, walls, norm_disp_vecs)\n",
    "    \n",
    "    ### Given a state of the dumbbell, 'db', inside thw billiard with frontiers, 'walls,\n",
    "    ### And a set of normalized displacement vectors, 'norm_disp_vecs',\n",
    "    ### This function will calculate the evolution of the displacement vectors (DV); their transformation\n",
    "    ### during the collision, and a new set of orthogonal and orthonormal vectors: 'ortho_disp_vecs'; \n",
    "    ### norm_disp_vecs2.\n",
    "    ### The output is a tuple of the collision time ('tc') it took the dumbbell to reach for the next wall,\n",
    "    ### ortho_disp_vecs, and norm_disp_vecs2\n",
    "    \n",
    "    vert_walls = walls[1:2]; horiz_walls = walls[3:4] # coordinates of the horizontal and vertical walls, respectively \n",
    "\n",
    "    Γ0,  Γf, wall, part, ct = collision(db, vert_walls, horiz_walls)\n",
    "    \n",
    "    disp_vecs0 = Array{Float64}[]\n",
    "    for v in norm_disp_vecs\n",
    "        vf = evol_δΓ(v, ct, l0, m0) # evolution of each of the initial normalized DV\n",
    "        push!(disp_vecs0, [vf])\n",
    "    end\n",
    "\n",
    "    disp_vecs_F = Array{Float64}[]\n",
    "    for dΓ in disp_vecs0\n",
    "        dΓp = displacement_vector_collision_map(Γ0, dΓ, part, wall, l0, m0)\n",
    "        push!(disp_vecs_F, [dΓp])\n",
    "    end\n",
    "    \n",
    "    ortho_disp_vecs, norm_disp_vecs2 = Gram_Schmidt(disp_vecs_F)\n",
    "    \n",
    "    ct, ortho_disp_vecs, norm_disp_vecs2\n",
    "end\n",
    "\n",
    "function lyapunov_spectrum(db::dumbbell, walls, N)\n",
    "    # N=number of collisions\n",
    "    srand(5) #seed for random number generator  \n",
    "    \n",
    "    rand_vecs = ([rand(6) for i in 1:6]) # initial random displacement vectors\n",
    "    ortho_disp_vecs, norm_disp_vecs = Gram_Schmidt(rand_vecs)  # initial DV, orthogonalized and orthonormalized\n",
    "    \n",
    "    col_count = 0 # collision counter\n",
    "\n",
    "    λ_col = zeros(Float64,N,6); λ_time = zeros(Float64,N,6) #value of the LEs\n",
    "    χs = zeros(Float64,N,6) # log of the norm of (the sum of) the DV\n",
    "    \n",
    "    # arrays of the collision time and the total elapsed time (until each collision)\n",
    "    col_times = Float64[]; elapsed_time = Float64[]; \n",
    "    t_T= 0. # initial time\n",
    "    \n",
    "    # main loop for calculating the LEs for the N collisions\n",
    "    for k in 1:N\n",
    "        col_count += 1\n",
    "        \n",
    "        #collision time, orthogonal vectors, orthonormal vectors after the k-th collision\n",
    "        ct, O_vecs, ON_vecs = disp_vecs_transformation(db, walls, norm_disp_vecs)\n",
    "        \n",
    "        t_T += ct # add the current collision time to the elapsed time\n",
    "        push!(elapsed_time, t_T);  push!(col_times, ct) # register the times\n",
    "        \n",
    "        for (j,ov) in enumerate(O_vecs)\n",
    "            if k>1\n",
    "                χs[k, j] = χs[k-1, j] + log(norm(ov))\n",
    "            else\n",
    "                χs[1,j] = log(norm(ov))\n",
    "            end\n",
    "            \n",
    "            # LEs obtained with the number of collisions and the elapsed time \n",
    "            λ_col[k,j] = χs[k,j]/(k); λ_time[k,j] = χs[k,j]/t_T \n",
    "        end\n",
    "        \n",
    "        norm_disp_vecs = ON_vecs # set the new DV as the normalized DV after the collision\n",
    "        \n",
    "    end\n",
    "    \n",
    "    λ_col, λ_time, elapsed_time, col_times\n",
    "end"
   ]
  },
  {
   "cell_type": "code",
   "execution_count": 31,
   "metadata": {
    "collapsed": false
   },
   "outputs": [
    {
     "data": {
      "text/plain": [
       "(\n",
       "10x6 Array{Float64,2}:\n",
       " 2.25869  1.85146   0.389209   -0.778905   -0.249198  -3.47125\n",
       " 1.62169  1.159     0.554522   -0.38981    -0.913962  -2.03144\n",
       " 2.22333  1.57687   0.566597   -0.310255   -1.84241   -2.21413\n",
       " 1.52041  0.783152  0.425829   -0.172616   -1.1008    -1.45598\n",
       " 1.96325  0.977456  0.421425   -0.257026   -1.22746   -1.87764\n",
       " 1.75712  1.0264    0.6871     -0.237708   -1.04723   -2.18568\n",
       " 1.92084  1.16304   0.264365   -0.166461   -1.07624   -2.10554\n",
       " 1.91366  1.04765   0.0873642  -0.0589306  -0.779537  -2.21021\n",
       " 1.54265  0.959909  0.120417   -0.0491905  -0.601016  -1.97277\n",
       " 1.48107  0.835131  0.118432    0.098121   -0.682031  -1.85072,\n",
       "\n",
       "10x6 Array{Float64,2}:\n",
       " 2.54118  2.08301   0.437886   -0.87632    -0.280364  -3.90539\n",
       " 2.14366  1.53205   0.733006   -0.515279   -1.20814   -2.6853 \n",
       " 1.90313  1.34977   0.484997   -0.265573   -1.57707   -1.89526\n",
       " 1.72706  0.889599  0.483708   -0.196078   -1.25042   -1.65387\n",
       " 1.78762  0.890013  0.383724   -0.234033   -1.11765   -1.70967\n",
       " 1.58671  0.92686   0.620464   -0.214654   -0.945671  -1.97371\n",
       " 1.40281  0.849382  0.193069   -0.121569   -0.785993  -1.5377 \n",
       " 1.30001  0.711707  0.0593496  -0.0400336  -0.529567  -1.50147\n",
       " 1.17368  0.730318  0.0916159  -0.0374251  -0.457265  -1.50092\n",
       " 1.21901  0.687364  0.0974771   0.0807596  -0.561353  -1.52326,\n",
       "\n",
       "[0.888836,1.51301,3.50475,3.52137,5.49125,6.64439,9.58492,11.7762,11.8294,12.1498],[0.888836,0.624171,1.99174,0.016624,1.96988,1.15314,2.94053,2.1913,0.0531282,0.320421])"
      ]
     },
     "execution_count": 31,
     "metadata": {},
     "output_type": "execute_result"
    }
   ],
   "source": [
    "rcm = [1., 1.]; l0=0.2; m0=1.; vcm = [2.1, 0.6]; θ=π/6; ω=2.\n",
    "\n",
    "db = dumbbell(rcm, θ, vcm, ω, m0, l0, 0)\n",
    "\n",
    "walls = [[-3,3], [-2, 2]]\n",
    "nc=10\n",
    "\n",
    "lyapunov_spectrum(db, walls, nc)"
   ]
  },
  {
   "cell_type": "code",
   "execution_count": 11,
   "metadata": {
    "collapsed": true
   },
   "outputs": [],
   "source": [
    "srand(5)"
   ]
  }
 ],
 "metadata": {
  "kernelspec": {
   "display_name": "Julia 0.3.6",
   "language": "julia",
   "name": "julia 0.3"
  },
  "language_info": {
   "name": "julia",
   "version": "0.3.6"
  }
 },
 "nbformat": 4,
 "nbformat_minor": 0
}
