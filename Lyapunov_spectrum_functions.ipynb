{
 "metadata": {
  "language": "Julia",
  "name": "",
  "signature": "sha256:594ab46f395d267a26a891dc1507563cbc54d0b3f2d12d63881a907f44262d10"
 },
 "nbformat": 3,
 "nbformat_minor": 0,
 "worksheets": [
  {
   "cells": [
    {
     "cell_type": "code",
     "collapsed": false,
     "input": [
      "cd(\"/home/rafael/UNAM/Sanders/Mancuerna/Dumbbell/Dumbbell-Julia/Codigo-julia\")\n",
      "\n",
      "include(\"dumbbell_type.jl\")\n",
      "include(\"Gram_Schmidt.jl\")\n",
      "include(\"dumbbell_lyapunov_functions.jl\")\n"
     ],
     "language": "python",
     "metadata": {},
     "outputs": [
      {
       "metadata": {},
       "output_type": "pyout",
       "prompt_number": 3,
       "text": [
        "evol_\u03b4\u0393 (generic function with 3 methods)"
       ]
      }
     ],
     "prompt_number": 3
    },
    {
     "cell_type": "code",
     "collapsed": false,
     "input": [
      "walls=reshape([[-3, 3], [-2, 2]], 2, 2)"
     ],
     "language": "python",
     "metadata": {},
     "outputs": [
      {
       "metadata": {},
       "output_type": "pyout",
       "prompt_number": 30,
       "text": [
        "2x2 Array{Int32,2}:\n",
        " -3  -2\n",
        "  3   2"
       ]
      }
     ],
     "prompt_number": 30
    },
    {
     "cell_type": "code",
     "collapsed": false,
     "input": [
      "hw = walls[1:2]\n",
      "vw = walls[3:4]\n",
      "\n",
      "hw, vw"
     ],
     "language": "python",
     "metadata": {},
     "outputs": [
      {
       "metadata": {},
       "output_type": "pyout",
       "prompt_number": 32,
       "text": [
        "([-3,3],[-2,2])"
       ]
      }
     ],
     "prompt_number": 32
    },
    {
     "cell_type": "code",
     "collapsed": false,
     "input": [
      "function disp_vecs_transformation(db::dumbbell, walls, norm_disp_vecs)\n",
      "    \n",
      "    ### Given a state of the dumbbell, 'db', inside thw billiard with frontiers, 'walls,\n",
      "    ### And a set of normalized displacement vectors, 'norm_disp_vecs',\n",
      "    ### This function will calculate the evolution of the displacement vectors (DV); their transformation\n",
      "    ### during the collision, and a new set of orthogonal and orthonormal vectors: 'ortho_disp_vecs'; \n",
      "    ### norm_disp_vecs2.\n",
      "    ### The output is a tuple of the collision time ('tc') it took the dumbbell to reach for the next wall,\n",
      "    ### ortho_disp_vecs, and norm_disp_vecs2\n",
      "    \n",
      "    horiz_walls = walls[1:2]; vert_walls = walls[3:4] # coordinates of the horizontal and vertical walls, respectively \n",
      "\n",
      "    \u03930,  \u0393f, wall, part, ct = collision(db, vert_walls, horiz_walls)\n",
      "    \n",
      "    disp_vecs0 = Array{Float64}[]\n",
      "    for v in norm_dis_pvecs\n",
      "        vf = evol_\u03b4\u0393(v, tc, l0, m0) # evolution of each of the initial normalized DV\n",
      "        push!(dispvecs0, [vf])\n",
      "    end\n",
      "\n",
      "    disp_vecs_F = Array{Float64}[]\n",
      "    for d\u0393 in disp_vecs0\n",
      "        d\u0393p = displacement_vector_collision_map(\u03930, d\u0393, part, wall, l0, m0)\n",
      "        push!(disp_vecs_F, [d\u0393p])\n",
      "    end\n",
      "    \n",
      "    ct, ortho_disp_vecs, norm_disp_vecs2 = Gram_Schmidt(disp_vecs_F)\n",
      "end"
     ],
     "language": "python",
     "metadata": {},
     "outputs": [
      {
       "metadata": {},
       "output_type": "pyout",
       "prompt_number": 37,
       "text": [
        "disp_vecs_transformation (generic function with 1 method)"
       ]
      }
     ],
     "prompt_number": 37
    },
    {
     "cell_type": "code",
     "collapsed": false,
     "input": [
      "function lyapunov_spectrum(db::dumbbell, walls, N)\n",
      "    # N=number of collisions\n",
      "    srand(5.) #seed for random number generator  \n",
      "    \n",
      "    rand_vecs = ([rand(6) for i in 1:6]) # initial random displacement vectors\n",
      "    ortho_disp_vecs, norm_disp_vecs = Gram_Schmidt(rand_vecs)  # initial DV, orthogonalized and orthonormalized\n",
      "    \n",
      "    col_count = 0 # collision counter\n",
      "\n",
      "    \u03bb_col = zeros(Float64,N,6); \u03bb_time = zeros(Float64,N,6) #value of the LEs\n",
      "    \u03c7s = zeros(Float64,N,6) # log of the norm of (the sum of) the DV\n",
      "    \n",
      "    # arrays of the collision time and the total elapsed time (until each collision)\n",
      "    col_times = Float64[]; elapsed_time = Float64[]; \n",
      "    t_T= 0. # initial time\n",
      "    \n",
      "    # main loop for calculating the LEs for the N collisions\n",
      "    for k in 1:N\n",
      "        col_count += 1\n",
      "        \n",
      "        #collision time, orthogonal vectors, orthonormal vectors after the k-th collision\n",
      "        ct, O_vecs, ON_vecs = disp_vecs_transformation(db, walls, norm_disp_vecs)\n",
      "        \n",
      "        t_T += ct # add the current collision time to the elapsed time\n",
      "        push!(elapsed_time, t_T);  push!(col_times, ct) # register the times\n",
      "        \n",
      "        for (j,ov) in enumerate(O_vecs)\n",
      "            if k>1\n",
      "                \u03c7s[k, j] = \u03c7s[k-1, j] + log(norm(ov))\n",
      "            else\n",
      "                \u03c7s[1,j] = log(norm(ov))\n",
      "            end\n",
      "            \n",
      "            # LEs obtained with the number of collisions and the elapsed time \n",
      "            \u03bb_col[k,j] = \u03c7s[k,j]/(k); \u03bb_time[k,j] = \u03c7s[k,j]/t_T \n",
      "        end\n",
      "        \n",
      "        norm_disp_vecs = ON_vecs # set the new DV as the normalized DV after the collision\n",
      "        \n",
      "    end\n",
      "    \n",
      "    \u03bb_col, \u03bb_time, col_times, elapsed_time\n",
      "end"
     ],
     "language": "python",
     "metadata": {},
     "outputs": [
      {
       "metadata": {},
       "output_type": "pyout",
       "prompt_number": 38,
       "text": [
        "lyapunov_spectrum (generic function with 1 method)"
       ]
      }
     ],
     "prompt_number": 38
    }
   ],
   "metadata": {}
  }
 ]
}