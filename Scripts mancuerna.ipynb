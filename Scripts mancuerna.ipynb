{
 "metadata": {
  "language": "Julia",
  "name": "",
  "signature": "sha256:f0cb437c9483236cd289be42d6d17774fa8bc62de3b50517a89dbff4333280b7"
 },
 "nbformat": 3,
 "nbformat_minor": 0,
 "worksheets": [
  {
   "cells": [
    {
     "cell_type": "code",
     "collapsed": false,
     "input": [
      "using PyPlot"
     ],
     "language": "python",
     "metadata": {},
     "outputs": [
      {
       "output_type": "stream",
       "stream": "stderr",
       "text": [
        "INFO: Loading help data...\n"
       ]
      }
     ],
     "prompt_number": 1
    },
    {
     "cell_type": "markdown",
     "metadata": {},
     "source": [
      "# *Script* para la simulaci\u00f3n de la mancuerna"
     ]
    },
    {
     "cell_type": "markdown",
     "metadata": {},
     "source": [
      "## Definici\u00f3n del tipo `dumbbell` y funciones necesarias para simular colisiones"
     ]
    },
    {
     "cell_type": "markdown",
     "metadata": {},
     "source": [
      "### Tipo y funciones b\u00e1sicas"
     ]
    },
    {
     "cell_type": "code",
     "collapsed": false,
     "input": [
      "\n",
      "import Base.show\n",
      "\n",
      "## Aqu\u00ed se define el type 'dumbbell'\n",
      "# sus atributos son: posici\u00f3n del Centro de Masa (CM); \n",
      "#posici\u00f3n angular, 'angle' (\u00e1ngulo que forma la l\u00ednea que une al CM con la part\u00edcula 1 y el eje x)\n",
      "# velocidad del CM\n",
      "# velocidad angular 'omega'\n",
      "# masa\n",
      "# largo MEDIO de la mancuerna; i.e. 'l' es la distancia entre el CM y cada una de las part\u00edculas\n",
      "# 'collision_counter' lleva el registro de cu\u00e1ntas colisiones ha sufrido la mancuerna\n",
      "\n",
      "type dumbbell\n",
      "    position::Vector\n",
      "    angle::Float64\n",
      "    velocity::Vector\n",
      "    omega::Float64\n",
      "    m::Float64\n",
      "    l::Float64\n",
      "    collision_counter::Int64\n",
      "    \n",
      "end\n",
      "\n",
      "\n",
      "# Representaci\u00f3n del type 'dumbbell': la salida es la posici\u00f3n del CM, la posici\u00f3n angular en m\u00faltiplos de 2\u03c0\n",
      "# la velocidad del CM, velocidad angular, masa, largo  y momento de incercia\n",
      "\n",
      "show(io::IO, db::dumbbell)= print(io, \"CM: $(db.position); \u03b8: $(round((db.angle)%(2*pi),2)); \"*\n",
      "\"Vcm: $(db.velocity); \u03c9: $(db.omega); m=$(db.m); l=$(db.l); I: $(round(db.m*db.l^2,2))\")\n",
      "\n",
      "\n",
      "\n",
      "# Funci\u00f3n para trasladar la mancuerna en el billar:\n",
      "# El movimiento de CM es un simple mov. rectil\u00edneo uniforme y \u03b8 est\u00e1 dado por un mov. circular uniforme.\n",
      "# El argumento de la funci\u00f3n es la 'dumbbell' que se va a mover y el tiempo 'dt' que dura el movimiento\n",
      "\n",
      "function move(db::dumbbell, dt)\n",
      "    db.position += db.velocity*dt\n",
      "    db.angle += db.omega*dt\n",
      "    #db.angle = db.angle%(2pi)\n",
      "end\n",
      "\n",
      "\n",
      "## Con esta funci\u00f3n se obtiene la posici\u00f3n y la velocidad de las dos part\u00edculas en un tiempo 't'.\n",
      "# Para llamar a la funci\u00f3n se requiere la mancuerna ('dumbbell')\n",
      "# El n\u00famero de part\u00edcula (1 o 2) cuya posici\u00f3n y velocidad se desea conocer\n",
      "# Por default, se toma t=0 ya que esta condici\u00f3n se usa varias veces m\u00e1s adelante.\n",
      "# N\u00f3tese que esta funci\u00f3n s\u00f3lo \u201csimula\u201d el movimiento de las part\u00edculas,\n",
      "# pero no modifica los atributos ('position', 'angle', etc) de 'dumbbell'.\n",
      "\n",
      "function particle_position(db::dumbbell, part::Int, t=0) \n",
      "    x, y = db.position\n",
      "    vx, vy = db.velocity\n",
      "    \u03b8 = db.angle;    \u03c9 = db.omega\n",
      "    l = db.l\n",
      "    \u03b8_f = (\u03b8 + \u03c9*t)%(2pi) \n",
      "    \n",
      "    if part==1\n",
      "        x1 = x + vx*t + l*cos(\u03b8_f)\n",
      "        y1 = y + vy*t + l*sin(\u03b8_f) \n",
      "        \n",
      "        vx1 = vx - l*\u03c9*sin(\u03b8_f)\n",
      "        vy1 = vy + l*\u03c9*cos(\u03b8_f)\n",
      "        return [x1, y1, vx1, vy1]\n",
      "        \n",
      "    elseif part==2\n",
      "        x2 = x + vx*t - l*cos(\u03b8_f)\n",
      "        y2 = y + vy*t - l*sin(\u03b8_f) \n",
      "        \n",
      "        vx2 = vx + l*\u03c9*sin(\u03b8_f)\n",
      "        vy2 = vy - l*\u03c9*cos(\u03b8_f)\n",
      "        \n",
      "        return [x2, y2, vx2, vy2]\n",
      "        \n",
      "    else\n",
      "        println(\"No hay tantas part\u00edculas\")\n",
      "    end\n",
      "end\n",
      "\n",
      "\n",
      "# Con esta funci\u00f3n se \u201creinicia\u201d la mancuerna a sus valores iniciales, que son los argumentos de la funci\u00f3n\n",
      "# Aunque por default la funci\u00f3n se llama con las opciones CM =(1,1); \u03b8=pi/6; Vcm = (2.1,0.6); \u03c9=2\n",
      "\n",
      "function reset_dummbell(db::dumbbell, original_position = [1., 1.], \n",
      "    original_\u03b8=pi/6, original_velocity = [2.1, 0.6],\n",
      "    original_\u03c9=2.0)\n",
      "    db.position = original_position\n",
      "    db.velocity = original_velocity\n",
      "    db.angle = original_\u03b8\n",
      "    db.omega = original_\u03c9\n",
      "    db.collision_counter = 0;\n",
      "    \n",
      "    return \"Dumbbell reset\"\n",
      "end\n",
      "\n",
      "# Funci\u00f3n para calcular el momento de inercia de una mancuerna de masa TOTAL 'm' y largo '2l'\n",
      "inertia_moment(m=1., l=0.2) = m*l^2  "
     ],
     "language": "python",
     "metadata": {},
     "outputs": [
      {
       "metadata": {},
       "output_type": "pyout",
       "prompt_number": 2,
       "text": [
        "inertia_moment (generic function with 3 methods)"
       ]
      }
     ],
     "prompt_number": 2
    },
    {
     "cell_type": "markdown",
     "metadata": {},
     "source": [
      "Hasta ah\u00ed para definir el *type* `dumbbell` y las funciones que se requieren para desplazarla en el billar. Ahora se define la transformaci\u00f3n de las velocidades en cada colisi\u00f3n. "
     ]
    },
    {
     "cell_type": "markdown",
     "metadata": {},
     "source": [
      "### Funciones para las colisiones"
     ]
    },
    {
     "cell_type": "markdown",
     "metadata": {},
     "source": [
      "Esta transformaci\u00f3n est\u00e1 en t\u00e9rminos de la componente de la velocidad del centro de masa *normal* a la pared de colisi\u00f3n; la velocidad angular de la mancuerna y un \u00e1ngulo $\\alpha$ que cuantifica la cantidad de momento angular transferido de la pared hacia la mancuerna durante la colisi\u00f3n. Si $\\vec{u}$ y $\\omega_i$ denotan a la velocidades del CM y angular antes de la colisi\u00f3n y $\\vec{v}$ y $\\omega_f$ las velocidades posterior a \u00e9sta, entonces la transformaci\u00f3n es\n",
      "\n",
      "\\begin{equation}\n",
      "v_{\\|} = u_{\\|}\n",
      "\\label{eq:transf v paralela}\n",
      "\\end{equation}\n",
      "\n",
      "\n",
      "\\begin{equation}\n",
      "v_{\\bot} = \\left(1 - \\dfrac{2I\\csc^2 \\alpha}{ml^2 + I \\csc^2\\alpha} \\right) u_{\\bot} - \\dfrac{2I\\ l\\csc\\alpha}{l^2m+I\\csc^2\\alpha} \\omega_i\n",
      "\\label{eq:transf v perpendicular}\n",
      "\\end{equation}\n",
      "\n",
      "\\begin{equation}\n",
      "\\omega_f = - \\dfrac{2lm \\csc \\alpha}{l^2m + I \\csc^\\alpha} u_{\\bot} - \\left(1 - \\dfrac{2I\\csc^2 \\alpha}{ml^2 + I \\csc^2\\alpha} \\right) \\omega_i\n",
      "\\label{eq:transf omega}\n",
      "\\end{equation}\n",
      "\n",
      "Los sub\u00edndices $\\bot$ y $\\|$ son las componentes normal y tangencial de las velocidades del CM, respectivamente -- por lo que la transformaci\u00f3n indica que la componente paralela a la pared de colisi\u00f3n no se altera. Se asumi\u00f3 que la mancuerna tiene momento de inercia $I$, masa *total* $m$ y largo $2l$. Adem\u00e1s, $\\alpha$ depende de la posici\u00f3n angular $\\theta$ de la mancuerna en el momento de la colisi\u00f3n y est\u00e1 dado por\n",
      "\n",
      "\n",
      "\\begin{equation}\n",
      " \\alpha = \\begin{cases} \\pm \\ (\\pi/2 - \\theta) & \\text{ Colisi\u00f3n con pared horizontal;}\\\\\n",
      " \\mp \\ \\theta & \\text{colisi\u00f3n con pared vertical.} \\end{cases}\n",
      "\\label{eq:ec alpha}\n",
      "\\end{equation}\n",
      "\n",
      " Los signos superiores se utilizan cuando choca la part\u00edcula 1 y los inferiores cuando choca la 2. Como $\\alpha$ puede ser positivo o negativo, este par\u00e1metro tambi\u00e9n incluye la informaci\u00f3n de si el momento angular de la mancuerna aumenta o disminuye en cada colisi\u00f3n.\n",
      " \n",
      " A continuaci\u00f3n se define esta transformaci\u00f3n"
     ]
    },
    {
     "cell_type": "code",
     "collapsed": false,
     "input": [
      "# Para llamar a esta funci\u00f3n se require \u00fanicamente la componente de la velocidad que se va a transformar, 'u'\n",
      "# la velocidad angular, el valor de \u03b1 y el largo y masa de la mancuerna.\n",
      "# La funci\u00f3n devuelve la nueva componente de la velocidad del CM y la nueva velocidad angular\n",
      "\n",
      "function collision_transformation(u, \u03c9_i, \u03b1, l=0.2, m=1., I = inertia_moment(1, 0.2))\n",
      "    \n",
      "    denom = m*l^2 + I*csc(\u03b1)^2    \n",
      "       \n",
      "    v = (1 - (2*I*csc(\u03b1)^2)/denom)*u - (2*l*I*csc(\u03b1)/denom)*\u03c9_i # transformaci\u00f3n de la velocidad del CM\n",
      "    \n",
      "    \u03c9_f = (-2*l*m*csc(\u03b1)/denom)*u - (1-(2*I*csc(\u03b1)^2)/denom)*\u03c9_i # transformaci\u00f3n de \u03c9\n",
      "    \n",
      "    v, \u03c9_f\n",
      "end"
     ],
     "language": "python",
     "metadata": {},
     "outputs": [
      {
       "metadata": {},
       "output_type": "pyout",
       "prompt_number": 3,
       "text": [
        "collision_transformation (generic function with 4 methods)"
       ]
      }
     ],
     "prompt_number": 3
    },
    {
     "cell_type": "markdown",
     "metadata": {},
     "source": [
      "Ahora se definen las funciones para encontrar el tiempo de colisi\u00f3n. Lo primero que se hace es encontrar un tiempo aproximado, `t_approx`, para una colisi\u00f3n en alguna direcci\u00f3n horizontal (`1`) o vertical (`2`). Para esto, se mueve la mancuerna en pasos de `dt` hasta que alguna de las 2 part\u00edculas ha salido ($\\pm$ cierto error `err`) de la regi\u00f3n comprendida entre las dos paredes perpendiculares a la direcci\u00f3n especificada. Una vez que se tiene este tiempo aproximado, se utiliza como valor inicial para implementar el m\u00e9todo de Newton para encontrar el tiempo de colisi\u00f3n con una precisi\u00f3n mayor. De hecho, la precisi\u00f3n es la misma que el error `err` que se usa para encontrar `t_approx`.\n",
      "\n",
      "- La funci\u00f3n `ct_approx` es la que se utiliza para encontrar el tiempo aproximado. Para llamarla se requiere la mancuerna, la posici\u00f3n de las paredes, en forma de un arreglo (`wall`) y la direcci\u00f3n (`directon`) en la que se busca el tiempo  aproximado . Lo primero que se hace es encontrar la diferencia m\u00ednima entre las componentes correspondientes a `direction` de la posici\u00f3n de cada una de las part\u00edculas y las paredes que limitan al billar normales a `direction`. Como lo usual es mover la mancuerna entre una colisi\u00f3n y otra, una de estas distancias ser\u00e1 0 ($\\pm$ `err`) pues la mancuerna se halla en una posici\u00f3n tal que alguna de las part\u00edculas est\u00e1 en contacto con una pared. Esta distancia se ignora y se toma la m\u00ednima de las que no son nulas. Posteriormente se calcula `dt` como $dt = 0.1* \\dfrac{d_{min}}{V}$, con $V$ la norma de la velocidad de las part\u00edculas. Esta cantidad, representada por `V` en el c\u00f3digo, es simplemente $V = \\sqrt{ |\\vec{v}|^2 + l^2\\omega^2}$. \n",
      "\n",
      "    Posteriormente, se \u201csimula\u201d el movimiento de las dos part\u00edculas -- en la direcci\u00f3n `direction`-- usando la funci\u00f3n `particle_position`. Primero se calculan sus posiciones en el tiempo cero y se va avanzando en pasos de `dt` hasta que alguna de las part\u00edculas est\u00e1 a una distancia menor a `err` de alguna de las paredes. De esta forma, el tiempo aproximado de la colisi\u00f3n, `t_approx` es la suma de todos los pasos de `dt` requeridos. La funci\u00f3n devuelve el `t_approx` y el valor de `dt` que se obtuvo. De esta manera, puede garantizarse que el tiempo real de colisi\u00f3n est\u00e1 en $[t_{approx}, t_{approx}+dt )$.\n",
      "    "
     ]
    },
    {
     "cell_type": "code",
     "collapsed": false,
     "input": [
      "function ct_approx(db::dumbbell, wall, direction)\n",
      "    # This function returns an *approximation* of the time needed for one of the particles of the dumbbell\n",
      "    # to collide with the walls located at 'w1' and 'w2'. 'direction' specifies the orientation of the walls\n",
      "    #involved: if they are vertical, only the motion on the x axis is relevant, hence, direction=1;\n",
      "    #when they are horizontal, only the motion on the y axis needs to be considered, therefore, direction=2 \n",
      "    \n",
      "    err = 1e-10\n",
      "    t_elapsed = 0.\n",
      "    w1 = wall[1]; w2 = wall[2]\n",
      "    \n",
      "    v = db.velocity; l = db.l; \u03c9=db.omega\n",
      "    \n",
      "    # positions of the particles 1 and 2, respectively, along the specified direction\n",
      "    r1 = particle_position(db, 1)[direction]\n",
      "    r2 = particle_position(db, 2)[direction]\n",
      "    \n",
      "    # distances from each particle to each wall    \n",
      "    # dij= distance from the i-th particle to the j-th wall\n",
      "    d11 = abs(w1-r1); d12 = abs(w1-r2); d21 = abs(w2-r1); d22 =abs(w2-r2)\n",
      "    V = sqrt(norm(v)^2+ (l*\u03c9)^2)\n",
      "    \n",
      "    # the dumbbell has had at least one collision, so one of its particles is in contact with one of the walls\n",
      "    # although, not in this direction necessarily\n",
      "    if db.collision_counter!=0 \n",
      "        distances = sort([d11, d12, d21, d22])\n",
      "        dmin = distances[2] # the first elemente of 'distances' might be 0, so it's ignored\n",
      "        dt = 0.1*dmin/V\n",
      "        \n",
      "    else\n",
      "        distances = [d11, d12, d21, d22, 1.]\n",
      "        times = distances/V\n",
      "        dt = 0.1*minimum(times)\n",
      "    end \n",
      "    \n",
      "    \n",
      "    while w1-err <= r1 <= w2+err && w1-err <= r2 <= w2+err\n",
      "        \n",
      "        t_elapsed += dt\n",
      "            \n",
      "        r1 = particle_position(db, 1, t_elapsed)[direction]\n",
      "        r2 = particle_position(db, 2, t_elapsed)[direction]\n",
      "        \n",
      "    end\n",
      "    # The output is the last time when the condition of both particles being within 'w1' y 'w2'  was fulfilled;\n",
      "    # and the time step used for the approximation  \n",
      "    t_elapsed - dt, dt \n",
      "    \n",
      "end"
     ],
     "language": "python",
     "metadata": {},
     "outputs": [
      {
       "metadata": {},
       "output_type": "pyout",
       "prompt_number": 4,
       "text": [
        "ct_approx (generic function with 1 method)"
       ]
      }
     ],
     "prompt_number": 4
    },
    {
     "cell_type": "markdown",
     "metadata": {},
     "source": [
      "- La funci\u00f3n `col_condition` sirve monitorear la condici\u00f3n de una colisi\u00f3n en cada tiempo `t`. Primero, dada cierta direcci\u00f3n, si $r$ es la componente de la posici\u00f3n de una part\u00edcula en esa direcci\u00f3n, $w$ la posici\u00f3n de la pared con la que se busca la colisi\u00f3n, y $t_{approx}$ y $\\delta t$ el tiempo aproximado y el paso de tiempo encontrados usando la funci\u00f3n `ct_approx`, entonces la condici\u00f3n para que se d\u00e9 una colisi\u00f3n  en el tiempo $t$ es que\n",
      "$$ (\\left| r - w \\right| < \\texttt{err}) \\land (t_{approx} < t \\leq t_{approx} + \\delta t); $$\n",
      "    donde $\\texttt{err}$ es el mismo error que se us\u00f3 en la funci\u00f3n `ct_approx`, puesto que esa es la precisi\u00f3n con la que se determin\u00f3 $t_{approx}$ y ser\u00e1 la misma precisi\u00f3n que se use en el m\u00e9todo de Newton m\u00e1s adelante.\n",
      "    \n",
      "   Entonces, `col_condition` verifica si, al tiempo `t`, la part\u00edcula `i` satisface la condici\u00f3n de colisi\u00f3n con la pared `j` en la direcci\u00f3n `direction`. La manera de especificar la posici\u00f3n de las paredes es mediante el arreglo `wall`. Dado que se tienen dos part\u00edculas y dos paredes en cada direcci\u00f3n, los valores que `i` y `j` pueden tomar son 1 o 2. Tambi\u00e9n hay notar que el valor de $\\delta t$ debe ser uno de los argumentos que entran en la funci\u00f3n debido influye en la condici\u00f3n.\n",
      "   \n",
      "   La funci\u00f3n devuelve `true` en caso de que la condici\u00f3n se satisfaga o `false` en caso contrario."
     ]
    },
    {
     "cell_type": "code",
     "collapsed": false,
     "input": [
      "function col_condition(db::dumbbell, i::Int, j::Int, t, wall, direction::Int, t_approx, \u03b4t)\n",
      "    err = 1e-10\n",
      "    w = wall[j]\n",
      "    r = particle_position(db, i, t)[direction]\n",
      "        \n",
      "    dist = abs(w-r);\n",
      "   (dist<err && t_approx < t <= t_approx + \u03b4t)\n",
      "end"
     ],
     "language": "python",
     "metadata": {},
     "outputs": [
      {
       "metadata": {},
       "output_type": "pyout",
       "prompt_number": 5,
       "text": [
        "col_condition (generic function with 1 method)"
       ]
      }
     ],
     "prompt_number": 5
    },
    {
     "cell_type": "markdown",
     "metadata": {},
     "source": [
      "- Con la funci\u00f3n `directional_collision` se calcula el tiempo para la siguiente en una direcci\u00f3n `axis` dada. Para llamarla se requiere a la mancuerna `dumbbell`; las posiciones de las paredes con las que puede darse una colisi\u00f3n, estas posiciones se especifican en el arreglo `wall`; y la direcci\u00f3n en la que se busca la colisi\u00f3n, `axis` (`1` para x y `2` para y).\n",
      "\n",
      "    El tiempo de colisi\u00f3n se encuentra resolviendo una ecuaci\u00f3n del tipo $x+v_x t \\pm l\\cos(\\theta + \\omega t)=x_{wall}$ (o una an\u00e1loga para $y$. El \u201c$\\pm$\u201d es con el signo superior para la part\u00edcula 1 y el inferior para la part\u00edcula 2. Lo que hace la funci\u00f3n es usar el m\u00e9todo de Newton para encontrar el tiempo de colisi\u00f3n, usando como adivinanza el tiempo aproximado que se calcula con `ct_approx`. Se aplica por separado para cada part\u00edcula y para cada pared; *i.e* 4 veces en total, porque cada part\u00edcula puede chocar con las dos paredes. El algoritmo de Newton se aplica hasta que se satisface la condici\u00f3n definida en `col_condition` usando un `while ~col_condition(...)` y si en 20 iteraciones la condici\u00f3n a\u00fan no se satisface se detiene el bucle. Si hay dos tiempos que satisfacen la condici\u00f3n de colisi\u00f3n (*e.g.* si la mancuerna llega casi paralela a la pared o si gira muy r\u00e1pido) se toma el tiempo m\u00ednimo como el valor del tiempo de colisi\u00f3n `tc`.\n",
      "    \n",
      "    Ya con el tiempo de colisi\u00f3n, se calcula cu\u00e1l es el valor de $\\theta$ en el momento de la colisi\u00f3n (o sea, este valor es $\\theta_0 + \\omega t_c$) y con \u00e9l se calcula $\\alpha$. Con eso se calcula c\u00f3mo se transformar\u00edan las velocidades si en efecto \u00e9sta fuera la colisi\u00f3n que ocurrir\u00eda (ver la siguiente funci\u00f3n). \n",
      "    \n",
      "    La funci\u00f3n devuelve el tiempo de colisi\u00f3n, las nuevas velocidades, la part\u00edcula que choc\u00f3 (`part`), la direcci\u00f3n en la que se busc\u00f3 la colisi\u00f3n, y el arreglo con los valores de tiempo a los que convergi\u00f3 Newton en cada caso (`times`; este arreglo no se usa despu\u00e9s, s\u00f3lo lo us\u00e9 para ir buscando lo errores)."
     ]
    },
    {
     "cell_type": "code",
     "collapsed": false,
     "input": [
      "function directional_collision(db::dumbbell, walls, axis)\n",
      "    vx, vy = db.velocity\n",
      "    \u03b8, \u03c9, l, m = db.angle, db.omega, db.l, db.m\n",
      "    I = inertia_moment(m, l)\n",
      "    err = 1e-10\n",
      "               \n",
      "    tapprox, dt = ct_approx(db, walls, axis)\n",
      "    times = Float64[]\n",
      "    max_iter = 20\n",
      "    \n",
      "    col_times = zeros(Float64, 2, 2)\n",
      "    position = zeros(Float64, 2, 2)\n",
      "    velocity = zeros(Float64, 2, 2)\n",
      "    counter = zeros(Int32, 2 ,2)\n",
      "    \n",
      "    for i in [1:2], j in [1:2]\n",
      "        col_times[i,j] = tapprox\n",
      "        position[i,j], velocity[i,j] = particle_position(db, i, col_times[i,j])[[axis, axis+2]]\n",
      "    end\n",
      "    \n",
      "    for i in [1:2], j in [1:2]\n",
      "        while ~col_condition(db, i, j, col_times[i,j], walls, axis, tapprox, dt)\n",
      "            col_times[i,j] = col_times[i,j] - (position[i,j]-walls[j])/velocity[i,j]\n",
      "            position[i,j], velocity[i,j] = particle_position(db, i, col_times[i,j])[[axis, axis+2]]\n",
      "            counter[i,j] += 1\n",
      "            if counter[i,j]>max_iter\n",
      "                col_times[i,j] = -1.\n",
      "                break\n",
      "            end\n",
      "        end\n",
      "        push!(times, col_times[i,j])\n",
      "    end\n",
      "         \n",
      "   # elegir cu\u00e1l es el tiempo correcto\n",
      "    times = times[times.>0]\n",
      "    if length(times)!=0\n",
      "        tc = minimum(times)\n",
      "    else\n",
      "        return(\"Error  \", db.collision_counter, col_times)\n",
      "    end\n",
      "           \n",
      "    \u03b8 = (\u03b8 + \u03c9*tc)%(2pi) # angle position of the dumbbell when the collision occurs\n",
      "\n",
      "    if axis ==1  # collision in the 'x' direction (vertical walls)\n",
      "        if tc==col_times[1, 1] || tc==col_times[1, 2] # the first particle collides\n",
      "            \u03b1 = -\u03b8\n",
      "            part = 1\n",
      "        elseif tc==col_times[2, 1] || tc==col_times[2, 2] # the second particle collides\n",
      "            \u03b1 = \u03b8\n",
      "            part = 2\n",
      "        end\n",
      "        \n",
      "        v_f, \u03c9_f = collision_transformation(vx, \u03c9, \u03b1, l, m, I)\n",
      "        \n",
      "        return tc, v_f, vy, \u03c9_f, part, axis, col_times\n",
      "        \n",
      "        \n",
      "    elseif axis==2 # collision in the y direction (horizonta walls)\n",
      "        if tc==col_times[1, 1] || tc==col_times[1, 2] # the first particle collides\n",
      "            \u03b1 = pi/2 - \u03b8\n",
      "            part = 1\n",
      "        elseif tc==col_times[2, 1] || tc==col_times[2, 2] # the second particle collides\n",
      "            \u03b1 = \u03b8 - pi/2\n",
      "            part = 2\n",
      "        end\n",
      "        \n",
      "        v_f, \u03c9_f = collision_transformation(vy, \u03c9, \u03b1, l, m, I)\n",
      "        \n",
      "        return tc, vx, v_f, \u03c9_f, part, axis, col_times\n",
      "        \n",
      "    else\n",
      "        println(\"Incorrect direction\")\n",
      "    end\n",
      "            \n",
      "end"
     ],
     "language": "python",
     "metadata": {},
     "outputs": [
      {
       "metadata": {},
       "output_type": "pyout",
       "prompt_number": 6,
       "text": [
        "directional_collision (generic function with 1 method)"
       ]
      }
     ],
     "prompt_number": 6
    },
    {
     "cell_type": "markdown",
     "metadata": {},
     "source": [
      "- Esta funci\u00f3n ahora s\u00ed (por fin) saca la colisi\u00f3n que ocurrir\u00e1, dada la posici\u00f3n, inclinaci\u00f3n y velocidades de la mancuerna. Para llamarla s\u00f3lo hace falta la mancuerna y las posiciones de las paredes en forma de arreglos (`vert_walls` (paredes verticales; `horiz_walls`, horizontales). Lo que hace es usar la funci\u00f3n `directional_collision` en ambas direcciones, con las pareds correspondientes, y usar los valores que regresa la funci\u00f3n asociada al tiempo de colisi\u00f3n menor.\n",
      "\n",
      "    Antes de transformar las velocidades, guarda la posici\u00f3n de la que parte la mancuerna, su inclinaci\u00f3n y las velocidades del CM y angular en el vector del espacio fase $\\Gamma_0 = (x_0, y_0, \\theta_0, v_{x_0}, v_{y_0}, I \\omega)$ (la velocidad angular se multiplica por el momento de inercia para tener todo en t\u00e9rminos de las coordenadas y momentos generalizados).\n",
      "    \n",
      "    Posteriormente se desplaza la mancuerna durante un intervalo igual al tiempo de colisi\u00f3n (`tc`), usando la funci\u00f3n `move`, *y es hasta este momento que se cambian los atributos de posici\u00f3n de `dumbbell`*. Una vez que se avanz\u00f3 la mancuerna hasta el punto de colisi\u00f3n, se modifican las velocidades seg\u00fan las ecuaciones de transformaci\u00f3n y se asignan como nuevas velocidades de `dumbbell`; esto es, modificando sus atributos. Los nuevos valores de la posici\u00f3n y velocidad se guardan en el vector $\\Gamma_f$.\n",
      "    \n",
      "    La funci\u00f3n devuelve los vectores $\\Gamma_0$ y $\\Gamma_f$, la pared con la que choc\u00f3 la mancuerna (`wall`), el n\u00famero de part\u00edcula que choc\u00f3 y `tc` e incremenal el contador de colisiones de `dumbbell` en 1."
     ]
    },
    {
     "cell_type": "code",
     "collapsed": false,
     "input": [
      "function collision(db::dumbbell, vert_walls = [-3, 3], horiz_walls =[-2, 2])\n",
      "    db.collision_counter += 1\n",
      "    tcx, vx_fx, vy_fx, \u03c9_fx, part_x = directional_collision(db, vert_walls, 1)[1:5]\n",
      "    tcy, vx_fy, vy_fy, \u03c9_fy, part_y = directional_collision(db, horiz_walls, 2) [1:5]\n",
      "    \n",
      "    x_0, y_0 = db.position; \u03b8_0 = db.angle\n",
      "    vx_0, vy_0 = db.velocity; \u03c9_0 = db.omega\n",
      "    l = db.l; m = db.m; I = inertia_moment(m,l)\n",
      "    \n",
      "    # vector del espacio fase inicial (antes de que la mancuerna se mueva hacia el punto de colisi\u00f3n)\n",
      "    \u0393_0 = [x_0, y_0, \u03b8_0, vx_0, vy_0, I*\u03c9_0]\n",
      "    \n",
      "    if tcx < tcy && tcx >0\n",
      "        tc, vx_new, vy_new, \u03c9_new, part = tcx, vx_fx, vy_fx, \u03c9_fx, part_x\n",
      "        wall = \"vertical\"\n",
      "        \n",
      "    elseif tcy < tcx && tcy>0\n",
      "        tc, vx_new, vy_new, \u03c9_new, part = tcy, vx_fy, vy_fy, \u03c9_fy, part_y\n",
      "        wall = \"horizontal\"\n",
      "    else\n",
      "        return \"Error\"\n",
      "        \n",
      "    end\n",
      "    \n",
      "    move(db,tc) # the dumbbell is moved to the collision point\n",
      "           \n",
      "    db.velocity = [vx_new, vy_new]\n",
      "    db.omega = \u03c9_new\n",
      "    x_f, y_f = db.position; \u03b8_f = db.angle\n",
      "    \n",
      "    \u0393_f = [x_f, y_f, \u03b8_f, vx_new, vy_new, I*\u03c9_new]\n",
      "    \n",
      "    return (\u0393_0, \u0393_f, wall, part, tc)\n",
      "    \n",
      "end"
     ],
     "language": "python",
     "metadata": {},
     "outputs": [
      {
       "metadata": {},
       "output_type": "pyout",
       "prompt_number": 7,
       "text": [
        "collision (generic function with 3 methods)"
       ]
      }
     ],
     "prompt_number": 7
    },
    {
     "cell_type": "markdown",
     "metadata": {},
     "source": [
      "- `collision_parts`: hace b\u00e1sicamente lo mismo que la funci\u00f3n anterior (`collision`), pero la salida son las posiciones de ambas part\u00edculas, el tiempo de colisi\u00f3n y la pared del choque. No es muy \u00fatil para el c\u00e1lculo del espectro de Lyapunov, pero s\u00ed para revisar que despu\u00e9s de varias colisiones la mancuerna dentro del billar, o para verificar que el tiempo de colisi\u00f3n en efecto la lleva a alguna pared."
     ]
    },
    {
     "cell_type": "code",
     "collapsed": false,
     "input": [
      "function collision_parts(db::dumbbell, vert_walls=[-3,3], horiz_walls=[-2,2])\n",
      "    db.collision_counter +=1\n",
      "    ct, axis = collision_time(db, vert_walls, horiz_walls)\n",
      "    \n",
      "    tcx, vx_fx, vy_fx, \u03c9_fx, part_x = directional_collision(db, vert_walls, 1)[1:5]\n",
      "    tcy, vx_fy, vy_fy, \u03c9_fy, part_y = directional_collision(db, horiz_walls, 2) [1:5]\n",
      "    \n",
      "    x_0, y_0 = db.position; \u03b8_0 = db.angle\n",
      "    vx_0, vy_0 = db.velocity; \u03c9_0 = db.omega\n",
      "    l = db.l; m = db.m; I = inertia_moment(m,l)\n",
      "  \n",
      "    \n",
      "    if tcx < tcy && tcx >0\n",
      "        tc, vx_new, vy_new, \u03c9_new, part = tcx, vx_fx, vy_fx, \u03c9_fx, part_x\n",
      "        wall = \"vertical\"\n",
      "        \n",
      "    elseif tcy < tcx && tcy>0\n",
      "        tc, vx_new, vy_new, \u03c9_new, part = tcy, vx_fy, vy_fy, \u03c9_fy, part_y\n",
      "        wall = \"horizontal\"\n",
      "    else\n",
      "        return \"Error\"\n",
      "        \n",
      "    end\n",
      "    \n",
      "    move(db,tc) # the dumbbell is moved to the collision point\n",
      "           \n",
      "    db.velocity = [vx_new, vy_new]\n",
      "    db.omega = \u03c9_new\n",
      "    \n",
      "    x1, y1 = particle_position(db,1)[1:2]\n",
      "    x2, y2 = particle_position(db,2)[1:2]\n",
      "    \n",
      "    return [x1, y1, x2, y2, ct, wall]\n",
      "    \n",
      "end"
     ],
     "language": "python",
     "metadata": {},
     "outputs": [
      {
       "metadata": {},
       "output_type": "pyout",
       "prompt_number": 8,
       "text": [
        "collision_parts (generic function with 3 methods)"
       ]
      }
     ],
     "prompt_number": 8
    },
    {
     "cell_type": "markdown",
     "metadata": {},
     "source": [
      " - `collision_time`: \u00danicamente saca el tiempo de colisi\u00f3n, dada la mancuerna y las paredes que limitan el billar. S\u00f3lo la uso en la siguiente funci\u00f3n, por comodidad (no s\u00e9 si por eficiencia)."
     ]
    },
    {
     "cell_type": "code",
     "collapsed": false,
     "input": [
      "function collision_time(db::dumbbell, vert_walls=[-3,3], horiz_walls=[-2,2])\n",
      "    tcx = directional_collision(db, vert_walls, 1)[1]\n",
      "    tcy = directional_collision(db, horiz_walls, 2)[1]\n",
      "    if tcx<tcy\n",
      "        return [tcx, 1]\n",
      "    else\n",
      "        return [tcy, 2]\n",
      "    end\n",
      "end"
     ],
     "language": "python",
     "metadata": {},
     "outputs": [
      {
       "metadata": {},
       "output_type": "pyout",
       "prompt_number": 9,
       "text": [
        "collision_time (generic function with 3 methods)"
       ]
      }
     ],
     "prompt_number": 9
    },
    {
     "cell_type": "markdown",
     "metadata": {},
     "source": [
      "- `orbit` Esta funci\u00f3n calcula las trayectorias (\u00f3ribtas) de las part\u00edculas que forman a la mancuerna hasta un tiempo `T`. Lo que hace es ir avanzando en pasos de `dt` la posici\u00f3n de cada part\u00edcula (usando `particle_position`) y va almacenando los datos en los vectores `pos_p1` y `pos_p2`. \n",
      "\n",
      "    Primero revisa si el tiempo `T` que se quiere dejar evolucionar el sistema es mayor que el tiempo de colisi\u00f3n (la primera). En caso de que as\u00ed sea, se avanza en pasos de `dt` hasta antes de llegar a la pared. Luego se efect\u00faa la colisi\u00f3n, llamando a la funci\u00f3n `collision` y vuelve a verificarse si lo que resta de tiempo ($T-n_{pasos}dt$) es mayor que el nuevo tiempo de colisi\u00f3n. Si vuelve a ser cierto, se avanza en pasos hasta la siguiente colisi\u00f3n, se calculan las nuevas velocidades y vuelve a verificarse si habr\u00e1 tiempo suficiente para otra colisi\u00f3n. Esto se hace hasta que el tiempo ya no alcance para una nueva colisi\u00f3n, en cuyo caso la mancuerna s\u00f3lo avanza lo que resta de tiempo. Las variables que monitorean estos tiempo son\n",
      "    - `nt`: es la variable que verifica si el tiempo transcurrido es menor al tiempo de colisi\u00f3n. Cada vez que hay un choque se reinicia su valor a `0.` y se avanza en pasos de `dt` hasta que sea mayor a `ct`.\n",
      "    - `t`: Lleva la cuenta del tiempo total transcurrido. El bucle se detiene hasta que `t` es igual o mayor a `T`.\n",
      "    \n",
      "    La funci\u00f3n devuelve un arreglo con los tiempos, uno con las posiciones de la part\u00edcula 1 y otro con los de la 2. S\u00f3lo uso la funci\u00f3n cuando es necesario hacer animaciones."
     ]
    },
    {
     "cell_type": "code",
     "collapsed": false,
     "input": [
      "function orbit(db::dumbbell, T, dt=0.05, vert_walls=[-3,3], horiz_walls=[-2,2])\n",
      "\n",
      "    ct = collision_time(db, vert_walls, horiz_walls)[1]\n",
      "    t = 0.\n",
      "    x1, y1 = particle_position(db,1, t)[1:2]\n",
      "    x2, y2 = particle_position(db,2,t)[1:2]\n",
      "    pos_p1 = [x1 y1]\n",
      "    pos_p2 = [x2 y2]    \n",
      "    times = [t]\n",
      "    \n",
      "    # T is less than the collisiont time 'ct'\n",
      "    if T<ct\n",
      "        n = int(T/dt)\n",
      "        for t in linspace(dt, T, n)\n",
      "            x1, y1 = particle_position(db,1, t)[1:2]\n",
      "            x2, y2 = particle_position(db,2,t)[1:2]\n",
      "            pos_p1 = vcat(pos_p1, [x1 y1])\n",
      "            pos_p2 = vcat(pos_p2, [x2 y2])\n",
      "            push!(times, t)\n",
      "        end\n",
      "        \n",
      "        return times, pos_p1, pos_p2\n",
      "    \n",
      "        # T is greater than the collision time\n",
      "    else\n",
      "       while t <= T\n",
      "            nt=0.\n",
      "            while nt < ct && t<T\n",
      "                x1, y1 = particle_position(db,1, nt)[1:2]\n",
      "                x2, y2 = particle_position(db,2,nt)[1:2]\n",
      "                pos_p1 = vcat(pos_p1, [x1 y1])\n",
      "                pos_p2 = vcat(pos_p2, [x2 y2])\n",
      "                push!(times, t)\n",
      "                t += dt\n",
      "                nt += dt\n",
      "            end\n",
      "            collision_parts(db, vert_walls, horiz_walls)\n",
      "            ct = collision_time(db, vert_walls, horiz_walls)[1]\n",
      "        end\n",
      "        return times, pos_p1, pos_p2\n",
      "    end\n",
      "    \n",
      "end"
     ],
     "language": "python",
     "metadata": {},
     "outputs": [
      {
       "metadata": {},
       "output_type": "pyout",
       "prompt_number": 10,
       "text": [
        "orbit (generic function with 4 methods)"
       ]
      }
     ],
     "prompt_number": 10
    },
    {
     "cell_type": "markdown",
     "metadata": {},
     "source": [
      "## Funci\u00f3n para implementar Gram--Schmidt\n",
      "\n",
      "La funci\u00f3n `proj` s\u00f3lo sirve para calcular la proyecci\u00f3n del vector `u` a lo largo del vector `v`. Estos vectores son los argumentos que requiere la funci\u00f3n.\n",
      "\n",
      "La funci\u00f3n `Gram_Schmidt` aplica \u00e9ste m\u00e9todo de ortogonalizaci\u00f3n. Toma como argumento el conjunto de `N` vectores que se quiere ortogonalizar, `vecs` y va construyendo el conjunto de vectores normales `ovecs`. Para esto, dado un vector `u` en `ovecs`, saca las proyecciones de este vector `u` a lo largo de los primeros $k$ vectores en `vecs`; y al final, al $k$-\u00e9simo de estos vectores (`vecs[k]`), le resta la suma de esas proyecciones. Esto lo hace para los `N` vectores `vecs`. Como `ovecs` se inicia como un vector vac\u00edo, el primer vector de ambos conjuntos es el mismo.\n",
      "\n",
      "Adem\u00e1s de `ovecs`, tambi\u00e9n se obtiene el conjunto orto*norma*lizado `nvecs`. \u00c9ste no es sino cada vector de `ovecs` dividido entre su norma."
     ]
    },
    {
     "cell_type": "code",
     "collapsed": false,
     "input": [
      "#Function for finding the projection of the 'u' vector along the 'v' one.\n",
      "\n",
      "function proj(u::Vector,v::Vector)\n",
      "    l = length(u)\n",
      "    if length(u[u.!=0])==0\n",
      "        return zeros(Float64,l)\n",
      "    else\n",
      "        return (u\u22c5v/(norm(u)^2))*u\n",
      "    end\n",
      "end\n",
      "\n",
      "\n",
      "# Function for orthogonalize and orthonormalize the set of vectors 'vecs' using the Grand-Schmidt procedure\n",
      "# The functions returns two sets of vectors, the orthogonal ones and the orthoNORMAL ones.\n",
      "function Gram_Schmidt(vecs)\n",
      "    N = length(vecs) #number of vectors\n",
      "    dim = length(vecs[1]) #dimension of vectors\n",
      "    v0 = vecs[1]\n",
      "    ovecs = Array{Float64}[]\n",
      "    nvecs = Array{Float64}[]\n",
      "\n",
      "    for k in 1:N\n",
      "        projections = zeros(Float64,dim)\n",
      "        for u in ovecs\n",
      "            projections += proj(u, vecs[k])\n",
      "        end\n",
      "        push!(ovecs, [vecs[k]-projections])\n",
      "        push!(nvecs, [ovecs[k]/norm(ovecs[k])])\n",
      "    end\n",
      "    ovecs, nvecs\n",
      "end"
     ],
     "language": "python",
     "metadata": {},
     "outputs": [
      {
       "metadata": {},
       "output_type": "pyout",
       "prompt_number": 11,
       "text": [
        "Gram_Schmidt (generic function with 1 method)"
       ]
      }
     ],
     "prompt_number": 11
    },
    {
     "cell_type": "markdown",
     "metadata": {},
     "source": [
      "## Funciones para calcular el Espectro de Lyapunov\n",
      "\n",
      "Las funciones que siguen las uso para obtener el espectro de Lyapunov, $\\{ \\lambda_1,\\ \\lambda_2,\\ \\dots, \\lambda_6\\}$. Cada uno de los elementos de este conjunto est\u00e1 dado por una ecuaci\u00f3n de la forma\n",
      "$$ \\lambda \\approx \\dfrac1t \\sum_{i=1}^{n} \\log ||\\delta \\v{\\Gamma}(t_i)||$$\n",
      "donde $i$ es el n\u00famero de colisi\u00f3n de las $n$ que hay en total; $t_i$ es el tiempo en que dicha colisi\u00f3n ocurre y $\\delta \\v{\\Gamma}$ son los vectores de desplazamiento (los que viven en el espacio tangente)."
     ]
    },
    {
     "cell_type": "markdown",
     "metadata": {},
     "source": [
      "Entonces, todo se reduce a calcular estos $\\delta \\v{\\Gamma}$, y para eso se debe usar la ecuaci\u00f3n \n",
      "\n",
      "\\begin{equation}\n",
      "\\delta \\v{\\Gamma}' = D\\mathbb{M} (\\v{\\Gamma}) \\cdot \\delta \\v{\\Gamma}+ [ D\\mathbb{M}(\\v{\\Gamma})\\cdot \\v{F}(\\v{\\Gamma})- \\v{F}(\\mathbb{M}(\\v{\\Gamma}))]\\delta \\tau_c\n",
      "\\label{eq:dG' maestra}\n",
      "\\end{equation}\n",
      "\n",
      "\n",
      "con $\\delta \\v{\\Gamma}'$ el vector de desplazamiento despu\u00e9s de una colisi\u00f3n; $\\mathbb{M}$ la matriz que define la transformaci\u00f3n de $\\v{\\Gamma}$ en una colisi\u00f3n y $D\\mathbb{M}$ su derivada; $\\v{F}$ el flujo que describe la evoluci\u00f3n de la mancuerna dentro del billar; *i.e.* $\\dot{\\v{\\Gamma}} = \\v{F}(\\v{\\Gamma})$; y $\\delta \\tau_c$ la diferencia entre los tiempos de colisi\u00f3n entre una \u00f3rbita $\\v{\\Gamma}(t)$ y una \u00f3rbita *sat\u00e9lite* $\\v{\\Gamma}(t) + \\delta \\v{\\Gamma}(t)$.\n",
      "\n",
      "Las siguientes funciones son las que se requieren para calcular cada uno de los t\u00e9rminos de la Ec. \\ref{eq:dG' maestra}."
     ]
    },
    {
     "cell_type": "markdown",
     "metadata": {},
     "source": [
      "Para empezar, se define la transformaci\u00f3n de las velocidades, Ecs. \\ref{eq:transf v paralela} - \\ref{eq:transf omega}, como un mapeo $\\mathbb{M}$, tal que el vector del espacio fase $\\v{\\Gamma} = (x,y,\\theta, v_x, v_y, \\omega)$ se transforma en una colisi\u00f3n mediante\n",
      "$$ \\v{\\Gamma}' = \\mathbb{M}\\v{\\Gamma}.$$\n",
      "\n",
      "Para esto, primero defino los coeficientes $a,\\ b,\\ c$ que permiten escribir \\ref{eq:transf v perpendicular} y \\ref{eq:transf omega} como\n",
      "$$ v_{\\bot} = a u_{\\bot} - b\\omega_i;$$\n",
      "$$ \\omega_f = - a\\omega_i - c u_{\\bot}.$$"
     ]
    },
    {
     "cell_type": "markdown",
     "metadata": {},
     "source": [
      "Estos coeficientes son:\n",
      "\\begin{equation}\n",
      "a = \\dfrac{2}{1+\\csc^2\\alpha}-1\n",
      "\\label{eq:ec a}\n",
      "\\end{equation}\n",
      "\n",
      "\\begin{equation}\n",
      "b = \\dfrac{2l \\csc\\alpha}{1+\\csc^2\\alpha}\n",
      "\\label{eq:ec b}\n",
      "\\end{equation}\n",
      "\n",
      "\n",
      "\\begin{equation}\n",
      "c = \\dfrac{b}{l^2}\n",
      "\\label{eq:ec c}\n",
      "\\end{equation}"
     ]
    },
    {
     "cell_type": "markdown",
     "metadata": {},
     "source": [
      "Para obtener $\\alpha$ --Ec. \\ref{eq:ec alpha}-- se requiere sab\u00e9r cu\u00e1l es la posici\u00f3n angular de la mancuerna $\\theta$, qu\u00e9 part\u00edcula choca (1 o 2) y con qu\u00e9 pared lo hace (vertical u horizontal); por ello se tienen `\u03b8`, `part` y `wall` como argumentos."
     ]
    },
    {
     "cell_type": "code",
     "collapsed": false,
     "input": [
      "l0=0.2; m0=1.; ### Se asume que la masa TOTAL de la mancuerna es m0 y mide 2l0\n",
      "\n",
      "function coefficients(\u03b8, part, wall, l=l0)\n",
      "    if wall==\"horizontal\"\n",
      "        if part==1\n",
      "            \u03b1 = \u03c0/2 - \u03b8\n",
      "        elseif part==2\n",
      "            \u03b1 = -(\u03c0/2 - \u03b8)\n",
      "        end\n",
      "    elseif wall==\"vertical\"\n",
      "        if part ==1\n",
      "            \u03b1 = -\u03b8\n",
      "        elseif part==2\n",
      "            \u03b1 = \u03b8\n",
      "        end\n",
      "    end\n",
      "    a = 2/(1+csc(\u03b1)^2) - 1\n",
      "    b = 2*l*csc(\u03b1)/(1+csc(\u03b1)^2)\n",
      "    c = b/l^2\n",
      "    a, b, c\n",
      "end"
     ],
     "language": "python",
     "metadata": {},
     "outputs": [
      {
       "metadata": {},
       "output_type": "pyout",
       "prompt_number": 12,
       "text": [
        "coefficients (generic function with 2 methods)"
       ]
      }
     ],
     "prompt_number": 12
    },
    {
     "cell_type": "markdown",
     "metadata": {},
     "source": [
      "Como esta transformaci\u00f3n s\u00f3lo afecta a las velocidades y deja a las posiciones invariantes, si escribimos $\\v{\\Gamma}=(\\v{q},\\ \\v{p})$, entonces $\\mathbb{M}$ puede escribirse como\n",
      "$$ \\mathbb{M} = \\pmat{ \\mathbb{1} & \\mathbb{0}\\\\ \\mathbb{0} & \\mathbb{B}} \\pmat{\\v{q} \\\\ \\v{p} }; $$\n",
      "donde $\\mathbb{1}$ y $\\mathbb{0}$ son las matrices identidad y cero de $3\\times3$; y $\\mathbb{B}$ es la matriz que contiene la transformaci\u00f3n producida por el choque con una pared.\n",
      "\n",
      "Para expresar $\\mathbb{B}$ de forma conveniente, el momento de la mancuerna, $\\v{p}$, se puede escribir en t\u00e9rminos de sus componentes normales ($\\bot$), paralelas o tangenciales ($t$), y el momento angular ($L=I\\omega$). Adem\u00e1s, se asume que cada una de estas cantidades se pueden obtener proyectando a lo largo de los vectores normales $\\uv{n},\\ \\uv{t}$ y $\\uv{z}$, respectivamente. En t\u00e9rminos de estas componentes, una colisi\u00f3n est\u00e1 dada por\n",
      "\n",
      "\\\\[ p^f_t = p^i_t;\\\\]\n",
      "$$ p^f_{\\bot} = a\\ p^i_{\\bot} - c\\ L^i;$$\n",
      "$$ L^f = -b\\ p^i_\\bot -a\\ L^i .$$\n",
      "\n",
      "Luego, los momentos antes y despu\u00e9s de cada colisi\u00f3n, $\\v{p}^i$ y $\\v{p}^f$ pueden escribirse como\n",
      "\n",
      "$$ \\v{p}^i = (\\v{p}^i\\cdot \\uv{t}) \\uv{t} + (\\v{p}^i\\cdot \\uv{n}) \\uv{n} + (\\v{p}^i\\cdot \\uv{z}) \\uv{z};$$\n",
      "\n",
      "$$ \\v{p}^f = (\\v{p}^i\\cdot \\uv{t}) \\uv{t} + [a(\\v{p}^i\\cdot\\uv{n}) - c(\\v{p}^i\\cdot\\uv{z})]\\uv{n} - [b(\\v{p}^i\\cdot\\uv{n}) + a(\\v{p}^i\\cdot\\uv{z})]\\uv{z}.$$\n",
      "\n",
      "Por otro lado, en t\u00e9rminos de coordenadas cartesianas, $\\v{p}=(p_x,\\ p_y,\\ L)$; y $t_x=n_y$; $t_y=-n_x$, puesto que $\\uv{t}\\cdot\\uv{n}=0$. Por lo tanto,\n",
      "\n",
      "$$ \\v{p}^f = \\pmat{ p_x^i (n_y^2+an_x^2) + p_y^i n_x n_y (a-1) - L^i c n_x \\\\\n",
      "p_x^i n_x n_y (a-1) + p_y^i (n_x^2 + a n_y^2) - L^i c n_y\\\\\n",
      "- p_x^i b n_x - p_y^i b n_y - a L^i}$$\n"
     ]
    },
    {
     "cell_type": "markdown",
     "metadata": {},
     "source": [
      "De donde se obtiene finalmente que $\\v{p}^f = \\mathbb{B} \\v{p}^i$ con\n",
      "\n",
      "\\begin{equation}\n",
      " \\mathbb{B}= \\pmat{(n_y^2+an_x^2) & n_x n_y (a-1) & - c n_x \\\\\n",
      " n_x n_y (a-1) &(n_x^2 + a n_y^2)  &-  c n_y\\\\\n",
      "- b n_x  &-b n_y  & - a}.\n",
      "\\label{eq:matriz B}\n",
      "\\end{equation}"
     ]
    },
    {
     "cell_type": "markdown",
     "metadata": {},
     "source": [
      "- La funci\u00f3n `collision_map` define esta matriz $\\mathbb{B}$ y devuelve el vector $\\v{\\Gamma}'=\\mathbb{M}\\v{\\Gamma}=(\\v{q}^i,\\ \\mathbb{B}\\v{p}^i)$. Para llamarla se requiere el vector antes de la colisi\u00f3n $\\v{\\Gamma}$ y el n\u00famero de part\u00edcula que choca (`part`) y en qu\u00e9 pared lo hace (`wall`), dado que estos par\u00e1metros se requieren para obtener $a,\\ b,\\ c$."
     ]
    },
    {
     "cell_type": "code",
     "collapsed": false,
     "input": [
      "function collision_map(\u0393, part, wall, l=l0)\n",
      "    qq = \u0393[1:3]\n",
      "    x, y, \u03b8 = qq\n",
      "    pp = \u0393[4:6]\n",
      "    px, py, L = pp\n",
      "    \n",
      "    a, b, c, = coefficients(\u03b8, part, wall, l)\n",
      "    \n",
      "    if wall==\"horizontal\"\n",
      "        n1=0; n2=1;\n",
      "    elseif wall==\"vertical\"\n",
      "        n1=1; n2=0;\n",
      "    end\n",
      "    \n",
      "    B_mat =\n",
      "    [n2^2+a*n1^2 n1*n2*(a-1) -c*n1;\n",
      "    n1*n2*(a-1) n1^2+a*n2^2 -c*n2;\n",
      "    -b*n1 -b*n2 -a]\n",
      "    \n",
      "    pp = B_mat*pp\n",
      "    \n",
      "    return [qq, pp]\n",
      "end"
     ],
     "language": "python",
     "metadata": {},
     "outputs": [
      {
       "metadata": {},
       "output_type": "pyout",
       "prompt_number": 13,
       "text": [
        "collision_map (generic function with 2 methods)"
       ]
      }
     ],
     "prompt_number": 13
    },
    {
     "cell_type": "markdown",
     "metadata": {},
     "source": [
      "Ahora veamos qui\u00e9n es $ D\\mathbb{M}$. Esta matriz es la derivada del mapeo que describe la colisi\u00f3n, y dado que este mapeo se puede **casi** como una transformaci\u00f3n lineal sobre los vectores del espacio fase $\\v{\\Gamma}$ -- $\\v{\\Gamma}'= \\mathbb{M}\\v{\\Gamma}$ --, entonces podr\u00edamos esperar que $D\\mathbb{M}$ fuera **casi** diagonal por bloques.\n",
      "\n",
      "Lo de \u201c*casi*\u201d se debe a que en la definici\u00f3n de la matriz $\\mathbb{B}$ (Ec. \\ref{eq:matriz B}) est\u00e1n los coeficientes $a,\\ b$ y $c$ que determinan la transformaci\u00f3n de los momentos (o velocidades); pero estos coeficientes depende del \u00e1ngulo, $\\alpha$, que a su vez depende de la posici\u00f3n angular, $\\theta$. Por lo tanto, $\\pd{\\mathbb{B}}{\\theta} \\neq0$; en particular, $\\pd{\\mathbb{B}}{\\v{q}} \\neq 0$, lo cual quiere decir que $D \\mathbb{M}$ no ser\u00e1 diagonal por bloques, sino de la forma\n",
      "\n",
      "$$ D\\mathbb{M} = \\pmat{ 1 & 0 \\\\ \\mathbb{A} & \\mathbb{B} }.$$\n",
      "\n",
      "Sin embargo, como $\\mathbb{B}=\\mathbb{B}(\\theta)$, $\\pd{\\mathbb{B}}{x} = \\pd{\\mathbb{B}}{y}=0$, la matriz fuera de la diagonal $\\mathbb{A}$ ser\u00e1:\n",
      "\n",
      "$$ \\mathbb{A} = \\pmat{ 0 & 0 & \\pd{}{\\theta} [\\mathbb{B}\\cdot \\v{p}]_1\\\\\n",
      " 0 & 0 & \\pd{}{\\theta} [\\mathbb{B}\\cdot \\v{p}]_2 \\\\\n",
      "  0 & 0 & \\pd{}{\\theta} [\\mathbb{B}\\cdot \\v{p}]_3};$$\n",
      "\n",
      "donde $[\\mathbb{B}\\cdot \\v{p}]_i$ es la $i$-\u00e9sima componente del vector que se obtiene de aplicar $\\mathbb{B}$ a $\\v{p}$."
     ]
    },
    {
     "cell_type": "markdown",
     "metadata": {},
     "source": [
      "De manera expl\u00edcita se obtiene\n",
      "\n",
      "\\begin{equation}\n",
      "\\mathbb{A} = \\pmat{ 0 & 0 & (p_x n_x^2 + p_y n_x n_y) \\pd{a}{\\theta} - n_x L \\pd{c}{\\theta} \\\\\n",
      " 0 & 0 & (p_x n_x n_y + p_y n_y^2) \\pd{a}{\\theta} - n_y L \\pd{c}{\\theta} \\\\\n",
      "  0 & 0 & (p_x n_x + p_y n_y) \\pd{b}{\\theta} - L \\pd{a}{\\theta} }\n",
      " \\label{eq:matriz A}\n",
      " \\end{equation}"
     ]
    },
    {
     "cell_type": "markdown",
     "metadata": {},
     "source": [
      "Entonces lo \u00fanico que hace falta es conocer las derivadas parciales que aparecen en esta expresi\u00f3n. A su vez, esto require calcular la derivada $\\d{\\alpha}{\\theta}$ y de la Ec. \\ref{eq:ec alpha} puede deducirse que\n",
      "$$ \\d{\\alpha}{\\theta} = \\begin{cases} -1 & \\text{Choca la part\u00edcula 1;}\\\\ 1 & \\text{Choca la part\u00edcula 2.} \\end{cases} $$\n",
      "\n",
      " - En la funci\u00f3n `collision_map_derivative` se calcula $D\\mathbb{M}$ siguiendo este procedimiento y se devuelve el valor de $D \\mathbb{M} \\cdot \\v{v}$, para un vector arbirario $\\v{v}$. Para conocer $D\\mathbb{M}$ se requiere evalular la matriz en un punto del espacio fase `\u0393`; `vec` juega el papel de $\\v{v}$; y como se necesita informaci\u00f3n de la part\u00edcula que choc\u00f3 y con qu\u00e9 pared lo hizo (para calcular $a,\\ b$ y $c$, tambi\u00e9n deben especificarse lo argumentos `part` y `wall`"
     ]
    },
    {
     "cell_type": "code",
     "collapsed": false,
     "input": [
      "function collision_map_derivative(\u0393, vec, part, wall, l=l0)\n",
      "    qq = \u0393[1:3];   x, y, \u03b8 = qq\n",
      "    pp = \u0393[4:6];   px, py, L = pp\n",
      "    vecqq = vec[1:3]\n",
      "    vecpp = vec[4:end]\n",
      "    \n",
      "    if part==1\n",
      "        der\u03b1=-1\n",
      "        if wall==\"horizontal\"\n",
      "            \u03b1 = \u03c0/2 - \u03b8\n",
      "        elseif wall==\"vertical\"\n",
      "            \u03b1 = -\u03b8\n",
      "        end\n",
      "        \n",
      "    elseif part==2\n",
      "        der\u03b1 = 1\n",
      "        if wall==\"horizontal\"\n",
      "            \u03b1 = \u03b8-\u03c0/2\n",
      "        elseif wall==\"vertical\"\n",
      "            \u03b1 = \u03b8\n",
      "        end\n",
      "    end\n",
      "    \n",
      "    a, b, c = coefficients(\u03b8, part, wall, l)\n",
      "    \n",
      "    dera = der\u03b1*(8*sin(2\u03b1))/((cos(2\u03b1)-3)^2)\n",
      "    derb = der\u03b1*(8*l*(cos(\u03b1)^3))/((cos(2\u03b1)-3)^2)\n",
      "    derc = derb/(l^2)\n",
      "    \n",
      "    if wall==\"horizontal\"\n",
      "        n1=0; n2=1;\n",
      "    elseif wall==\"vertical\"\n",
      "        n1=1; n2=0;\n",
      "    end\n",
      "    \n",
      "    B_mat =\n",
      "    [n2^2+a*n1^2 n1*n2*(a-1) -c*n1;\n",
      "    n1*n2*(a-1) n1^2+a*n2^2 -c*n2;\n",
      "    -b*n1 -b*n2 -a]\n",
      "    \n",
      "    A_mat = \n",
      "    [0 0 n1*(der\u03b1*(px*n1+py*n2))-L*derc;\n",
      "    0 0 n2*(der\u03b1*(px*n1+py*n2))-L*derc;\n",
      "    0 0 -L*dera-derb*(n1*px+n2*py)]\n",
      "    \n",
      "    vecpp = A_mat*vecqq + B_mat*vecpp\n",
      "    \n",
      "    return [vecqq, vecpp]\n",
      "end\n",
      "   "
     ],
     "language": "python",
     "metadata": {},
     "outputs": [
      {
       "metadata": {},
       "output_type": "pyout",
       "prompt_number": 14,
       "text": [
        "collision_map_derivative (generic function with 2 methods)"
       ]
      }
     ],
     "prompt_number": 14
    },
    {
     "cell_type": "markdown",
     "metadata": {},
     "source": [
      "Esta funci\u00f3n \u00fanicamente es el campo vectorial que describe el movimiento de la mancuerna dentro del billar: $\\dot{\\v{\\Gamma}} = \\v{F} (\\v{\\Gamma})$. Es la misma $\\v{F}$ que parece en \\ref{eq:dG' maestra}.\n",
      " \n",
      " - `evol_function` por lo tanto, lo \u00fanico que hace es implementar una funci\u00f3n de movimiento rectil\u00edneo uniforme para $x$ y $y$ y movimiento cicular uniforme para $\\theta$."
     ]
    },
    {
     "cell_type": "code",
     "collapsed": false,
     "input": [
      "function evol_function(\u0393, l=l0, m=m0)\n",
      "    I = m*l^2\n",
      "    px, py, L = \u0393[4:6]; vx = px/m; vy = py/m; \u03c9=L/I\n",
      "    \n",
      "    [vx, vy, \u03c9, 0, 0, 0]\n",
      "end"
     ],
     "language": "python",
     "metadata": {},
     "outputs": [
      {
       "metadata": {},
       "output_type": "pyout",
       "prompt_number": 15,
       "text": [
        "evol_function (generic function with 3 methods)"
       ]
      }
     ],
     "prompt_number": 15
    },
    {
     "cell_type": "markdown",
     "metadata": {},
     "source": [
      "Esto que sigue probablemente es una de las parte m\u00e1s truculentas de proceso. Lo \u00fanico que falta para poder aplicar la expresi\u00f3n de la Ec. \\ref{eq:dG' maestra} es encontrar **qui\u00e9n es $\\delta \\tau_c$**.\n",
      "\n",
      "En general, $\\delta \\tau_c$ representa el tiempo de defase entre la colisi\u00f3n de una trayectoria de referencia definida por $\\v{\\Gamma}$ y una trayectoria sat\u00e9lite $\\v{\\Gamma}_s=\\v{\\Gamma} + \\delta \\v{\\Gamma}$. Si $\\v{\\Gamma}_i$ denota al punto de colisi\u00f3n de la trayectoria de referencia, entonces podemos asumir que la trayectoria sat\u00e9lite choca en un punto *distinto* $\\v{\\Gamma}_i + \\delta \\v{\\Gamma}_c$ y a un tiempo $\\tau_c + \\delta \\tau_c$. "
     ]
    },
    {
     "cell_type": "markdown",
     "metadata": {},
     "source": [
      "Aplicando linearizaci\u00f3n obtenemos\n",
      "\n",
      "\\begin{equation}\n",
      "\\delta \\v{\\Gamma}_c = \\delta \\v{\\Gamma}_i + \\v{F}(\\v{\\Gamma}_i) \\delta \\tau_c,\n",
      "\\label{eq:delta Gc}\n",
      "\\end{equation}\n",
      "\n",
      "con $\\delta \\v{\\Gamma}_i$ la separaci\u00f3n inicial entre la trayectoria de referencia y la sat\u00e9lite y $\\v{F}$ la misma funcion que se describe al flujo dentro del billar."
     ]
    },
    {
     "cell_type": "markdown",
     "metadata": {},
     "source": [
      "Por un momento, y sin p\u00e9rdida de generalidad, hay que suponer que la part\u00edcula $1$ es la que choca. Entonces, en contraste con lo que hab\u00eda estado haciendo hasta ahora, vamos a escribir las coordenadas del vector de posici\u00f3n $\\v{q}$ como \n",
      "$$ \\v{q} = (x_1, y_1, \\theta);$$\n",
      "o sea, vamos a describir al sistema en t\u00e9rminos de las posiciones *de la part\u00edcula $1$ en lugar de las del CM (notar que ahora $x$ y $y$ tienen sub\u00edndices)*. Y por lo tanto $\\v{\\Gamma} = (x_1, y_1, \\theta, v_x, v_y, \\omega)$ -- *i.e.* $\\v{p}$ sigue en t\u00e9rminos de las velocidades del CM. Por econom\u00eda voy a escribir $\\v{\\Gamma} = (x_1, y_1, \\omega, \\v{p})$.\n",
      "\n",
      "Ahora asumamos, otra vez sin p\u00e9rdida de generalidad, que la part\u00edcula sufre una colisi\u00f3n con una pared vertical, cuya posici\u00f3n es $x_w$. Entonces, en el momento de la colisi\u00f3n se tiene $\\v{\\Gamma}_i = (x_w, y_{1_i}, \\omega_i, \\v{p}_i)$. Por otro lado, *cualquier otra trayectoria* que choque con esa misma pared, tambi\u00e9n tendr\u00e1 $x_w$ como la primera componente de $\\v{q}$. En particular, una trayectoria sat\u00e9lite, cuya separaci\u00f3n inicial de la trayectoria de referencia es infinitesimal, tambi\u00e9n cumplir\u00e1 que $\\v{\\Gamma}_s = (x_w, y_s, \\omega_s, \\v{p}_s$) en el momento del choque. De donde, se obtiene el resultado clave:\n",
      "\n",
      "$$ \\delta \\v{\\Gamma}_c = (0, \\delta y, \\delta \\omega, \\delta \\v{p}).$$\n",
      "\n",
      "Entonces, tomando la primera componente de este vector y usando \\ref{eq:delta Gc} se obtiene que \n",
      "$$ 0 = \\delta x_{1_i} + v_x{_{1i}} \\delta \\tau_c, $$\n",
      "puesto que la primera componente de $\\v{F}(\\v{\\Gamma}_i)$ es la velocidad *en $x$* de la part\u00edcula 1. En esta ecuaci\u00f3n $\\delta x_{1_i}$ es la separaci\u00f3n inicial que tienen, a lo largo de $x$, las dos trayectorias. Despejando\n",
      "$$ \\delta \\tau_c = - \\dfrac{\\delta x_{1i} }{v_{x_1i}}.$$"
     ]
    },
    {
     "cell_type": "markdown",
     "metadata": {},
     "source": [
      "El resultado general es que, dado un vector inicial de desplazamiento $\\delta \\v{\\Gamma} = (\\delta \\v{q}, \\delta \\v{p})$ asociado a una trayectoria $\\v{\\Gamma} = (\\v{q}, \\v{p})$, el resultado general, asumiendo que choque la part\u00edcula $j$, es:\n",
      "\n",
      "\\begin{equation}\n",
      "\\delta \\tau_c^{(j)} = - \\dfrac{\\delta \\v{r}_j \\cdot \\uv{n} }{\\v{v}_j \\cdot \\uv{n}}\n",
      "\\label{eq:delta tau c}\n",
      "\\end{equation}\n",
      "\n",
      "donde $\\delta\\v{r}_j=(\\delta x_j,\\delta y_j)$ es la separaci\u00f3n inical, $\\v{v}_j$ la velocidad de la part\u00edcula $j$ y $\\uv{n}$ es el vector normal a la pared de colisi\u00f3n y es $\\uv{n}=(1, 0)$ o $(0, 1)$."
     ]
    },
    {
     "cell_type": "markdown",
     "metadata": {},
     "source": [
      "- La funci\u00f3n `\u03b4\u03c4` implementa la Ecuaci\u00f3n \\ref{eq:delta tau c}. Para usarla se requiere el vector inicial de desplazamiento `\u03b4\u0393` **en t\u00e9rminos de las coordenadas del CM** (luego dentro de la funci\u00f3n se obtienen las coordenadas de la part\u00edcula $j$); el vector del espacio fase `\u0393` (para tener informaci\u00f3n sobre las velocidades; igual se da en t\u00e9rminos de posiciones y velocidades del CM); qu\u00e9 part\u00edcula choca, `part`; y con qu\u00e9 pared lo hace, `wall`.\n",
      "\n",
      "    Dependiendo del valor de `part` se toman las velocidades de la part\u00edcula 1 o 2 y los valores asociados del vector de desplazamiento, `dxi` y `dyi`. Luego se define el valor del vector normal `n`, seg\u00fan el tipo de `wall` y finalmente se calcula `\u03b4\u03c4` usando \\ref{eq:delta tau c}."
     ]
    },
    {
     "cell_type": "code",
     "collapsed": false,
     "input": [
      "function \u03b4\u03c4(\u03b4\u0393, \u0393, part, wall, l=l0, m=m0)\n",
      "    I = m*l^2\n",
      "    dx, dy, d\u03b8 = \u03b4\u0393[1:3]\n",
      "    px, py, L = \u0393[4:6]; vx = px/m; vy = py/m; \u03c9 = L/I\n",
      "    \u03b8=\u0393[3]\n",
      "    \n",
      "    if part==1\n",
      "        dxi = dx - l*sin(\u03b8)*d\u03b8\n",
      "        dyi = dy + l*cos(\u03b8)*d\u03b8\n",
      "        vxi = vx - l*\u03c9*sin(\u03b8)\n",
      "        vyi = vy + l*\u03c9*cos(\u03b8)\n",
      "        \n",
      "    elseif part==2\n",
      "        dxi = dx + l*sin(\u03b8)*d\u03b8\n",
      "        dyi = dy - l*cos(\u03b8)*d\u03b8\n",
      "        vxi = vx + l*\u03c9*sin(\u03b8)\n",
      "        vyi = vy - l*\u03c9*cos(\u03b8)\n",
      "    end\n",
      "    \n",
      "    dqqi = [dxi, dyi]\n",
      "    vvi = [vxi, vyi]\n",
      "    \n",
      "    if wall==\"vertical\"\n",
      "        n = [1,0]\n",
      "    elseif wall==\"horizontal\"\n",
      "        n = [0, 1]\n",
      "    end\n",
      "    \n",
      "    return -1*(dqqi\u22c5n)/(vvi\u22c5n)\n",
      "end"
     ],
     "language": "python",
     "metadata": {},
     "outputs": [
      {
       "metadata": {},
       "output_type": "pyout",
       "prompt_number": 16,
       "text": [
        "\u03b4\u03c4 (generic function with 3 methods)"
       ]
      }
     ],
     "prompt_number": 16
    },
    {
     "cell_type": "markdown",
     "metadata": {},
     "source": [
      "Ahora s\u00ed por fin, ya puede calcularse \\ref{eq:dG' maestra}. Para esto sirve la funci\u00f3n siguiente.\n",
      "\n",
      "1. Lo primero que hay que notar es que el segundo t\u00e9rmino del t\u00e9rmino entre corchetes puede escribirse como $\\v{F}(\\mathbb{M}(\\v{\\Gamma}) ) = \\v{F}(\\v{\\Gamma}')$. Entonces, lo primero que se hace es encontrar $\\v{\\Gamma}'$ usando el mapeo de la colisi\u00f3n. El resultado es `\u0393p`.\n",
      "\n",
      "2. Luego, se calcula el primer sumando del lado derecho, $ D\\mathbb{M}(\\v{\\Gamma})\\cdot \\delta\\v{\\Gamma}$. Para esto se usa la derivada del mapeo, definida en la funci\u00f3n `collision_map_derivative` aplicada a un vector de desplazamiento `\u03b4\u0393`. Esto es lo que representa `DM\u03b4\u0393`.\n",
      "\n",
      "3. `F\u0393` es el factor $\\v{F}(\\v{\\Gamma})$ que aparece como factor en el primer sumando del t\u00e9rmino entre corchetes. No es sino la ecuaci\u00f3n de evoluci\u00f3n del flujo aplicada a un vector `\u0393`.\n",
      "\n",
      "4. Para calcular completamente el producto donde aparece `F\u0393` (*i.e* el t\u00e9rmino $D\\mathbb{M}(\\v{\\Gamma}) \\cdot \\v{F}(\\v{\\Gamma})$ del sumando entre corchetes) hay que aplicar la derivada del mapeo (`collision_map_derivative`) a `F\u0393`. El resultado de esto es `DMF`.\n",
      "\n",
      "5. El segundo sumando entre corchetes es la ecuaci\u00f3n de evoluci\u00f3n aplicada a $\\v{\\Gamma}'$. En el c\u00f3digo, este vector $\\v{\\Gamma}'$ es el `\u0393p` del primer inciso. Por lo tanto, para encontrar $\\v{F}(\\v{\\Gamma}')$ s\u00f3lo hay que usar la funci\u00f3n `evol_function` en el vector `\u0393p`. El resultado es `F\u0393p`.\n",
      "\n",
      "6. El \u00faltimo factor que falta es el defasamiento en los tiempo de colisi\u00f3n, que en el *script* se denota por `dT` y que usa la funci\u00f3n `\u03b4\u03c4` definida m\u00e1s arriba para obtener este defasamiento.\n",
      "\n",
      "7. Finalmente, se suman los t\u00e9rminos que corresponden a los que aparecen en la ecuaci\u00f3n \\ref{eq:dG' maestra}."
     ]
    },
    {
     "cell_type": "code",
     "collapsed": false,
     "input": [
      "function displacement_vector_collision_map(\u0393, \u03b4\u0393, part, wall, l=l0, m=m0)\n",
      "    \u0393p = collision_map(\u0393, part, wall, l)\n",
      "    DM\u03b4\u0393 = collision_map_derivative(\u0393, \u03b4\u0393, part, wall, l)\n",
      "    F\u0393 = evol_function(\u0393, l, m)\n",
      "    DMF = collision_map_derivative(\u0393, F\u0393, part, wall, l)\n",
      "    F\u0393p = evol_function(\u0393p, l ,m)\n",
      "    \n",
      "    dT = \u03b4\u03c4(\u03b4\u0393, \u0393, part, wall, l, m)\n",
      "    \n",
      "    return DM\u03b4\u0393 + (DMF-F\u0393p)*dT\n",
      "end"
     ],
     "language": "python",
     "metadata": {},
     "outputs": [
      {
       "metadata": {},
       "output_type": "pyout",
       "prompt_number": 17,
       "text": [
        "displacement_vector_collision_map (generic function with 3 methods)"
       ]
      }
     ],
     "prompt_number": 17
    },
    {
     "cell_type": "markdown",
     "metadata": {},
     "source": [
      "Por \u00faltimo, las dos funciones siguientes implementan el flujo de $\\v{\\Gamma}$ y $\\delta \\v{\\Gamma}$ dentro del billar. O en otras palabras, son las soluciones a la EDO que describe a $\\dot{\\v{\\Gamma}}$ y $\\delta \\dot{\\v{\\Gamma}}$. Como el movimiento es uniforme, la soluci\u00f3n a las ecuaciones es $\\v{q}(t) = \\v{q}_0 + \\v{p}*t$ para la primera y $\\delta\\v{q}(t) = \\delta\\v{q}_0 + \\delta\\v{p}*t$ para la segunda."
     ]
    },
    {
     "cell_type": "code",
     "collapsed": false,
     "input": [
      "function evol_\u0393(\u03930, t, l=l0, m=m0)\n",
      "    I=m*l^2\n",
      "    qq = \u03930[1:3]; pp = \u03930[4:6]\n",
      "    vx, vy = pp[1:2]/m; \u03c9 = pp[end]/I\n",
      "    qq += t*[vx, vy, \u03c9]\n",
      "    \n",
      "    return [qq, pp]\n",
      "end\n",
      "\n",
      "function evol_\u03b4\u0393(\u03b4\u03930, t, l=l0, m=m0)\n",
      "    I = m*l^2\n",
      "    dqq = \u03b4\u03930[1:3]; dpp = \u03b4\u03930[4:6]\n",
      "    dvx, dvy = dpp[1:2]/m; d\u03c9 = dpp[end]/I\n",
      "    dqq += t*[dvx, dvy, d\u03c9]\n",
      "    \n",
      "    return [dqq, dpp]\n",
      "end"
     ],
     "language": "python",
     "metadata": {},
     "outputs": [
      {
       "metadata": {},
       "output_type": "pyout",
       "prompt_number": 18,
       "text": [
        "evol_\u03b4\u0393 (generic function with 3 methods)"
       ]
      }
     ],
     "prompt_number": 18
    },
    {
     "cell_type": "code",
     "collapsed": false,
     "input": [
      "cd(\"/home/rafael/UNAM/Sanders/Mancuerna/Dumbbell/Dumbbell-Julia/Codigo-julia\")\n",
      "\n",
      "\n",
      "#include(\"dumbbell_type.jl\")\n",
      "#include(\"Gram_Schmidt.jl\")\n",
      "#include(\"dumbbell_lyapunov_functions.jl\")\n",
      "\n",
      "using PyPlot\n",
      "\n",
      "outfile = \"exponents.dat\"\n",
      "f1 = open(outfile,\"w\")\n",
      "\n",
      "rcm = [1., 1.]; l0=0.2; m0=1.; vcm = [2.1, 0.6]; \u03b8=\u03c0/6; \u03c9=2.\n",
      "\n",
      "vert_walls = [-3., 3.]; horiz_walls =[-2., 2.]\n",
      "\n",
      "db = dumbbell(rcm, \u03b8, vcm, \u03c9, m0, l0, 0)\n",
      "\n",
      "#reset_dummbell(db)\n",
      "\n",
      "srand(5)\n",
      "randvecs = ([rand(6) for i in 1:6])\n",
      "dispvecs, normdispvecs = Gram_Schmidt(randvecs)\n",
      "\n",
      "N=10000\n",
      "\n",
      "col_count = 0\n",
      "\n",
      "\u03bb_col = zeros(Float64,N,6)\n",
      "\u03bb_time = zeros(Float64,N,6)\n",
      "\u03c7s = zeros(Float64,N,6)\n",
      "\n",
      "col_times = Float64[]; times = Float64[]; t_T = 0\n",
      "\n",
      "check=true\n",
      "\n",
      "#tic()\n",
      "for k in 1:N\n",
      "    col_count += 1\n",
      "\n",
      "    \u03930,  \u0393f, wall, part, tc = collision(db, vert_walls, horiz_walls)\n",
      "    t_T += tc\n",
      "    push!(times, t_T)\n",
      "    push!(col_times, tc)\n",
      "\n",
      "    dispvecs0 = Array{Float64}[]\n",
      "    for v in normdispvecs\n",
      "        vf = evol_\u03b4\u0393(v, tc, l0, m0)\n",
      "        push!(dispvecs0, [vf])\n",
      "    end\n",
      "\n",
      "    dispvecs1 = Array{Float64}[]\n",
      "    for d\u0393 in dispvecs0\n",
      "        d\u0393p = displacement_vector_collision_map(\u03930, d\u0393, part, wall, l0, m0)\n",
      "        push!(dispvecs1, [d\u0393p])\n",
      "    end\n",
      "\n",
      "    orthovecs, normdispvecs = Gram_Schmidt(dispvecs1)\n",
      "\n",
      "    for (j,vv) in enumerate(orthovecs)\n",
      "        if k>1\n",
      "            \u03c7s[k, j] = \u03c7s[k-1, j] + log(norm(vv))\n",
      "        else\n",
      "            \u03c7s[1,j] = log(norm(vv))\n",
      "        end\n",
      "\n",
      "        \u03bb_col[k,j] = \u03c7s[k,j]/(k)\n",
      "        \u03bb_time[k,j] = \u03c7s[k,j]/t_T\n",
      "    end\n",
      "\n",
      "    println(f1, string(t_T)*\"\\t\"*string(tc))\n",
      "    for j in 1:6\n",
      "        print(f1,\"\\t\"*string(\u03bb_col[k,j])*\"\\t\"*string(\u03bb_time[k,j]))\n",
      "    end\n",
      "    print(f1,\"\\t\"*string(db.collision_counter))\n",
      "\n",
      "    x1, y1 = particle_position(db, 1)[1:2]\n",
      "    x2, y2 = particle_position(db, 2)[1:2]\n",
      "\n",
      "    if k%1000==0 && check\n",
      "        suma1 = 0.; suma2 = 0.\n",
      "        for j in 1:6\n",
      "            suma1 += \u03bb_time[k,j]\n",
      "            suma2 += \u03bb_col[k,j]\n",
      "        end\n",
      "\n",
      "                println(\"Suma de exponentes despu\u00e9s de \\t\"*string(db.collision_counter)*\" colisiones\")\n",
      "        println(suma1, \"\\t\", suma2)\n",
      "        println(\"--------\\nDumbbell position\")\n",
      "        println(x1,\"\\t\", y1,\"\\t\", x2,\"\\t\", y2)\n",
      "        #toc()\n",
      "        println(\"*********\\n\")\n",
      "        #tic()\n",
      "    end\n",
      "\n",
      "end\n",
      "\n",
      "close(f1)\n",
      "\n",
      "println(\"Total time:\\t\", t_T, \"\\n********\")\n",
      "\n",
      "println(\"Lyapunov Spectrum\")\n",
      "for j in 1:6\n",
      "    println(\u03bb_col[end,j], \"\\t\", \u03bb_time[end,j], \"\\t\", \u03bb_col[end,j]/\u03bb_time[end,j])\n",
      "end\n",
      "println(\"Tiempo promedio \\t\",t_T/N)\n",
      "\n",
      "\n",
      "colors = [\"cyan\", \"blue\", \"red\", \"green\", \"purple\", \"yellow\"]\n",
      "figure(figsize=(10,10))\n",
      "\n",
      "for k in 1:6\n",
      "    plot(\u03bb_col[:,k], color=colors[k])\n",
      "    plot(\u03bb_time[:,k], color=colors[k], ls=\"--\")\n",
      "    ylim(-2.5,2.5)\n",
      "end\n",
      "\n",
      "#savefig(\"Lyapunov_spectrum-2.jpg\")\n",
      "\n",
      "#show()\n",
      "\n"
     ],
     "language": "python",
     "metadata": {},
     "outputs": [
      {
       "output_type": "stream",
       "stream": "stdout",
       "text": [
        "Suma de exponentes despu\u00e9s de \t1000 colisiones\n"
       ]
      },
      {
       "output_type": "stream",
       "stream": "stdout",
       "text": [
        "-3.552713678800501e-15\t-6.661338147750939e-15\n",
        "--------\n",
        "Dumbbell position\n",
        "-1.9458020625480068\t1.6112578277223562\t-1.8515708389842307\t1.9999999999981122\n",
        "*********\n",
        "\n",
        "Suma de exponentes despu\u00e9s de \t2000 colisiones"
       ]
      },
      {
       "output_type": "stream",
       "stream": "stdout",
       "text": [
        "\n",
        "3.3306690738754696e-15\t5.10702591327572e-15\n",
        "--------\n",
        "Dumbbell position\n",
        "-2.852796874357184\t-1.6219420925714865\t-2.9999999999999996\t-1.250013013577943\n",
        "*********\n",
        "\n",
        "Suma de exponentes despu\u00e9s de \t3000 colisiones"
       ]
      },
      {
       "output_type": "stream",
       "stream": "stdout",
       "text": [
        "\n",
        "7.771561172376096e-15\t1.2878587085651816e-14\n",
        "--------\n",
        "Dumbbell position\n",
        "2.796182869449923\t-1.9999999999999993\t2.7026933403671447\t-1.6110787895320173\n",
        "*********\n",
        "\n",
        "Suma de exponentes despu\u00e9s de \t4000 colisiones"
       ]
      },
      {
       "output_type": "stream",
       "stream": "stdout",
       "text": [
        "\n",
        "7.105427357601002e-15\t1.176836406102666e-14\n",
        "--------\n",
        "Dumbbell position\n",
        "2.999999999980496\t1.1752154708181424\t2.60014103188465\t1.1858364704568438\n",
        "*********\n",
        "\n",
        "Suma de exponentes despu\u00e9s de \t5000 colisiones"
       ]
      },
      {
       "output_type": "stream",
       "stream": "stdout",
       "text": [
        "\n",
        "8.215650382226158e-15\t1.4210854715202004e-14\n",
        "--------\n",
        "Dumbbell position\n",
        "-1.8439817013228552\t1.6178604753607935\t-1.7257895538346775\t1.9999999999746876\n",
        "*********\n",
        "\n",
        "Suma de exponentes despu\u00e9s de \t6000 colisiones"
       ]
      }
     ]
    },
    {
     "cell_type": "markdown",
     "metadata": {},
     "source": [
      "## *Script* para obtener (despu\u00e9s de tanto rollo) el espectro de Lyapunov"
     ]
    },
    {
     "cell_type": "markdown",
     "metadata": {},
     "source": [
      "Archivo para guardar los datos de los exponentes de Lyapunov, condiciones iniciales de la mancuerna, posiciones de las paredes, etc."
     ]
    },
    {
     "cell_type": "code",
     "collapsed": false,
     "input": [
      " # archivo para guardar los valores de los seis exponentes\n",
      "outfile = \"exponents-notebook.dat\" \n",
      "f1 = open(outfile,\"w\")\n",
      "\n",
      "# posici\u00f3n inicial del CM, largo de la mancuerna, su masa, velocidad del CM, y posici\u00f3n y velocidad angulares\n",
      "rcm = [1., 1.]; l0=0.2; m0=1.; vcm = [2.1, 0.6]; \u03b8=\u03c0/6; \u03c9=2.\n",
      "\n",
      "# posici\u00f3n de las paredes verticales y horizontales\n",
      "vert_walls = [-3., 3.]; horiz_walls =[-2., 2.]\n",
      "\n",
      "# mancuerna con las condiciones iniciales de arriba y '0' como contador de colisiones\n",
      "db = dumbbell(rcm, \u03b8, vcm, \u03c9, m0, l0, 0)\n",
      "\n",
      "# n\u00famero total de colisiones que se van a considerar\n",
      "N=5000\n",
      "\n",
      "# valor inicial del contador de colisiones\n",
      "col_count = 0\n",
      "\n",
      "# opci\u00f3n para ir checando cada cierto n\u00famero de colisiones (especificado m\u00e1s abajo) si la suma de los exponentes del espectro\n",
      "# es cero, como deber\u00eda ser para un sistema conservativo; y que una de las part\u00edculas de la mancuerna en efecto haya chocado\n",
      "check=true"
     ],
     "language": "python",
     "metadata": {},
     "outputs": [
      {
       "metadata": {},
       "output_type": "pyout",
       "prompt_number": 19,
       "text": [
        "true"
       ]
      }
     ],
     "prompt_number": 19
    },
    {
     "cell_type": "markdown",
     "metadata": {},
     "source": [
      "- `randvecs` es una tupla que tiene 6 arreglos **aleatorios** de 6 componentes cada uno.\n",
      "- `dispvecs` es la ortogonalizaci\u00f3n de `randvecs` \n",
      "- `normdispvecs` es el conjunto de vectores ortogonales `dispvecs` pero normalizado y funciona como el conjunto inicial de vectores tangentes $\\delta \\v{\\Gamma}$\n",
      "\n",
      "Estas dos \u00faltimas variables se construyen usando la funci\u00f3n `Gram_Schmidt` que se defini\u00f3 arriba."
     ]
    },
    {
     "cell_type": "code",
     "collapsed": false,
     "input": [
      "srand(5)\n",
      "\n",
      "randvecs = ([rand(6) for i in 1:6]);\n",
      "dispvecs, normdispvecs = Gram_Schmidt(randvecs);"
     ],
     "language": "python",
     "metadata": {},
     "outputs": [],
     "prompt_number": 20
    },
    {
     "cell_type": "markdown",
     "metadata": {},
     "source": [
      "Ahora se va a implementar el m\u00e9todo de Benettin que consiste en tomar tantos vectores de desplazamiento *ortogonales* como coordenadas tenga el espacio fase (6 en este caso): $\\{\\delta \\v{\\Gamma}_0^1,\\ \\delta \\v{\\Gamma}_0^2, \\dots, \\delta \\v{\\Gamma}_0^6\\}$.\n",
      "\n",
      "Estos se dejan evolucionar hasta el tiempo de colisi\u00f3n, `tc`, seg\u00fan la funci\u00f3n `evol_\u03b4\u0393` definida arriba. Despu\u00e9s se obtienen los vectores transformados por la colisi\u00f3n, $\\delta \\v{\\Gamma'}_0^j$, seg\u00fan la Ec. \\ref{eq:dG' maestra}, aplicada a cada uno de los $\\delta \\v{\\Gamma}_0^j$. Los vectores de desplazamiento primados se *ortogonalizan* usando Gram-Schmidt, lo que da lugar al conjunto $\\{\\delta \\tilde{\\v{\\Gamma}}_0^1, \\dots, \\delta \\tilde{\\v{\\Gamma}}_0^6 \\}$. \n",
      "\n",
      "Para ir midiendo la expansi\u00f3n o contracci\u00f3n en las distintas direcciones se toma el logaritmo de la norma de cada uno de estos vectores \n",
      "$$ \\chi_0^j = \\log \\| \\delta \\tilde{\\v{\\Gamma}}_0^j\\| $$\n",
      "\n",
      "Despu\u00e9s se *normalizan* los $\\delta \\tilde{\\v{\\Gamma}}$ y este nuevo conjunto orto*normal* es igual al segundo conjunto de vectores de desplazamiento $\\{\\delta \\v{\\Gamma}_1^1,\\ \\delta \\v{\\Gamma}_1^2, \\dots, \\delta \\v{\\Gamma}_1^6\\}$."
     ]
    },
    {
     "cell_type": "markdown",
     "metadata": {},
     "source": [
      "En general, despu\u00e9s de $k+1$ colisiones, se tiene que\n",
      "\n",
      "\\begin{equation}\n",
      "\\chi_k^j = \\sum_{i=0}^k \\log \\| \\delta \\tilde{\\v{\\Gamma}}_i^j \\|\n",
      "\\label{eq:chi k}\n",
      "\\end{equation}\n",
      "\n",
      "donde $\\delta \\tilde{\\v{\\Gamma}}_i^j$ es el vector *orto*gonalizado obtenido a partir de $\\delta \\v{\\Gamma'}_i^j$. Y este vector primado una vez m\u00e1s se obtiene  a partir de $\\delta \\v{\\Gamma}$ usando \\ref{eq:dG' maestra}."
     ]
    },
    {
     "cell_type": "markdown",
     "metadata": {},
     "source": [
      "Lo m\u00e1s importante es que los vectores de desplazamiento se deben *normalizar* despu\u00e9s de que se han obtenido los valores de las normas de cada uno de los elementos del vector *ortogonal*, si no qu\u00e9 chiste."
     ]
    },
    {
     "cell_type": "markdown",
     "metadata": {},
     "source": [
      "Ya con los valores de $\\chi_k^j$ se puede calcular el espectro de Lyapunov, $\\{ \\lambda_k^1, \\dots, \\lambda_k^6\\}$. De manera rigurosa, se tiene \n",
      "$$ \\lambda_k^j = \\lim_{t\\ \\to \\infty} \\dfrac1t \\chi_k^j.$$\n"
     ]
    },
    {
     "cell_type": "markdown",
     "metadata": {},
     "source": [
      "Sin embargo, num\u00e9ricamente, estos valores pueden aproximarse por\n",
      "\n",
      "\\begin{equation}\n",
      "\\lambda_k^j \\approx \\dfrac{1}{k} \\chi_k^j;\n",
      "\\label{eq:lyapunov colisiones}\n",
      "\\end{equation}\n",
      "\n",
      "o por\n",
      "\n",
      "\\begin{equation}\n",
      "\\lambda_k^j \\approx \\dfrac{1}{T_k} \\chi_k^j;\n",
      "\\label{eq:lyapunov tiempo}\n",
      "\\end{equation}\n",
      "\n",
      "donde $T_k$ es el tiempo total transcurrido hasta la $k$-\u00e9sima colisi\u00f3n. En realidad, cuando $t \\to \\infty$, existe un tiempo promedio de colisi\u00f3n $\\tau$ tal que, $T_k = k \\tau$."
     ]
    },
    {
     "cell_type": "markdown",
     "metadata": {},
     "source": [
      "El siguiente c\u00f3digo implementa este m\u00e9todo de Benettin hasta las `N` colisiones definidas arriba, y obtiene dos conjuntos separados de $\\lambda_k^j$: uno seg\u00fan el n\u00famero de colisiones (Ec. \\ref{eq:lyapunov colisiones}) y otro usando el tiempo total (Ec. \\ref{eq:lyapunov tiempo})."
     ]
    },
    {
     "cell_type": "code",
     "collapsed": false,
     "input": [
      "\n",
      "# arreglos para ir guardando los resultados del espectro de Lyapunov\n",
      "\u03c7s = zeros(Float64,N,6) # valores del logaritmo las normas de los vectores de desplazamiento\n",
      "\u03bb_col = zeros(Float64,N,6) # espectro calculado por n\u00famero de colisiones\n",
      "\u03bb_time = zeros(Float64,N,6) # espectro calculado por el tiempo de colisi\u00f3n\n",
      "\n",
      "\n",
      "# arreglos para almacenar los tiempos de colisi\u00f3n y el tiempo total de evoluci\u00f3n del sistema, respectivamente\n",
      "col_times = Float64[]; times = Float64[]; t_T = 0\n",
      "\n",
      "# bucle para aplicar el m\u00e9todo de Benettin N veces\n",
      "for k in 1:N\n",
      "    col_count += 1\n",
      "    \n",
      "    # valores de los vectores del espacio fase justo antes y justo despu\u00e9s de la colisi\u00f3n\n",
      "    # tambi\u00e9n se requiere qu\u00e9 part\u00edcula choc\u00f3 y con qu\u00e9 tipo de pared lo hizo (vertical u horizontal)\n",
      "    \u03930,  \u0393f, wall, part, tc = collision(db, vert_walls, horiz_walls)\n",
      "    t_T += tc\n",
      "    push!(times, t_T)\n",
      "    push!(col_times, tc)\n",
      "    \n",
      "    dispvecs0 = Array{Float64}[]\n",
      "    for v in normdispvecs\n",
      "        # se evoluciona cada uno de los vectores de desplazamiento un tiempo igual al tiempo de colisi\u00f3n\n",
      "        vf = evol_\u03b4\u0393(v, tc, l0, m0) \n",
      "        push!(dispvecs0, [vf])\n",
      "    end\n",
      "    \n",
      "    dispvecs1 = Array{Float64}[]\n",
      "    for d\u0393 in dispvecs0\n",
      "        # se transforma cada uno de los vectores de desplazamiento para obtener \u03b4\u0393' seg\u00fan la Ec. (5)\n",
      "        d\u0393p = displacement_vector_collision_map(\u03930, d\u0393, part, wall, l0, m0)\n",
      "        push!(dispvecs1, [d\u0393p])\n",
      "    end\n",
      "    \n",
      "    # vectores ortogonalizados y ortoNORMAlizados; s\u00f3lo se usan los primeros para obtener las \u03c7's\n",
      "    orthovecs, normdispvecs = Gram_Schmidt(dispvecs1)\n",
      "    \n",
      "    for (j,vv) in enumerate(orthovecs) \n",
      "        if k>1\n",
      "            \u03c7s[k, j] = \u03c7s[k-1, j] + log(norm(vv)) #valor de \u03c7\u2096\u02b2\n",
      "        else\n",
      "            \u03c7s[1,j] = log(norm(vv)) # valor de \u03c7\u2081\u02b2 (o \u03c7\u2080\u02b2  en el texto) \n",
      "        end\n",
      "        # j-\u00e9simo exponente de Lyapunov despu\u00e9s de k colisiones\n",
      "        \u03bb_col[k,j] = \u03c7s[k,j]/(k) #usando el n\u00famero de colisiones\n",
      "        \u03bb_time[k,j] = \u03c7s[k,j]/t_T #usando el tiempo total\n",
      "    end\n",
      "    \n",
      "    println(f1, string(t_T)*\"\\t\"*string(tc))\n",
      "    for j in 1:6\n",
      "        print(f1,\"\\t\"*string(\u03bb_col[k,j])*\"\\t\"*string(\u03bb_time[k,j]))\n",
      "    end\n",
      "    print(f1,\"\\t\"*string(db.collision_counter))\n",
      "    \n",
      "    x1, y1 = particle_position(db, 1)[1:2]\n",
      "    x2, y2 = particle_position(db, 2)[1:2]\n",
      "    \n",
      "    if k%1000==0 && check\n",
      "        suma1 = 0.; suma2 = 0.\n",
      "        for j in 1:6\n",
      "            suma1 += \u03bb_time[k,j]\n",
      "            suma2 += \u03bb_col[k,j]\n",
      "        end\n",
      "        \n",
      "        println(\"Suma de exponentes despu\u00e9s de \\t\"*string(db.collision_counter)*\" colisiones\")\n",
      "        println(suma1, \"\\t\", suma2)\n",
      "        println(\"--------\\nDumbbell position\")\n",
      "        println(x1,\"\\t\", y1,\"\\t\", x2,\"\\t\", y2)\n",
      "        println(\"*********\\n\")\n",
      "\n",
      "    end\n",
      "    \n",
      "end\n",
      "    \n",
      "close(f1)\n",
      "\n",
      "println(\"Total time:\\t\", t_T, \"\\n********\")\n",
      "\n",
      "println(\"Lyapunov Spectrum\")\n",
      "for j in 1:6\n",
      "    println(\"componente \",j, \": \\t\", \u03bb_col[end,j], \"\\t\", \u03bb_time[end,j], \"\\t\", \u03bb_col[end,j]/\u03bb_time[end,j])\n",
      "end\n",
      "println(\"Tiempo promedio \\t\",t_T/N)"
     ],
     "language": "python",
     "metadata": {},
     "outputs": [
      {
       "output_type": "stream",
       "stream": "stdout",
       "text": [
        "Suma de exponentes despu\u00e9s de \t1000 colisiones\n"
       ]
      },
      {
       "output_type": "stream",
       "stream": "stdout",
       "text": [
        "-3.552713678800501e-15\t-6.661338147750939e-15\n",
        "--------\n",
        "Dumbbell position\n",
        "-1.9458020625480068\t1.6112578277223562\t-1.8515708389842307\t1.9999999999981122\n",
        "*********\n",
        "\n",
        "Suma de exponentes despu\u00e9s de \t2000 colisiones"
       ]
      },
      {
       "output_type": "stream",
       "stream": "stdout",
       "text": [
        "\n",
        "3.3306690738754696e-15\t5.10702591327572e-15\n",
        "--------\n",
        "Dumbbell position\n",
        "-2.852796874357184\t-1.6219420925714865\t-2.9999999999999996\t-1.250013013577943\n",
        "*********\n",
        "\n",
        "Suma de exponentes despu\u00e9s de \t3000 colisiones"
       ]
      },
      {
       "output_type": "stream",
       "stream": "stdout",
       "text": [
        "\n",
        "7.771561172376096e-15\t1.2878587085651816e-14\n",
        "--------\n",
        "Dumbbell position\n",
        "2.796182869449923\t-1.9999999999999993\t2.7026933403671447\t-1.6110787895320173\n",
        "*********\n",
        "\n",
        "Suma de exponentes despu\u00e9s de \t4000 colisiones"
       ]
      },
      {
       "output_type": "stream",
       "stream": "stdout",
       "text": [
        "\n",
        "7.105427357601002e-15\t1.176836406102666e-14\n",
        "--------\n",
        "Dumbbell position\n",
        "2.999999999980496\t1.1752154708181424\t2.60014103188465\t1.1858364704568438\n",
        "*********\n",
        "\n",
        "Suma de exponentes despu\u00e9s de \t5000 colisiones"
       ]
      },
      {
       "output_type": "stream",
       "stream": "stdout",
       "text": [
        "\n",
        "8.215650382226158e-15\t1.4210854715202004e-14\n",
        "--------\n",
        "Dumbbell position\n",
        "-1.8439817013228552\t1.6178604753607935\t-1.7257895538346775\t1.9999999999746876\n",
        "*********\n",
        "\n",
        "Total time:\t8354.7074677079\n",
        "********\n",
        "Lyapunov Spectrum\n",
        "componente 1: \t1.9252816601165195\t1.152213687647353\t1.6709414935415798\n",
        "componente 2: \t0.9315699108918312\t0.557511986202077\t1.6709414935415798\n",
        "componente 3: \t0.391698300511959\t0.23441772319732745\t1.6709414935415798\n",
        "componente 4: \t-0.349998595517716\t-0.20946190927121566\t1.6709414935415798\n",
        "componente 5: \t-0.8922703494506941\t-0.5339925741861354\t1.6709414935415798\n",
        "componente 6: \t-2.0062809265518857\t-1.200688913589398\t1.6709414935415798\n",
        "Tiempo promedio \t1.67094149354158\n"
       ]
      }
     ],
     "prompt_number": 21
    },
    {
     "cell_type": "code",
     "collapsed": false,
     "input": [
      "colors = [\"cyan\", \"blue\", \"red\", \"green\", \"purple\", \"yellow\"]\n",
      "figure(figsize=(10,10))\n",
      "\n",
      "for k in 1:6\n",
      "    plot(\u03bb_col[:,k], color=colors[k])  # espectro usando el n\u00famero de colisiones\n",
      "    plot(\u03bb_time[:,k], color=colors[k], ls=\"--\") # espectro usando el tiempo total (l\u00ednea punteada)\n",
      "    ylim(-2.5,2.5)\n",
      "end"
     ],
     "language": "python",
     "metadata": {},
     "outputs": [
      {
       "metadata": {},
       "output_type": "display_data",
       "png": "[encoded data removed]",
       "text": [
        "Figure(PyObject <matplotlib.figure.Figure object at 0xb2e7250c>)"
       ]
      }
     ],
     "prompt_number": 22
    }
   ],
   "metadata": {}
  }
 ]
}