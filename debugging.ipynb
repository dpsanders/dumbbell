{
 "metadata": {
  "language": "Julia",
  "name": "",
  "signature": "sha256:a1a8a4aa04e0ab5b321f1ce3e493ee997861e190bdb80db0faccf6782f22d7e2"
 },
 "nbformat": 3,
 "nbformat_minor": 0,
 "worksheets": [
  {
   "cells": [
    {
     "cell_type": "heading",
     "level": 1,
     "metadata": {},
     "source": [
      "C\u00f3digo con una funci\u00f3n para obtener la condici\u00f3n de colisi\u00f3n"
     ]
    },
    {
     "cell_type": "code",
     "collapsed": false,
     "input": [
      "import Base.show\n",
      "type dumbbell\n",
      "    position::Vector\n",
      "    angle::Float64\n",
      "    velocity::Vector\n",
      "    omega::Float64\n",
      "    m::Float64\n",
      "    l::Float64\n",
      "    collision_counter::Int64\n",
      "    \n",
      "end\n",
      "\n",
      "show(io::IO, db::dumbbell)= print(io, \"CM: $(db.position); \u03b8: $(round((db.angle)%(2*pi),2)); \"*\n",
      "\"Vcm: $(db.velocity); \u03c9: $(db.omega); m=$(db.m); l=$(db.l); I: $(round(db.m*db.l^2,2))\")\n",
      "\n",
      "\n",
      "function move(db::dumbbell, dt)\n",
      "    db.position += db.velocity*dt\n",
      "    db.angle += db.omega*dt\n",
      "    #db.angle = db.angle%(2pi)\n",
      "end\n",
      "\n",
      "\n",
      "function particle_position(db::dumbbell, part::Int, t=0) # define la posici\u00f3n de la part\u00edcula 'part' al tiempo 't'\n",
      "    x, y = db.position\n",
      "    vx, vy = db.velocity\n",
      "    \u03b8 = db.angle;    \u03c9 = db.omega\n",
      "    l = db.l\n",
      "    \u03b8_f = (\u03b8 + \u03c9*t)%(2pi) \n",
      "    \n",
      "    if part==1\n",
      "        x1 = x + vx*t + l*cos(\u03b8_f)\n",
      "        y1 = y + vy*t + l*sin(\u03b8_f) \n",
      "        \n",
      "        vx1 = vx - l*\u03c9*sin(\u03b8_f)\n",
      "        vy1 = vy + l*\u03c9*cos(\u03b8_f)\n",
      "        return [x1, y1, vx1, vy1]\n",
      "        \n",
      "    elseif part==2\n",
      "        x2 = x + vx*t - l*cos(\u03b8_f)\n",
      "        y2 = y + vy*t - l*sin(\u03b8_f) \n",
      "        \n",
      "        vx2 = vx + l*\u03c9*sin(\u03b8_f)\n",
      "        vy2 = vy - l*\u03c9*cos(\u03b8_f)\n",
      "        \n",
      "        return [x2, y2, vx2, vy2]\n",
      "        \n",
      "    else\n",
      "        println(\"No hay tantas part\u00edculas\")\n",
      "    end\n",
      "end\n",
      "\n",
      "\n",
      "function reset_dummbell(db::dumbbell, original_position = [1., 1.], \n",
      "    original_\u03b8=pi/6, original_velocity = [2.1, 0.6],\n",
      "    original_\u03c9=2.0)\n",
      "    db.position = original_position\n",
      "    db.velocity = original_velocity\n",
      "    db.angle = original_\u03b8\n",
      "    db.omega = original_\u03c9\n",
      "    db.collision_counter = 0;\n",
      "    \n",
      "    return \"Dumbbell reset\"\n",
      "end\n",
      "\n",
      "\n",
      "function ct_approx(db::dumbbell, wall, direction)\n",
      "    # This function returns an *approximation* of the time needed for one of the particles of the dumbbell\n",
      "    # to collide with the walls located at 'w1' and 'w2'. 'direction' specifies the orientation of the walls\n",
      "    #involved: if they are vertical, only the motion on the x axis is relevant, hence, direction=1;\n",
      "    #when they are horizontal, only the motion on the y axis needs to be considered, therefore, direction=2 \n",
      "    #dt=0.01     \n",
      "    err = 1e-10\n",
      "    t_elapsed = 0.\n",
      "    err2 = 0.01\n",
      "    w1 = wall[1]; w2 = wall[2]\n",
      "    \n",
      "    v = db.velocity; l = db.l; \u03c9=db.omega\n",
      "    \n",
      "    # positions of the particles 1 and 2, respectively, along the specified direction\n",
      "    r1 = particle_position(db, 1)[direction]\n",
      "    r2 = particle_position(db, 2)[direction]\n",
      "    \n",
      "    # distances from the both particles to each wall\n",
      "    \n",
      "    d11 = abs(w1-r1); d12 = abs(w1-r2); d21 = abs(w2-r1); d22 =abs(w2-r2)\n",
      "    V = sqrt(norm(v)^2+ (l*\u03c9)^2)\n",
      "    \n",
      "    if db.collision_counter!=0\n",
      "    \n",
      "    distances = sort([d11, d12, d21, d22])\n",
      "    dmin = distances[2]\n",
      "    times = [dmin, 1.]/V\n",
      "        \n",
      "    else\n",
      "        distances = [d11, d12, d21, d22, 1.]\n",
      "        times = distances/V\n",
      "    end\n",
      "\n",
      "    \n",
      "    dt = 0.1*minimum(times)\n",
      "    \n",
      "    while w1-err <= r1 <= w2+err && w1-err <= r2 <= w2+err\n",
      "        \n",
      "        t_elapsed += dt\n",
      "            \n",
      "        r1 = particle_position(db, 1, t_elapsed)[direction]\n",
      "        r2 = particle_position(db, 2, t_elapsed)[direction]\n",
      "        \n",
      "        \n",
      "        \n",
      "    end\n",
      "    # The output is the last time when the condition of both particles being within 'w1' y 'w2'  was fulfilled;\n",
      "    #and the time step used for the approximation  \n",
      "    t_elapsed - dt, dt \n",
      "    \n",
      "end\n",
      "\n",
      "# this function gives the inertia moment of a dummbell with TOTAL mass 'm' and length '2l'\n",
      "inertia_moment(m=1., l=0.2) = m*l^2  \n",
      "\n",
      "function collision_transformation(v_i, \u03c9_i, \u03b1, l=0.2, m=1., I = inertia_moment(1, 0.2))\n",
      "    # with this function, the transformation of the velocity (normal to the wall)\n",
      "    # and the angular velocity after a collision is obtained; \n",
      "    # the input needed are the initial velocities (v_i, \u03c9_i),\n",
      "    # the angle between the angular coordinate of the dumbbell (\u03b8) and the normal to the wall of collission, \u03b1;\n",
      "    # and the mass, length and intertia moment of the dumbbell.\n",
      "    # The output are the new (normal component of the) velocity and angular velocity, v_f, \u03c9_f\n",
      "    \n",
      "    denom = m*l^2 + I*csc(\u03b1)^2\n",
      "    \n",
      "       \n",
      "    v_f = (1 - (2*I*csc(\u03b1)^2)/denom)*v_i - (2*l*I*csc(\u03b1)/denom)*\u03c9_i\n",
      "    \n",
      "    \u03c9_f = (-2*l*m*csc(\u03b1)/denom)*v_i - (1-(2*I*csc(\u03b1)^2)/denom)*\u03c9_i\n",
      "    \n",
      "    \n",
      "    v_f, \u03c9_f\n",
      "end\n",
      "\n",
      "\n",
      "function col_condition(db::dumbbell, i::Int, j::Int, t, wall, direction::Int, t_approx, \u03b4t=0.01)\n",
      "    err = 1e-10\n",
      "    #tapprox = t\n",
      "    #w1 = wall[1]; w2 = wall[2]\n",
      "    w = wall[j]\n",
      "    r = particle_position(db, i, t)[direction]\n",
      "    #t_approx, dt = ct_approx(db, w1, w2, \u03b4t)\n",
      "    \n",
      "    dist = abs(w-r);\n",
      "    #println(r, \"\\t\", dist, \"\\t\", t, \"\\t\", t_approx)\n",
      "    (dist<err && t_approx < t <= t_approx + \u03b4t)\n",
      "end\n",
      "\n",
      "\n",
      "function directional_collision(db::dumbbell, walls, axis)\n",
      "    vx, vy = db.velocity\n",
      "    \u03b8, \u03c9, l, m = db.angle, db.omega, db.l, db.m\n",
      "    I = inertia_moment(m, l)\n",
      "    #w1, w2, = walls\n",
      "    \n",
      "    err = 1e-10\n",
      "               \n",
      "    tapprox, dt = ct_approx(db, walls, axis)\n",
      "    times = Float64[]\n",
      "    \n",
      "    max_iter = 20\n",
      "    \n",
      "    col_times = zeros(Float64, 2, 2)\n",
      "    position = zeros(Float64, 2, 2)\n",
      "    velocity = zeros(Float64, 2, 2)\n",
      "    counter = zeros(Int32, 2 ,2)\n",
      "    \n",
      "    for i in [1:2]\n",
      "        for j in [1:2]\n",
      "            col_times[i,j] = tapprox\n",
      "            position[i,j], velocity[i,j] = particle_position(db, i, col_times[i,j])[[axis, axis+2]]\n",
      "        end\n",
      "    end\n",
      "    \n",
      "    for i in [1:2]\n",
      "        for j in [1:2]\n",
      "            while ~col_condition(db, i, j, col_times[i,j], walls, axis, tapprox, dt)\n",
      "                col_times[i,j] = col_times[i,j] - (position[i,j]-walls[j])/velocity[i,j]\n",
      "                position[i,j], velocity[i,j] = particle_position(db, i, col_times[i,j])[[axis, axis+2]]\n",
      "                counter[i,j] += 1\n",
      "                if counter[i,j]>max_iter\n",
      "                    col_times[i,j] = -1.\n",
      "                    break\n",
      "                end\n",
      "            end\n",
      "            \n",
      "            push!(times, col_times[i,j])\n",
      "            \n",
      "        end\n",
      "    end\n",
      "         \n",
      "   # elegir cu\u00e1l es el tiempo correcto\n",
      "    times = times[times.>0]\n",
      "    if length(times)!=0\n",
      "        tc = minimum(times)\n",
      "    else\n",
      "        return(\"Error  \", db.collision_counter, col_times)\n",
      "    end\n",
      "           \n",
      "    \u03b8 = (\u03b8 + \u03c9*tc)%(2pi) # angle position of the dumbbell when the collision occurs\n",
      "\n",
      "    if axis ==1  # collision in the 'x' direction (vertical walls)\n",
      "        if tc==col_times[1, 1] || tc==col_times[1, 2] # the first particle collides\n",
      "            \u03b1 = -\u03b8\n",
      "            part = 1\n",
      "        elseif tc==col_times[2, 1] || tc==col_times[2, 2] # the second particle collides\n",
      "            \u03b1 = \u03b8\n",
      "            part = 2\n",
      "        end\n",
      "        \n",
      "        v_f, \u03c9_f = collision_transformation(vx, \u03c9, \u03b1, l, m, I)\n",
      "        \n",
      "        return tc, v_f, vy, \u03c9_f, part, axis, col_times\n",
      "        \n",
      "        \n",
      "    elseif axis==2 # collision in the y direction (horizonta walls)\n",
      "        if tc==col_times[1, 1] || tc==col_times[1, 2] # the first particle collides\n",
      "            \u03b1 = pi/2 - \u03b8\n",
      "            part = 1\n",
      "        elseif tc==col_times[2, 1] || tc==col_times[2, 2] # the second particle collides\n",
      "            \u03b1 = \u03b8 - pi/2\n",
      "            part = 2\n",
      "        end\n",
      "        \n",
      "        v_f, \u03c9_f = collision_transformation(vy, \u03c9, \u03b1, l, m, I)\n",
      "        \n",
      "        return tc, vx, v_f, \u03c9_f, part, axis, col_times\n",
      "        \n",
      "    else\n",
      "        println(\"Incorrect direction\")\n",
      "    end\n",
      "            \n",
      "end\n",
      "\n",
      "\n",
      "\n",
      "function collision(db::dumbbell, vert_walls = [-3, 3], horiz_walls =[-2, 2])\n",
      "    db.collision_counter += 1\n",
      "    #\u03b4t = 0.005\n",
      "    tcx, vx_fx, vy_fx, \u03c9_fx, part_x = directional_collision(db, vert_walls, 1)[1:5]\n",
      "    tcy, vx_fy, vy_fy, \u03c9_fy, part_y = directional_collision(db, horiz_walls, 2) [1:5]\n",
      "    \n",
      "    x_0, y_0 = db.position; \u03b8_0 = db.angle\n",
      "    vx_0, vy_0 = db.velocity; \u03c9_0 = db.omega\n",
      "    l = db.l; m = db.m; I = inertia_moment(m,l)\n",
      "    \n",
      "    \n",
      "    # vector del espacio fase inicial (antes de que la mancuerna se mueva hacia el punto de colisi\u00f3n)\n",
      "    \u0393_0 = [x_0, y_0, \u03b8_0, vx_0, vy_0, I*\u03c9_0]\n",
      "    \n",
      "    if tcx < tcy && tcx >0\n",
      "        tc, vx_new, vy_new, \u03c9_new, part = tcx, vx_fx, vy_fx, \u03c9_fx, part_x\n",
      "        wall = \"vertical\"\n",
      "        \n",
      "    elseif tcy < tcx && tcy>0\n",
      "        tc, vx_new, vy_new, \u03c9_new, part = tcy, vx_fy, vy_fy, \u03c9_fy, part_y\n",
      "        wall = \"horizontal\"\n",
      "    else\n",
      "        return \"Error\"\n",
      "        \n",
      "    end\n",
      "    \n",
      "    move(db,tc) # the dumbbell is moved to the collision point\n",
      "           \n",
      "    db.velocity = [vx_new, vy_new]\n",
      "    db.omega = \u03c9_new\n",
      "    x_f, y_f = db.position; \u03b8_f = db.angle\n",
      "    \n",
      "    \u0393_f = [x_f, y_f, \u03b8_f, vx_new, vy_new, I*\u03c9_new]\n",
      "    \n",
      "    return (\u0393_0, \u0393_f, wall, part, tc)\n",
      "    \n",
      "end\n",
      "\n",
      "function next_collision(db::dumbbell, vert_walls = [-3, 3], horiz_walls =[-2, 2])\n",
      "    \n",
      "    tcx, vx_fx, vy_fx, \u03c9_fx, part_x = directional_collision(db, vert_walls, 1)[1:5]\n",
      "    tcy, vx_fy, vy_fy, \u03c9_fy, part_y = directional_collision(db, horiz_walls, 2)[1:5]\n",
      "    \n",
      "    x_0, y_0 = db.position; \u03b8_0 = db.angle\n",
      "    vx_0, vy_0 = db.velocity; \u03c9_0 = db.omega\n",
      "    l = db.l; m = db.m; I = inertia_moment(m,l)\n",
      "    \n",
      "    if tcx < tcy && tcx >0\n",
      "        tc, vx_new, vy_new, \u03c9_new, part = tcx, vx_fx, vy_fx, \u03c9_fx, part_x\n",
      "        wall = \"vertical\"\n",
      "        \n",
      "    elseif tcy < tcx && tcy>0\n",
      "        tc, vx_new, vy_new, \u03c9_new, part = tcy, vx_fy, vy_fy, \u03c9_fy, part_y\n",
      "        wall = \"horizontal\"\n",
      "    else\n",
      "        return \"Error\"\n",
      "    end\n",
      "        \n",
      "    #part = \n",
      "    x1, y1 = particle_position(db, 1, tc)\n",
      "    x2, y2 = particle_position(db, 2, tc)\n",
      "    \n",
      "    new_r = db.position + db.velocity*tc\n",
      "    new_\u03b8 = (db.angle + db.omega*tc)%(2pi)\n",
      "    new_v = [vx_new, vy_new]\n",
      "    new_\u03c9 = \u03c9_new\n",
      "\n",
      "    new_db = dumbbell(new_r, new_\u03b8, new_v, new_\u03c9, db.m, db.l, 0)\n",
      "    \n",
      "    return new_db, [tc, x1, y1, x2, y2]\n",
      "\n",
      "end\n",
      "    \n",
      "\n",
      "\n",
      "\n",
      "manc = dumbbell([1., 1.], pi/6, [2.1, 0.6], 2., 1, 0.2, 0)\n",
      "\n",
      "manc"
     ],
     "language": "python",
     "metadata": {},
     "outputs": [
      {
       "metadata": {},
       "output_type": "pyout",
       "prompt_number": 33,
       "text": [
        "CM: [1.0,1.0]; \u03b8: 0.52; Vcm: [2.1,0.6]; \u03c9: 2.0; m=1.0; l=0.2; I: 0.04"
       ]
      }
     ],
     "prompt_number": 33
    },
    {
     "cell_type": "code",
     "collapsed": false,
     "input": [
      "reset_dummbell(manc)\n",
      "collision(manc)\n",
      "manc, manc.angle, manc.omega"
     ],
     "language": "python",
     "metadata": {},
     "outputs": [
      {
       "metadata": {},
       "output_type": "pyout",
       "prompt_number": 34,
       "text": [
        "(CM: [2.86656,1.5333]; \u03b8: 2.3; Vcm: [-0.984541,0.6]; \u03c9: -9.487726922156016; m=1.0; l=0.2; I: 0.04,2.3012705909338376,-9.487726922156016)"
       ]
      }
     ],
     "prompt_number": 34
    },
    {
     "cell_type": "code",
     "collapsed": false,
     "input": [
      "reset_dummbell(manc)\n",
      "\n",
      "wx1 = -3; wx2 =3; wy1 = -2; wy2 = 2; err = 1e-8\n",
      "\n",
      "I = inertia_moment(manc.m, manc.l)\n",
      "\n",
      "for i in 1:50000\n",
      "    tc = collision(manc)[end]\n",
      "    x1, y1 = particle_position(manc,1)\n",
      "    x2, y2 = particle_position(manc,2)\n",
      "    if i%5000==0\n",
      "        println(x1,\"\\t\", y1, \"\\t\", x2, \"\\t\", y2, \"\\t ct=\",tc, \"\\t cc=\", manc.collision_counter)\n",
      "        #println(manc.velocity, norm(manc.velocity)^2 + I*manc.omega^2)\n",
      "        println(\"*******\")\n",
      "    end\n",
      "    \n",
      "    if (abs(x1-wx1)>err && abs(x1-wx2)>err) && (abs(x2-wx1)>err && abs(x2-wx2)>err) &&\n",
      "        (abs(y1-wy1)>err &&  abs(y1-wy2)>err) &&  (abs(y2-wy1)>err &&  abs(y2-wy2)>err)\n",
      "        \n",
      "        println(\"#####\")\n",
      "        println(\"Error \\t\", x1,\"\\t\", y1, \"\\t\", x2, \"\\t\", y2, \"\\t cc=\", manc.collision_counter)\n",
      "    end\n",
      "    \n",
      "end"
     ],
     "language": "python",
     "metadata": {},
     "outputs": [
      {
       "output_type": "stream",
       "stream": "stdout",
       "text": [
        "-2"
       ]
      },
      {
       "output_type": "stream",
       "stream": "stdout",
       "text": [
        ".6414756858334463\t1.9999999999999991\t-2.9834011889153227\t1.7924260364539757\t ct=0.007258011466249118\t cc=5000\n",
        "*******\n",
        "-"
       ]
      },
      {
       "output_type": "stream",
       "stream": "stdout",
       "text": [
        "0.13906315621440207\t-1.7008752688864832\t-0.4046274520755761\t-2.000000000000042\t ct=2.0326215847758777\t cc=10000\n",
        "*******\n",
        "-"
       ]
      },
      {
       "output_type": "stream",
       "stream": "stdout",
       "text": [
        "2.538140910282276\t1.6110365020080517\t-2.6314543458527893\t1.9999999999638722\t ct=0.5637143207257039\t cc=15000\n",
        "*******\n",
        "2"
       ]
      },
      {
       "output_type": "stream",
       "stream": "stdout",
       "text": [
        ".0520999656283507\t-1.9999999999999996\t1.652244911985824\t-1.9892326383671795\t ct=2.50070089542876\t cc=20000\n",
        "*******\n",
        "-"
       ]
      },
      {
       "output_type": "stream",
       "stream": "stdout",
       "text": [
        "1.332041956398156\t1.976295377724024\t-1.7313389522330271\t2.000000000000008\t ct=2.0154339734889173\t cc=25000\n",
        "*******\n",
        "-"
       ]
      },
      {
       "output_type": "stream",
       "stream": "stdout",
       "text": [
        "2.999999999994446\t-0.02201807841773218\t-2.9600301230328716\t-0.420016079588186\t ct=2.198552447661224\t cc=30000\n",
        "*******\n",
        "-"
       ]
      },
      {
       "output_type": "stream",
       "stream": "stdout",
       "text": [
        "2.9999999999999982\t-1.0505697908370228\t-2.6124247730349452\t-0.9516483905083374\t ct=3.003313244685295\t cc=35000\n",
        "*******\n",
        "2"
       ]
      },
      {
       "output_type": "stream",
       "stream": "stdout",
       "text": [
        ".0331347031016573\t1.8792514454768976\t1.6517952393943405\t1.9999999999999893\t ct=1.7184992371956935\t cc=40000\n",
        "*******\n",
        "-"
       ]
      },
      {
       "output_type": "stream",
       "stream": "stdout",
       "text": [
        "0.2564602415027503\t2.0000000000000875\t-0.6560305436680698\t1.98146426080481\t ct=1.7214759569018978\t cc=45000\n",
        "*******\n",
        "-"
       ]
      },
      {
       "output_type": "stream",
       "stream": "stdout",
       "text": [
        "1.6592793472050114\t1.9413505034101535\t-2.0549562817737987\t2.0000000000000435\t ct=0.022332633391389082\t cc=50000\n",
        "*******\n"
       ]
      }
     ],
     "prompt_number": 37
    },
    {
     "cell_type": "code",
     "collapsed": false,
     "input": [
      "manc.collision_counter"
     ],
     "language": "python",
     "metadata": {},
     "outputs": [
      {
       "metadata": {},
       "output_type": "pyout",
       "prompt_number": 38,
       "text": [
        "50000"
       ]
      }
     ],
     "prompt_number": 38
    },
    {
     "cell_type": "code",
     "collapsed": false,
     "input": [
      "ct_approx(manc, [-3,3], 1), ct_approx(manc, [-2,2], 2)"
     ],
     "language": "python",
     "metadata": {},
     "outputs": [
      {
       "metadata": {},
       "output_type": "pyout",
       "prompt_number": 39,
       "text": [
        "((1.0358679029569087,0.04503773491116997),(2.2082442413527623,0.002641440480087075))"
       ]
      }
     ],
     "prompt_number": 39
    },
    {
     "cell_type": "code",
     "collapsed": false,
     "input": [
      "particle_position(manc,1)[2], particle_position(manc,2)[2]"
     ],
     "language": "python",
     "metadata": {},
     "outputs": [
      {
       "metadata": {},
       "output_type": "pyout",
       "prompt_number": 40,
       "text": [
        "(1.9413505034101535,2.0000000000000435)"
       ]
      }
     ],
     "prompt_number": 40
    },
    {
     "cell_type": "code",
     "collapsed": false,
     "input": [
      "directional_collision(manc, [-2,2],2)"
     ],
     "language": "python",
     "metadata": {},
     "outputs": [
      {
       "metadata": {},
       "output_type": "pyout",
       "prompt_number": 41,
       "text": [
        "(2.208412239293285,-1.0357750153087033,1.152991870857928,7.949496624603749,2,2,\n",
        "2x2 Array{Float64,2}:\n",
        " -1.0      -1.0\n",
        "  2.20841  -1.0)"
       ]
      }
     ],
     "prompt_number": 41
    }
   ],
   "metadata": {}
  }
 ]
}