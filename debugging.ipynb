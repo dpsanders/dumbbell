{
 "metadata": {
  "language": "Julia",
  "name": "",
  "signature": "sha256:0104ddfd05980b293fce5a8635fa48e76bc8ce9c5c895c5e10129a2d6587b3f6"
 },
 "nbformat": 3,
 "nbformat_minor": 0,
 "worksheets": [
  {
   "cells": [
    {
     "cell_type": "heading",
     "level": 1,
     "metadata": {},
     "source": [
      "C\u00f3digo con una funci\u00f3n para obtener la condici\u00f3n de colisi\u00f3n"
     ]
    },
    {
     "cell_type": "code",
     "collapsed": false,
     "input": [
      "import Base.show\n",
      "type dumbbell\n",
      "    position::Vector\n",
      "    angle::Float64\n",
      "    velocity::Vector\n",
      "    omega::Float64\n",
      "    m::Float64\n",
      "    l::Float64\n",
      "    collision_counter::Int64\n",
      "    \n",
      "end\n",
      "\n",
      "show(io::IO, db::dumbbell)= print(io, \"CM: $(db.position); \u03b8: $(round((db.angle)%(2*pi),2)); \"*\n",
      "\"Vcm: $(db.velocity); \u03c9: $(db.omega); m=$(db.m); l=$(db.l); I: $(round(db.m*db.l^2,2))\")\n",
      "\n",
      "\n",
      "function move(db::dumbbell, dt)\n",
      "    db.position += db.velocity*dt\n",
      "    db.angle += db.omega*dt\n",
      "    #db.angle = db.angle%(2pi)\n",
      "end\n",
      "\n",
      "\n",
      "function particle_position(db::dumbbell, part::Int, t=0) # define la posici\u00f3n de la part\u00edcula 'part' al tiempo 't'\n",
      "    x, y = db.position\n",
      "    vx, vy = db.velocity\n",
      "    \u03b8 = db.angle;    \u03c9 = db.omega\n",
      "    l = db.l\n",
      "    \u03b8_f = (\u03b8 + \u03c9*t)%(2pi) \n",
      "    \n",
      "    if part==1\n",
      "        x1 = x + vx*t + l*cos(\u03b8_f)\n",
      "        y1 = y + vy*t + l*sin(\u03b8_f) \n",
      "        \n",
      "        vx1 = vx - l*\u03c9*sin(\u03b8_f)\n",
      "        vy1 = vy + l*\u03c9*cos(\u03b8_f)\n",
      "        return [x1, y1, vx1, vy1]\n",
      "        \n",
      "    elseif part==2\n",
      "        x2 = x + vx*t - l*cos(\u03b8_f)\n",
      "        y2 = y + vy*t - l*sin(\u03b8_f) \n",
      "        \n",
      "        vx2 = vx + l*\u03c9*sin(\u03b8_f)\n",
      "        vy2 = vy - l*\u03c9*cos(\u03b8_f)\n",
      "        \n",
      "        return [x2, y2, vx2, vy2]\n",
      "        \n",
      "    else\n",
      "        println(\"No hay tantas part\u00edculas\")\n",
      "    end\n",
      "end\n",
      "\n",
      "\n",
      "function reset_dummbell(db::dumbbell, original_position = [1., 1.], \n",
      "    original_\u03b8=pi/6, original_velocity = [2.1, 0.6],\n",
      "    original_\u03c9=2.0)\n",
      "    db.position = original_position\n",
      "    db.velocity = original_velocity\n",
      "    db.angle = original_\u03b8\n",
      "    db.omega = original_\u03c9\n",
      "    db.collision_counter = 0;\n",
      "    \n",
      "    return \"Dumbbell reset\"\n",
      "end\n",
      "\n",
      "\n",
      "function ct_approx(db::dumbbell, wall, direction)\n",
      "    # This function returns an *approximation* of the time needed for one of the particles of the dumbbell\n",
      "    # to collide with the walls located at 'w1' and 'w2'. 'direction' specifies the orientation of the walls\n",
      "    #involved: if they are vertical, only the motion on the x axis is relevant, hence, direction=1;\n",
      "    #when they are horizontal, only the motion on the y axis needs to be considered, therefore, direction=2 \n",
      "    #dt=0.01     \n",
      "    err = 1e-6\n",
      "    t_elapsed = 0.\n",
      "    err2 = 0.01\n",
      "    w1 = wall[1]; w2 = wall[2]\n",
      "    \n",
      "    v = db.velocity; l = db.l; \u03c9=db.omega\n",
      "    \n",
      "    # positions of the particles 1 and 2, respectively, along the specified direction\n",
      "    r1 = particle_position(db, 1)[direction]\n",
      "    r2 = particle_position(db, 2)[direction]\n",
      "    \n",
      "    # distances from the both particles to each wall\n",
      "    \n",
      "    d11 = abs(w1-r1); d12 = abs(w1-r2); d21 = abs(w2-r1); d22 =abs(w2-r2)\n",
      "    V = sqrt(norm(v)^2+ (l*\u03c9)^2)\n",
      "    \n",
      "    if db.collision_counter!=0\n",
      "    \n",
      "    distances = sort([d11, d12, d21, d22])\n",
      "    dmin = distances[2]\n",
      "    times = [dmin, 1.]/V\n",
      "        \n",
      "    else\n",
      "        distances = [d11, d12, d21, d22, 1.]\n",
      "        times = distances/V\n",
      "    end\n",
      "\n",
      "    \n",
      "    dt = 0.1*minimum(times)\n",
      "    \n",
      "    \n",
      "    #if (abs(w1-r1)<err2 && abs(w1-r2)<err2) || (abs(w2-r1)<err2 && abs(w2-r2)<err2)\n",
      "    #        dt = 0.001\n",
      "    #end\n",
      "    \n",
      "    while w1-err <= r1 <= w2+err && w1-err <= r2 <= w2+err\n",
      "        \n",
      "        t_elapsed += dt\n",
      "            \n",
      "        r1 = particle_position(db, 1, t_elapsed)[direction]\n",
      "        r2 = particle_position(db, 2, t_elapsed)[direction]\n",
      "        \n",
      "        \n",
      "        \n",
      "    end\n",
      "    # The output is the last time when the condition of both particles being within 'w1' y 'w2'  was fulfilled;\n",
      "    #and the time step used for the approximation  \n",
      "    t_elapsed - dt, dt \n",
      "    \n",
      "end\n",
      "\n",
      "# this function gives the inertia moment of a dummbell with TOTAL mass 'm' and length '2l'\n",
      "inertia_moment(m=1., l=0.2) = m*l^2  \n",
      "\n",
      "function collision_transformation(v_i, \u03c9_i, \u03b1, l=0.2, m=1., I = inertia_moment(1, 0.2))\n",
      "    # with this function, the transformation of the velocity (normal to the wall)\n",
      "    # and the angular velocity after a collision is obtained; \n",
      "    # the input needed are the initial velocities (v_i, \u03c9_i),\n",
      "    # the angle between the angular coordinate of the dumbbell (\u03b8) and the normal to the wall of collission, \u03b1;\n",
      "    # and the mass, length and intertia moment of the dumbbell.\n",
      "    # The output are the new (normal component of the) velocity and angular velocity, v_f, \u03c9_f\n",
      "    \n",
      "    denom = m*l^2 + I*csc(\u03b1)^2\n",
      "    \n",
      "       \n",
      "    v_f = (1 - (2*I*csc(\u03b1)^2)/denom)*v_i - (2*l*I*csc(\u03b1)/denom)*\u03c9_i\n",
      "    \n",
      "    \u03c9_f = (-2*l*m*csc(\u03b1)/denom)*v_i - (1-(2*I*csc(\u03b1)^2)/denom)*\u03c9_i\n",
      "    \n",
      "    \n",
      "    v_f, \u03c9_f\n",
      "end\n",
      "\n",
      "\n",
      "function col_condition(db::dumbbell, i::Int, j::Int, t, wall, direction::Int, t_approx, \u03b4t=0.01)\n",
      "    err = 1e-10\n",
      "    #tapprox = t\n",
      "    #w1 = wall[1]; w2 = wall[2]\n",
      "    w = wall[j]\n",
      "    r = particle_position(db, i, t)[direction]\n",
      "    #t_approx, dt = ct_approx(db, w1, w2, \u03b4t)\n",
      "    \n",
      "    dist = abs(w-r);\n",
      "    #println(r, \"\\t\", dist, \"\\t\", t, \"\\t\", t_approx)\n",
      "    (dist<err && t_approx - \u03b4t < t <= t_approx + \u03b4t)\n",
      "end\n",
      "\n",
      "\n",
      "function directional_collision(db::dumbbell, walls, axis)\n",
      "    vx, vy = db.velocity\n",
      "    \u03b8, \u03c9, l, m = db.angle, db.omega, db.l, db.m\n",
      "    I = inertia_moment(m, l)\n",
      "    w1, w2, = walls\n",
      "    \n",
      "    err = 1e-10\n",
      "               \n",
      "    tapprox, dt = ct_approx(db, walls, axis)\n",
      "    times = Float64[]\n",
      "    \n",
      "    max_iter = 20\n",
      "    \n",
      "    # particle 1 collides with wall 1\n",
      "    \n",
      "    tr1w1 = tapprox\n",
      "    r1w1, v1w1 = particle_position(db, 1, tr1w1)[[axis,axis+2]]\n",
      "    n11=0\n",
      "    while ~col_condition(db, 1, 1, tr1w1, walls, axis, tapprox, dt)\n",
      "        tr1w1 = tr1w1 - (r1w1-w1)/v1w1\n",
      "        r1w1, v1w1 = particle_position(db, 1, tr1w1)[[axis,axis+2]]\n",
      "        #col_condition(db, 1, 1, tr1w1, walls, axis, tapprox, dt)\n",
      "        n11+=1\n",
      "        if n11>max_iter\n",
      "            tr1w1=-1\n",
      "            break\n",
      "        end\n",
      "    end\n",
      "    push!(times, tr1w1)\n",
      "\n",
      "    #particle 1 collides with wall 2\n",
      "    \n",
      "    tr1w2 = tapprox    \n",
      "    r1w2, v1w2 = particle_position(db, 1, tr1w2)[[axis,axis+2]]\n",
      "    n12 = 0\n",
      "    while ~col_condition(db, 1, 2, tr1w2, walls, axis, tapprox, dt)\n",
      "        tr1w2 = tr1w2 - (r1w2-w2)/v1w2\n",
      "        r1w2, v1w2 = particle_position(db, 1, tr1w2)[[axis,axis+2]]\n",
      "        #col_condition(db, 1, 2, tr1w2, walls, axis, tapprox, dt)\n",
      "        n12+=1\n",
      "        if n12>max_iter\n",
      "            tr1w2=-1\n",
      "            break\n",
      "        end\n",
      "    end\n",
      "     push!(times, tr1w2)\n",
      "    \n",
      "    # particle 2 collides with wall 1\n",
      "    \n",
      "    tr2w1 = tapprox\n",
      "    r2w1, v2w1 = particle_position(db, 2, tr2w1)[[axis,axis+2]]\n",
      "    n21=0\n",
      "    while ~col_condition(db, 2, 1, tr2w1, walls, axis, tapprox, dt)\n",
      "        tr2w1 = tr2w1 - (r2w1-w1)/v2w1\n",
      "        r2w1, v2w1 = particle_position(db, 2, tr2w1)[[axis,axis+2]]\n",
      "        n21+=1\n",
      "        if n21>max_iter\n",
      "            tr2w1 = -1\n",
      "            break\n",
      "        end\n",
      "    end\n",
      "    push!(times,tr2w1)\n",
      "    \n",
      "    \n",
      "    #particle 2 collides with wall 2\n",
      "    \n",
      "    tr2w2 = tapprox\n",
      "    r2w2, v2w2 = particle_position(db, 2, tr2w2)[[axis,axis+2]]\n",
      "    n22 = 0\n",
      "    while ~col_condition(db, 2, 2, tr2w2, walls, axis, tapprox, dt)\n",
      "        tr2w2 = tr2w2 - (r2w2-w2)/v2w2\n",
      "        r2w2, v2w2 = particle_position(db, 2, tr2w2)[[axis,axis+2]]\n",
      "        n22+=1\n",
      "        if n22>max_iter\n",
      "            tr2w2=-1\n",
      "            break\n",
      "        end\n",
      "    end\n",
      "    push!(times,tr2w2)\n",
      "        \n",
      "        \n",
      "     \n",
      "   # elegir cu\u00e1l es el tiempo correcto\n",
      "    times = times[times.>0]\n",
      "    if length(times)!=0\n",
      "        tc = minimum(times)\n",
      "    else\n",
      "        return(\"Error  \", db.collision_counter)\n",
      "    end\n",
      "           \n",
      "    \u03b8 = (\u03b8 + \u03c9*tc)%(2pi) # angle position of the dumbbell when the collision occurs\n",
      "\n",
      "    if axis ==1  # collision in the 'x' direction (vertical walls)\n",
      "        if tc==tr1w1 || tc==tr1w2 # the first particle collides\n",
      "            \u03b1 = -\u03b8\n",
      "            part = 1\n",
      "        elseif tc==tr2w1 || tc==tr2w2 # the second particle collides\n",
      "            \u03b1 = \u03b8\n",
      "            part = 2\n",
      "        end\n",
      "        \n",
      "        v_f, \u03c9_f = collision_transformation(vx, \u03c9, \u03b1, l, m, I)\n",
      "        \n",
      "        return [tc, v_f, vy, \u03c9_f, part, axis, tr1w1, tr1w2, tr2w1, tr2w2]\n",
      "        \n",
      "        \n",
      "    elseif axis==2 # collision in the y direction (horizonta walls)\n",
      "        if tc==tr1w1 || tc==tr1w2 # the first particle collides\n",
      "            \u03b1 = pi/2 - \u03b8\n",
      "            part = 1\n",
      "        elseif tc==tr2w1 || tc==tr2w2 # the second particle collides\n",
      "            \u03b1 = \u03b8 - pi/2\n",
      "            part = 2\n",
      "        end\n",
      "        \n",
      "        v_f, \u03c9_f = collision_transformation(vy, \u03c9, \u03b1, l, m, I)\n",
      "        \n",
      "        return [tc, vx, v_f, \u03c9_f, part, axis, tr1w1, tr1w2, tr2w1, tr2w2]\n",
      "        \n",
      "    else\n",
      "        println(\"Incorrect direction\")\n",
      "    end\n",
      "        \n",
      "\n",
      "    \n",
      "end\n",
      "\n",
      "\n",
      "\n",
      "function collision(db::dumbbell, vert_walls = [-3, 3], horiz_walls =[-2, 2])\n",
      "    db.collision_counter += 1\n",
      "    #\u03b4t = 0.005\n",
      "    tcx, vx_fx, vy_fx, \u03c9_fx, part_x = directional_collision(db, vert_walls, 1)[1:5]\n",
      "    tcy, vx_fy, vy_fy, \u03c9_fy, part_y = directional_collision(db, horiz_walls, 2) [1:5]\n",
      "    \n",
      "    x_0, y_0 = db.position; \u03b8_0 = db.angle\n",
      "    vx_0, vy_0 = db.velocity; \u03c9_0 = db.omega\n",
      "    l = db.l; m = db.m; I = inertia_moment(m,l)\n",
      "    \n",
      "    \n",
      "    # vector del espacio fase inicial (antes de que la mancuerna se mueva hacia el punto de colisi\u00f3n)\n",
      "    \u0393_0 = [x_0, y_0, \u03b8_0, vx_0, vy_0, I*\u03c9_0]\n",
      "    \n",
      "    if tcx < tcy && tcx >0\n",
      "        tc, vx_new, vy_new, \u03c9_new, part = tcx, vx_fx, vy_fx, \u03c9_fx, part_x\n",
      "        wall = \"vertical\"\n",
      "        \n",
      "    elseif tcy < tcx && tcy>0\n",
      "        tc, vx_new, vy_new, \u03c9_new, part = tcy, vx_fy, vy_fy, \u03c9_fy, part_y\n",
      "        wall = \"horizontal\"\n",
      "    else\n",
      "        return \"Error\"\n",
      "        \n",
      "    end\n",
      "    \n",
      "    move(db,tc) # the dumbbell is moved to the collision point\n",
      "           \n",
      "    db.velocity = [vx_new, vy_new]\n",
      "    db.omega = \u03c9_new\n",
      "    x_f, y_f = db.position; \u03b8_f = db.angle\n",
      "    \n",
      "    #println(db)\n",
      "    \n",
      "    \u0393_f = [x_f, y_f, \u03b8_f, vx_new, vy_new, I*\u03c9_new]\n",
      "    \n",
      "    return (\u0393_0, \u0393_f, wall, part, tc)\n",
      "    \n",
      "end\n",
      "\n",
      "function next_collision(db::dumbbell, vert_walls = [-3, 3], horiz_walls =[-2, 2])\n",
      "    \n",
      "    tcx, vx_fx, vy_fx, \u03c9_fx, part_x = directional_collision(db, vert_walls, 1)[1:5]\n",
      "    tcy, vx_fy, vy_fy, \u03c9_fy, part_y = directional_collision(db, horiz_walls, 2)[1:5]\n",
      "    \n",
      "    x_0, y_0 = db.position; \u03b8_0 = db.angle\n",
      "    vx_0, vy_0 = db.velocity; \u03c9_0 = db.omega\n",
      "    l = db.l; m = db.m; I = inertia_moment(m,l)\n",
      "    \n",
      "    if tcx < tcy && tcx >0\n",
      "        tc, vx_new, vy_new, \u03c9_new, part = tcx, vx_fx, vy_fx, \u03c9_fx, part_x\n",
      "        wall = \"vertical\"\n",
      "        \n",
      "    elseif tcy < tcx && tcy>0\n",
      "        tc, vx_new, vy_new, \u03c9_new, part = tcy, vx_fy, vy_fy, \u03c9_fy, part_y\n",
      "        wall = \"horizontal\"\n",
      "    else\n",
      "        return \"Error\"\n",
      "    end\n",
      "        \n",
      "    #part = \n",
      "    x1, y1 = particle_position(db, 1, tc)\n",
      "    x2, y2 = particle_position(db, 2, tc)\n",
      "    \n",
      "    new_r = db.position + db.velocity*tc\n",
      "    new_\u03b8 = (db.angle + db.omega*tc)%(2pi)\n",
      "    new_v = [vx_new, vy_new]\n",
      "    new_\u03c9 = \u03c9_new\n",
      "\n",
      "    new_db = dumbbell(new_r, new_\u03b8, new_v, new_\u03c9, db.m, db.l, 0)\n",
      "    \n",
      "    return new_db, [tc, x1, y1, x2, y2]\n",
      "\n",
      "end\n",
      "    \n",
      "\n",
      "\n",
      "\n",
      "manc = dumbbell([1., 1.], pi/6, [2.1, 0.6], 2., 1, 0.2, 0)\n",
      "\n",
      "manc"
     ],
     "language": "python",
     "metadata": {},
     "outputs": [
      {
       "metadata": {},
       "output_type": "pyout",
       "prompt_number": 130,
       "text": [
        "CM: [1.0,1.0]; \u03b8: 0.52; Vcm: [2.1,0.6]; \u03c9: 2.0; m=1.0; l=0.2; I: 0.04"
       ]
      }
     ],
     "prompt_number": 130
    },
    {
     "cell_type": "code",
     "collapsed": false,
     "input": [
      "ct_approx(manc,[-3,3], 1)"
     ],
     "language": "python",
     "metadata": {},
     "outputs": [
      {
       "metadata": {},
       "output_type": "pyout",
       "prompt_number": 131,
       "text": [
        "(0.8557169633109857,0.04503773491110449)"
       ]
      }
     ],
     "prompt_number": 131
    },
    {
     "cell_type": "code",
     "collapsed": false,
     "input": [
      "reset_dummbell(manc)\n",
      "collision(manc)\n",
      "manc, manc.angle, manc.omega"
     ],
     "language": "python",
     "metadata": {},
     "outputs": [
      {
       "metadata": {},
       "output_type": "pyout",
       "prompt_number": 132,
       "text": [
        "(CM: [2.86656,1.5333]; \u03b8: 2.3; Vcm: [-0.984541,0.6]; \u03c9: -9.487726922156016; m=1.0; l=0.2; I: 0.04,2.3012705909338376,-9.487726922156016)"
       ]
      }
     ],
     "prompt_number": 132
    },
    {
     "cell_type": "code",
     "collapsed": false,
     "input": [
      "reset_dummbell(manc)\n",
      "\n",
      "wx1 = -3; wx2 =3; wy1 = -2; wy2 = 2; err = 1e-8\n",
      "\n",
      "I = inertia_moment(manc.m, manc.l)\n",
      "\n",
      "for i in 1:100000\n",
      "    tc = collision(manc)[end]\n",
      "    x1, y1 = particle_position(manc,1)\n",
      "    x2, y2 = particle_position(manc,2)\n",
      "    if i%2000==0\n",
      "        println(x1,\"\\t\", y1, \"\\t\", x2, \"\\t\", y2, \"\\t ct=\",tc, \"\\t cc=\", manc.collision_counter)\n",
      "        #println(manc.velocity, norm(manc.velocity)^2 + I*manc.omega^2)\n",
      "        println(\"*******\")\n",
      "    end\n",
      "    \n",
      "    if (abs(x1-wx1)>err && abs(x1-wx2)>err) && (abs(x2-wx1)>err && abs(x2-wx2)>err) &&\n",
      "        (abs(y1-wy1)>err &&  abs(y1-wy2)>err) &&  (abs(y2-wy1)>err &&  abs(y2-wy2)>err)\n",
      "        \n",
      "        println(\"#####\")\n",
      "        println(\"Error \\t\", x1,\"\\t\", y1, \"\\t\", x2, \"\\t\", y2, \"\\t cc=\", manc.collision_counter)\n",
      "    end\n",
      "    \n",
      "end"
     ],
     "language": "python",
     "metadata": {},
     "outputs": [
      {
       "output_type": "stream",
       "stream": "stdout",
       "text": [
        "-2"
       ]
      },
      {
       "output_type": "stream",
       "stream": "stdout",
       "text": [
        ".663034471332609\t-0.342188415113717\t-3.0000000000000027\t-0.1266559755833664\t ct=2.104955237758901\t cc=2000\n",
        "*******\n",
        "2"
       ]
      },
      {
       "output_type": "stream",
       "stream": "stdout",
       "text": [
        ".7451645943136898\t-1.6014521037050355\t2.999999999999898\t-1.2931358439833895\t ct=0.12235607707433241\t cc=4000\n",
        "*******\n",
        "2"
       ]
      },
      {
       "output_type": "stream",
       "stream": "stdout",
       "text": [
        ".881806684753921\t-1.999999999966871\t2.5938984739240114\t-1.7223151747842187\t ct=0.10057510050637986\t cc=6000\n",
        "*******\n",
        "-"
       ]
      },
      {
       "output_type": "stream",
       "stream": "stdout",
       "text": [
        "1.7268438627476201\t1.9774365306066628\t-1.3274807574800698\t1.9999999999998967\t ct=0.021788809395526746\t cc=8000\n",
        "*******\n",
        "2"
       ]
      },
      {
       "output_type": "stream",
       "stream": "stdout",
       "text": [
        ".9999999999901306\t-0.3656278626178458\t2.9170230714519416\t0.02567103762385986\t ct=1.3271760920200109\t cc=10000\n",
        "*******\n",
        "2"
       ]
      },
      {
       "output_type": "stream",
       "stream": "stdout",
       "text": [
        ".757473533632443\t-0.16155848090119274\t2.9999999999615445\t0.15653099256487324\t ct=2.3711693905568376\t cc=12000\n",
        "*******\n",
        "2"
       ]
      },
      {
       "output_type": "stream",
       "stream": "stdout",
       "text": [
        ".310970464004453\t1.6165388234574447\t2.197139334322835\t2.000000000000008\t ct=0.41259327606928076\t cc=14000\n",
        "*******\n",
        "-"
       ]
      },
      {
       "output_type": "stream",
       "stream": "stdout",
       "text": [
        "1.1247640102226364\t1.999999999997764\t-0.7297855428953848\t1.9368176421134993\t ct=2.4520575368928825\t cc=16000\n",
        "*******\n",
        "2"
       ]
      },
      {
       "output_type": "stream",
       "stream": "stdout",
       "text": [
        ".8831001296517305\t-1.9999999999932516\t2.9558918418552325\t-1.6066790539015359\t ct=0.02700355725535982\t cc=18000\n",
        "*******\n"
       ]
      },
      {
       "ename": "LoadError",
       "evalue": "BoundsError()\nwhile loading In[151], in expression starting on line 7",
       "output_type": "pyerr",
       "traceback": [
        "BoundsError()\nwhile loading In[151], in expression starting on line 7",
        " in getindex_3B_463 at /usr/bin/../lib/i386-linux-gnu/julia/sys.so",
        " in collision at In[130]:294",
        " in collision at In[130]:291",
        " in anonymous at no file:8"
       ]
      }
     ],
     "prompt_number": 151
    },
    {
     "cell_type": "code",
     "collapsed": false,
     "input": [
      "manc.collision_counter"
     ],
     "language": "python",
     "metadata": {},
     "outputs": [
      {
       "metadata": {},
       "output_type": "pyout",
       "prompt_number": 152,
       "text": [
        "19959"
       ]
      }
     ],
     "prompt_number": 152
    },
    {
     "cell_type": "code",
     "collapsed": false,
     "input": [
      "ct_approx(manc, [-3,3], 1), ct_approx(manc, [-2,2], 2)"
     ],
     "language": "python",
     "metadata": {},
     "outputs": [
      {
       "metadata": {},
       "output_type": "pyout",
       "prompt_number": 153,
       "text": [
        "((6.485433827202803,0.04503773491113046),(0.0022170139075066452,3.3951208384481426e-6))"
       ]
      }
     ],
     "prompt_number": 153
    },
    {
     "cell_type": "code",
     "collapsed": false,
     "input": [
      "particle_position(manc,1)[2], particle_position(manc,2)[2]"
     ],
     "language": "python",
     "metadata": {},
     "outputs": [
      {
       "metadata": {},
       "output_type": "pyout",
       "prompt_number": 157,
       "text": [
        "(2.000000000000032,1.9999246160837096)"
       ]
      }
     ],
     "prompt_number": 157
    },
    {
     "cell_type": "code",
     "collapsed": false,
     "input": [
      "directional_collision(manc, [-3,3], 1)"
     ],
     "language": "python",
     "metadata": {},
     "outputs": [
      {
       "metadata": {},
       "output_type": "pyout",
       "prompt_number": 155,
       "text": [
        "10-element Array{Float64,1}:\n",
        "  6.49571\n",
        "  1.36478\n",
        " -1.50273\n",
        " -4.49774\n",
        "  2.0    \n",
        "  1.0    \n",
        " -1.0    \n",
        " -1.0    \n",
        "  6.49571\n",
        " -1.0    "
       ]
      }
     ],
     "prompt_number": 155
    },
    {
     "cell_type": "code",
     "collapsed": false,
     "input": [
      "directional_collision(manc, [-2,2],2)"
     ],
     "language": "python",
     "metadata": {},
     "outputs": [
      {
       "metadata": {},
       "output_type": "pyout",
       "prompt_number": 154,
       "text": [
        "(\"Error  \",19959)"
       ]
      }
     ],
     "prompt_number": 154
    },
    {
     "cell_type": "code",
     "collapsed": false,
     "input": [
      "for t in [0:0.0005:0.0025]\n",
      "    println(\"t=$t \\t\", particle_position(manc,1,t)[2],\"\\t\", particle_position(manc,2,t)[2])\n",
      "end"
     ],
     "language": "python",
     "metadata": {},
     "outputs": [
      {
       "output_type": "stream",
       "stream": "stdout",
       "text": [
        "t=0.0 \t2"
       ]
      },
      {
       "output_type": "stream",
       "stream": "stdout",
       "text": [
        ".000000000000032\t1.9999246160837096\n",
        "t=0.0005 \t1.998480018632415\t1.9999418668188103\n",
        "t=0.001 \t1.9969600480600427\t1.999959106758666\n",
        "t=0.0015 \t1.9954400996345933\t1.9999763245515982\n",
        "t=0.002 \t1.9939201847076915\t1.9999935088459835\n",
        "t=0.0025 \t1.992400314630194\t2.0000106482909645\n"
       ]
      }
     ],
     "prompt_number": 176
    },
    {
     "cell_type": "code",
     "collapsed": false,
     "input": [
      "tap, dt = ct_approx(manc, [-2,2],2)\n",
      "w1=2\n",
      "t1, t2 = tap, tap\n",
      "\n",
      "y1, v1 = particle_position(manc,1,t1)[[2,4]]\n",
      "n1 = 0\n",
      "\n",
      "println(tap, \"\\t \\t\", dt, \"\\n\")\n",
      "while ~col_condition(manc,1,1,[-2,2],t1,2,tap,dt)\n",
      "    t1 = t1 - (y1-w1)/v1\n",
      "    y1, v1 = particle_position(manc,1,t1)[[2,4]]\n",
      "    n1 += 1\n",
      "    #println(n1, \"    \", y1, \"     \", t1, \"   Error= \", abs(y1-w1),\" \\t\", tap-dt<t1)\n",
      "    if n1>10\n",
      "        break\n",
      "    end\n",
      "end\n",
      "println(\"#### \\n ####\")\n",
      "y2, v2 = particle_position(manc,2,t2)[[2,4]]\n",
      "n2 = 0\n",
      "while ~col_condition(manc,2,1,[-2,2],t2,2,tap,dt)\n",
      "    t2 = t2 - (y2-w1)/v2\n",
      "    y2, v2 = particle_position(manc,2,t2)[[2,4]]\n",
      "    n2 += 1\n",
      "    println(n2, \" \\t   \", t2, \"  \\t  \", y2, \" \\t  Error= \", abs(y2-w1),\"  \\t\", tap/t2<0.99 || t2/tap<0.99)\n",
      "    if n2>10\n",
      "        break\n",
      "    end\n",
      "end"
     ],
     "language": "python",
     "metadata": {},
     "outputs": [
      {
       "output_type": "stream",
       "stream": "stdout",
       "text": [
        "0.0"
       ]
      },
      {
       "output_type": "stream",
       "stream": "stdout",
       "text": [
        "022170139075066452\t \t3.3951208384481426e-6\n",
        "\n",
        "#### \n",
        " ####\n",
        "1 \t   0.0021891890172443685  \t  1.999999999923246 \t  Error= 7.675393653983065e-11  \ttrue\n",
        "2 \t   0.0021891912554932607  \t  1.9999999999999942 \t  Error= 5.773159728050814e-15  \ttrue\n",
        "3 \t   0.002189191255661614  \t  2.0000000000000138 \t  Error= 1.3766765505351941e-14  \ttrue\n",
        "4 \t   0.0021891912552601564  \t  1.9999999999999807 \t  Error= 1.9317880628477724e-14  \ttrue\n",
        "5 \t   0.002189191255823492  \t  2.0000000000000435 \t  Error= 4.3520742565306136e-14  \ttrue\n",
        "6 \t   0.002189191254554368  \t  1.99999999999995 \t  Error= 4.9960036108132044e-14  \ttrue\n",
        "7 \t   0.0021891912560112704  \t  2.000000000000034 \t  Error= 3.419486915845482e-14  \ttrue\n",
        "8 \t   0.0021891912550141015  \t  1.999999999999987 \t  Error= 1.3100631690576847e-14  \ttrue\n",
        "9 \t   0.0021891912553961335  \t  2.0000000000000493 \t  Error= 4.929390229335695e-14  \ttrue\n",
        "10 \t   0.0021891912539586567  \t  1.999999999999936 \t  Error= 6.394884621840902e-14  \ttrue\n",
        "11 \t   0.002189191255823492  \t  2.0000000000000435 \t  Error= 4.3520742565306136e-14  \ttrue\n"
       ]
      }
     ],
     "prompt_number": 199
    },
    {
     "cell_type": "code",
     "collapsed": false,
     "input": [
      "tap/t2, t2/tap"
     ],
     "language": "python",
     "metadata": {},
     "outputs": [
      {
       "metadata": {},
       "output_type": "pyout",
       "prompt_number": 195,
       "text": [
        "(1.0127091004996216,0.9874503937079745)"
       ]
      }
     ],
     "prompt_number": 195
    }
   ],
   "metadata": {}
  }
 ]
}