{
 "metadata": {
  "name": "",
  "signature": "sha256:2ef88c0c163d47aa016aed76b2d20efb3e37cf49de36b74c81727aa0d347e80e"
 },
 "nbformat": 3,
 "nbformat_minor": 0,
 "worksheets": [
  {
   "cells": [
    {
     "cell_type": "code",
     "collapsed": false,
     "input": [
      "from Clase_Mancuerna import Mancuerna as Mc\n",
      "\n",
      "from numpy import sin, cos, pi\n",
      "\n",
      "import numpy as np"
     ],
     "language": "python",
     "metadata": {},
     "outputs": [],
     "prompt_number": 1
    },
    {
     "cell_type": "code",
     "collapsed": false,
     "input": [
      "manc = Mc()\n",
      "manc"
     ],
     "language": "python",
     "metadata": {},
     "outputs": [
      {
       "metadata": {},
       "output_type": "pyout",
       "prompt_number": 2,
       "text": [
        "Rcm(1.0, 1.0), Vcm(2.1, 0.6), theta=0.523598775598, omega=2.0"
       ]
      }
     ],
     "prompt_number": 2
    },
    {
     "cell_type": "code",
     "collapsed": false,
     "input": [
      "manc.reset()\n",
      "manc.collision()\n",
      "manc.omega"
     ],
     "language": "python",
     "metadata": {},
     "outputs": [
      {
       "metadata": {},
       "output_type": "pyout",
       "prompt_number": 10,
       "text": [
        "-9.4877269221585063"
       ]
      }
     ],
     "prompt_number": 10
    },
    {
     "cell_type": "code",
     "collapsed": false,
     "input": [
      "manc.reset()\n",
      "\n",
      "for i in range(5):\n",
      "    print(manc.collision()[1:])\n",
      "    print(\"\\n\")"
     ],
     "language": "python",
     "metadata": {},
     "outputs": [
      {
       "output_type": "stream",
       "stream": "stdout",
       "text": [
        "(array([ 2.86655541,  1.53330154,  2.30127059, -0.98454127,  0.6       ,\n",
        "       -0.37950908]), 'v', 2.0, 0.88883590766747478)\n",
        "\n",
        "\n",
        "(array([ 2.25203348,  1.90780403,  2.66249363, -0.98454127, -1.95541816,\n",
        "        0.07403196]), 'h', 1.0, 0.62411071679671548)"
       ]
      },
      {
       "output_type": "stream",
       "stream": "stdout",
       "text": [
        "\n",
        "\n",
        "\n",
        "(array([ 0.29108109, -1.98688482,  0.06562299, -0.98454127,  0.37437236,\n",
        "       -0.39092321]), 'h', 2.0, 1.9917006674504687)"
       ]
      },
      {
       "output_type": "stream",
       "stream": "stdout",
       "text": [
        "\n",
        "\n",
        "\n",
        "(array([ 0.27471403, -1.98066124,  6.18634018, -0.98454127,  1.95283612,\n",
        "       -0.07670974]), 'h', 1.0, 0.016618136640766886)\n",
        "\n",
        "\n",
        "(array([-1.66471036,  1.8661841 ,  2.40862314, -0.98454127, -0.93041963,\n",
        "        0.35185212]), 'h', 1.0, 1.9698674655953354)"
       ]
      },
      {
       "output_type": "stream",
       "stream": "stdout",
       "text": [
        "\n",
        "\n",
        "\n"
       ]
      }
     ],
     "prompt_number": 11
    },
    {
     "cell_type": "code",
     "collapsed": false,
     "input": [
      "manc.reset()\n",
      "\n",
      "for i in range(5):\n",
      "    print(manc.collision()[1:])\n",
      "    En = manc.vx**2 + manc.vy**2 + 0.2**2*manc.omega**2\n",
      "    print(En)\n",
      "    print(\"\\n\")"
     ],
     "language": "python",
     "metadata": {},
     "outputs": [
      {
       "output_type": "stream",
       "stream": "stdout",
       "text": [
        "(array([ 2.86655541,  1.53330154,  2.30127059, -0.98454127,  0.6       ,\n",
        "       -0.37950908]), 'v', 2.0, 0.88883590766747478)\n",
        "4.93\n",
        "\n",
        "\n",
        "(array([ 2.25203348,  1.90780403,  2.66249363, -0.98454127, -1.95541816,\n",
        "        0.07403196]), 'h', 1.0, 0.62411071679671548)"
       ]
      },
      {
       "output_type": "stream",
       "stream": "stdout",
       "text": [
        "\n",
        "4.93\n",
        "\n",
        "\n",
        "(array([ 0.29108109, -1.98688482,  0.06562299, -0.98454127,  0.37437236,\n",
        "       -0.39092321]), 'h', 2.0, 1.9917006674504687)"
       ]
      },
      {
       "output_type": "stream",
       "stream": "stdout",
       "text": [
        "\n",
        "4.93\n",
        "\n",
        "\n",
        "(array([ 0.27471403, -1.98066124,  6.18634018, -0.98454127,  1.95283612,\n",
        "       -0.07670974]), 'h', 1.0, 0.016618136640766886)\n",
        "4.93\n",
        "\n",
        "\n",
        "(array([-1.66471036,  1.8661841 ,  2.40862314, -0.98454127, -0.93041963,\n",
        "        0.35185212]), 'h', 1.0, 1.9698674655953354)"
       ]
      },
      {
       "output_type": "stream",
       "stream": "stdout",
       "text": [
        "\n",
        "4.93\n",
        "\n",
        "\n"
       ]
      }
     ],
     "prompt_number": 14
    },
    {
     "cell_type": "code",
     "collapsed": false,
     "input": [
      "manc.t_approx(-3, 3, 0), manc.t_approx(-2, 2, 1)"
     ],
     "language": "python",
     "metadata": {},
     "outputs": [
      {
       "metadata": {},
       "output_type": "pyout",
       "prompt_number": 4,
       "text": [
        "((0.8850000000000007, 0.005), (1.5249999999999895, 0.005))"
       ]
      }
     ],
     "prompt_number": 4
    },
    {
     "cell_type": "code",
     "collapsed": false,
     "input": [
      "manc.vcol()"
     ],
     "language": "python",
     "metadata": {},
     "outputs": [
      {
       "metadata": {},
       "output_type": "pyout",
       "prompt_number": 5,
       "text": [
        "array([  8.88835908e-01,  -9.84541271e-01,   6.00000000e-01,\n",
        "        -9.48772692e+00,   2.00000000e+00,   5.00000000e+04,\n",
        "         5.00000000e+04,   5.00000000e+04,   8.88835908e-01])"
       ]
      }
     ],
     "prompt_number": 5
    },
    {
     "cell_type": "code",
     "collapsed": false,
     "input": [
      "manc.hcol()"
     ],
     "language": "python",
     "metadata": {},
     "outputs": [
      {
       "metadata": {},
       "output_type": "pyout",
       "prompt_number": 6,
       "text": [
        "array([  1.52630973e+00,   2.10000000e+00,  -4.56467264e-01,\n",
        "        -2.79122570e+00,   2.00000000e+00,   5.00000000e+04,\n",
        "         5.00000000e+04,   5.00000000e+04,   1.52630973e+00])"
       ]
      }
     ],
     "prompt_number": 6
    },
    {
     "cell_type": "code",
     "collapsed": false,
     "input": [
      "manc.reset()\n",
      "manc.collision()\n",
      "\n",
      "print(manc.vcol())\n",
      "print(manc.hcol())"
     ],
     "language": "python",
     "metadata": {},
     "outputs": [
      {
       "output_type": "stream",
       "stream": "stdout",
       "text": [
        "[  5.80023524e+00   2.13698785e+00   6.00000000e-01   2.86483399e-01\n",
        "   1.00000000e+00   5.80023524e+00   5.00000000e+04   5.00000000e+04\n",
        "   5.00000000e+04]\n",
        "[  6.24110717e-01  -9.84541271e-01  -1.95541816e+00   1.85079910e+00\n",
        "   1.00000000e+00   5.00000000e+04   6.24110717e-01   5.00000000e+04\n",
        "   5.00000000e+04]\n"
       ]
      }
     ],
     "prompt_number": 15
    },
    {
     "cell_type": "code",
     "collapsed": false,
     "input": [
      "manc.reset()\n",
      "\n",
      "for i in range(4):\n",
      "        tc = manc.collision()[-1]\n",
      "        x1, y1 = manc.part(1)[0:2]\n",
      "        x2, y2 = manc.part(2)[0:2]\n",
      "        \n",
      "        print x1, y1, x2, y2, tc, manc.cc"
     ],
     "language": "python",
     "metadata": {},
     "outputs": [
      {
       "output_type": "stream",
       "stream": "stdout",
       "text": [
        "2.7331366086 1.68238528217 2.99985586091 1.38428992754 0.888835907667 1\n",
        "2.07450338749"
       ]
      },
      {
       "output_type": "stream",
       "stream": "stdout",
       "text": [
        " 1.99990516533 2.42948180332 1.81554051498 0.624110716797 2\n",
        "0.490645547296"
       ]
      },
      {
       "output_type": "stream",
       "stream": "stdout",
       "text": [
        " -1.97377895065 0.0915049999734 -1.99998626801 1.99170066745 3\n",
        "0.473767969162 -1.99998631626 0.0756429451741 -1.96130214282 0.0166181366408 4\n"
       ]
      }
     ],
     "prompt_number": 16
    }
   ],
   "metadata": {}
  }
 ]
}